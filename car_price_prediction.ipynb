{
 "cells": [
  {
   "cell_type": "code",
   "execution_count": 2,
   "metadata": {},
   "outputs": [],
   "source": [
    "import pandas as pd\n",
    "import numpy as np\n",
    "\n",
    "import seaborn as sns\n",
    "import matplotlib as mpl\n",
    "import matplotlib.pyplot as plt\n",
    "%matplotlib inline\n",
    "\n",
    "from decimal import Decimal\n",
    "from scipy import stats\n",
    "from scipy.stats import norm, skew\n",
    "\n",
    "from sklearn.preprocessing import MinMaxScaler,LabelEncoder,RobustScaler\n",
    "from sklearn.model_selection import train_test_split, KFold, cross_val_score, GridSearchCV\n",
    "from sklearn.metrics import mean_absolute_error, mean_squared_error, r2_score\n",
    "from sklearn.externals import joblib\n",
    "\n",
    "from sklearn.ensemble import RandomForestRegressor, GradientBoostingRegressor, AdaBoostRegressor\n",
    "\n",
    "import xgboost as xgb\n",
    "import lightgbm as lgb\n",
    "\n",
    "from sklearn.decomposition import PCA\n",
    "from sklearn.tree import DecisionTreeRegressor\n",
    "from sklearn.linear_model import LinearRegression\n",
    "from sklearn.linear_model import Ridge \n",
    "\n",
    "from mlxtend.regressor import StackingRegressor"
   ]
  },
  {
   "cell_type": "code",
   "execution_count": 30,
   "metadata": {},
   "outputs": [],
   "source": [
    "from sklearn.metrics import classification_report"
   ]
  },
  {
   "cell_type": "code",
   "execution_count": 3,
   "metadata": {},
   "outputs": [],
   "source": [
    "import warnings\n",
    "def ignore_warn(*args, **kwargs):\n",
    "    pass\n",
    "warnings.warn = ignore_warn"
   ]
  },
  {
   "cell_type": "code",
   "execution_count": 4,
   "metadata": {},
   "outputs": [],
   "source": [
    "file = pd.ExcelFile('../Datasets/carprices.xlsx')\n",
    "df_input = file.parse('Sheet4')"
   ]
  },
  {
   "cell_type": "code",
   "execution_count": 5,
   "metadata": {},
   "outputs": [],
   "source": [
    "indata = df_input.copy(deep=False)"
   ]
  },
  {
   "cell_type": "code",
   "execution_count": 6,
   "metadata": {},
   "outputs": [
    {
     "data": {
      "text/html": [
       "<div>\n",
       "<style scoped>\n",
       "    .dataframe tbody tr th:only-of-type {\n",
       "        vertical-align: middle;\n",
       "    }\n",
       "\n",
       "    .dataframe tbody tr th {\n",
       "        vertical-align: top;\n",
       "    }\n",
       "\n",
       "    .dataframe thead th {\n",
       "        text-align: right;\n",
       "    }\n",
       "</style>\n",
       "<table border=\"1\" class=\"dataframe\">\n",
       "  <thead>\n",
       "    <tr style=\"text-align: right;\">\n",
       "      <th></th>\n",
       "      <th>MMV</th>\n",
       "      <th>Make</th>\n",
       "      <th>Model</th>\n",
       "      <th>Variant</th>\n",
       "      <th>Type</th>\n",
       "      <th>Fuel Type</th>\n",
       "      <th>Age</th>\n",
       "      <th>Transmission</th>\n",
       "      <th>Color</th>\n",
       "      <th>Kms</th>\n",
       "      <th>No of Owner</th>\n",
       "      <th>Heath score</th>\n",
       "      <th>price score</th>\n",
       "      <th>on road price</th>\n",
       "      <th>Current Price</th>\n",
       "      <th>Dep</th>\n",
       "    </tr>\n",
       "  </thead>\n",
       "  <tbody>\n",
       "    <tr>\n",
       "      <th>0</th>\n",
       "      <td>HyundaiI10Sportz 1.2</td>\n",
       "      <td>Hyundai</td>\n",
       "      <td>I10</td>\n",
       "      <td>Sportz 1.2</td>\n",
       "      <td>Hatchback</td>\n",
       "      <td>Petrol</td>\n",
       "      <td>3</td>\n",
       "      <td>Manual</td>\n",
       "      <td>White</td>\n",
       "      <td>12000</td>\n",
       "      <td>1</td>\n",
       "      <td>8.5</td>\n",
       "      <td>8.8</td>\n",
       "      <td>537849.665</td>\n",
       "      <td>338352.0</td>\n",
       "      <td>37.092</td>\n",
       "    </tr>\n",
       "    <tr>\n",
       "      <th>1</th>\n",
       "      <td>HyundaiI20Magna (O) 1.2</td>\n",
       "      <td>Hyundai</td>\n",
       "      <td>I20</td>\n",
       "      <td>Magna (O) 1.2</td>\n",
       "      <td>Hatchback</td>\n",
       "      <td>Petrol</td>\n",
       "      <td>9</td>\n",
       "      <td>Manual</td>\n",
       "      <td>Beige</td>\n",
       "      <td>68000</td>\n",
       "      <td>1</td>\n",
       "      <td>5.0</td>\n",
       "      <td>7.3</td>\n",
       "      <td>613862.680</td>\n",
       "      <td>189200.0</td>\n",
       "      <td>69.179</td>\n",
       "    </tr>\n",
       "    <tr>\n",
       "      <th>2</th>\n",
       "      <td>HyundaiI20Sportz 1.2</td>\n",
       "      <td>Hyundai</td>\n",
       "      <td>I20</td>\n",
       "      <td>Sportz 1.2</td>\n",
       "      <td>Hatchback</td>\n",
       "      <td>Petrol</td>\n",
       "      <td>8</td>\n",
       "      <td>Manual</td>\n",
       "      <td>White</td>\n",
       "      <td>31143</td>\n",
       "      <td>1</td>\n",
       "      <td>6.2</td>\n",
       "      <td>4.6</td>\n",
       "      <td>678358.572</td>\n",
       "      <td>347568.0</td>\n",
       "      <td>48.763</td>\n",
       "    </tr>\n",
       "    <tr>\n",
       "      <th>3</th>\n",
       "      <td>HyundaiNeo Fluidic Elantra1.6SxAtCrdi</td>\n",
       "      <td>Hyundai</td>\n",
       "      <td>Neo Fluidic Elantra</td>\n",
       "      <td>1.6SxAtCrdi</td>\n",
       "      <td>Sedan</td>\n",
       "      <td>Diesel</td>\n",
       "      <td>2</td>\n",
       "      <td>Automatic</td>\n",
       "      <td>Silver</td>\n",
       "      <td>6000</td>\n",
       "      <td>1</td>\n",
       "      <td>8.5</td>\n",
       "      <td>7.9</td>\n",
       "      <td>2228480.499</td>\n",
       "      <td>1629250.0</td>\n",
       "      <td>26.890</td>\n",
       "    </tr>\n",
       "    <tr>\n",
       "      <th>4</th>\n",
       "      <td>HyundaiSantro XingXo</td>\n",
       "      <td>Hyundai</td>\n",
       "      <td>Santro Xing</td>\n",
       "      <td>Xo</td>\n",
       "      <td>Hatchback</td>\n",
       "      <td>Petrol</td>\n",
       "      <td>11</td>\n",
       "      <td>Manual</td>\n",
       "      <td>Golden</td>\n",
       "      <td>100000</td>\n",
       "      <td>2</td>\n",
       "      <td>4.3</td>\n",
       "      <td>9.9</td>\n",
       "      <td>453719.368</td>\n",
       "      <td>86240.0</td>\n",
       "      <td>80.993</td>\n",
       "    </tr>\n",
       "  </tbody>\n",
       "</table>\n",
       "</div>"
      ],
      "text/plain": [
       "                                     MMV     Make                Model  \\\n",
       "0                   HyundaiI10Sportz 1.2  Hyundai                  I10   \n",
       "1                HyundaiI20Magna (O) 1.2  Hyundai                  I20   \n",
       "2                   HyundaiI20Sportz 1.2  Hyundai                  I20   \n",
       "3  HyundaiNeo Fluidic Elantra1.6SxAtCrdi  Hyundai  Neo Fluidic Elantra   \n",
       "4                   HyundaiSantro XingXo  Hyundai          Santro Xing   \n",
       "\n",
       "         Variant       Type Fuel Type  Age Transmission   Color     Kms  \\\n",
       "0     Sportz 1.2  Hatchback    Petrol    3       Manual   White   12000   \n",
       "1  Magna (O) 1.2  Hatchback    Petrol    9       Manual   Beige   68000   \n",
       "2     Sportz 1.2  Hatchback    Petrol    8       Manual   White   31143   \n",
       "3    1.6SxAtCrdi      Sedan    Diesel    2    Automatic  Silver    6000   \n",
       "4             Xo  Hatchback    Petrol   11       Manual  Golden  100000   \n",
       "\n",
       "   No of Owner  Heath score  price score  on road price  Current Price     Dep  \n",
       "0            1          8.5          8.8     537849.665       338352.0  37.092  \n",
       "1            1          5.0          7.3     613862.680       189200.0  69.179  \n",
       "2            1          6.2          4.6     678358.572       347568.0  48.763  \n",
       "3            1          8.5          7.9    2228480.499      1629250.0  26.890  \n",
       "4            2          4.3          9.9     453719.368        86240.0  80.993  "
      ]
     },
     "execution_count": 6,
     "metadata": {},
     "output_type": "execute_result"
    }
   ],
   "source": [
    "indata.head().round(3)"
   ]
  },
  {
   "cell_type": "code",
   "execution_count": 6,
   "metadata": {},
   "outputs": [
    {
     "data": {
      "text/plain": [
       "(3879, 16)"
      ]
     },
     "execution_count": 6,
     "metadata": {},
     "output_type": "execute_result"
    }
   ],
   "source": [
    "indata.shape"
   ]
  },
  {
   "cell_type": "code",
   "execution_count": 7,
   "metadata": {},
   "outputs": [
    {
     "data": {
      "text/plain": [
       "Index(['MMV', 'Make', 'Model', 'Variant', 'Type', 'Fuel Type', 'Age',\n",
       "       'Transmission', 'Color', 'Kms', 'No of Owner', 'Heath score',\n",
       "       'price score', 'on road price', 'Current Price', 'Dep'],\n",
       "      dtype='object')"
      ]
     },
     "execution_count": 7,
     "metadata": {},
     "output_type": "execute_result"
    }
   ],
   "source": [
    "indata.columns"
   ]
  },
  {
   "cell_type": "code",
   "execution_count": 8,
   "metadata": {},
   "outputs": [
    {
     "data": {
      "text/html": [
       "<div>\n",
       "<style scoped>\n",
       "    .dataframe tbody tr th:only-of-type {\n",
       "        vertical-align: middle;\n",
       "    }\n",
       "\n",
       "    .dataframe tbody tr th {\n",
       "        vertical-align: top;\n",
       "    }\n",
       "\n",
       "    .dataframe thead th {\n",
       "        text-align: right;\n",
       "    }\n",
       "</style>\n",
       "<table border=\"1\" class=\"dataframe\">\n",
       "  <thead>\n",
       "    <tr style=\"text-align: right;\">\n",
       "      <th></th>\n",
       "      <th>Age</th>\n",
       "      <th>Kms</th>\n",
       "      <th>No of Owner</th>\n",
       "      <th>Heath score</th>\n",
       "      <th>price score</th>\n",
       "      <th>on road price</th>\n",
       "      <th>Current Price</th>\n",
       "      <th>Dep</th>\n",
       "    </tr>\n",
       "  </thead>\n",
       "  <tbody>\n",
       "    <tr>\n",
       "      <th>count</th>\n",
       "      <td>3879.000000</td>\n",
       "      <td>3879.000000</td>\n",
       "      <td>3879.000000</td>\n",
       "      <td>3879.000000</td>\n",
       "      <td>3879.000000</td>\n",
       "      <td>3.879000e+03</td>\n",
       "      <td>3.879000e+03</td>\n",
       "      <td>3879.000000</td>\n",
       "    </tr>\n",
       "    <tr>\n",
       "      <th>mean</th>\n",
       "      <td>7.274040</td>\n",
       "      <td>56812.587523</td>\n",
       "      <td>1.226605</td>\n",
       "      <td>5.697602</td>\n",
       "      <td>6.849368</td>\n",
       "      <td>9.381424e+05</td>\n",
       "      <td>4.130298e+05</td>\n",
       "      <td>54.342586</td>\n",
       "    </tr>\n",
       "    <tr>\n",
       "      <th>std</th>\n",
       "      <td>2.695272</td>\n",
       "      <td>46163.397216</td>\n",
       "      <td>0.549230</td>\n",
       "      <td>1.620505</td>\n",
       "      <td>1.926978</td>\n",
       "      <td>5.841469e+05</td>\n",
       "      <td>3.030802e+05</td>\n",
       "      <td>17.235352</td>\n",
       "    </tr>\n",
       "    <tr>\n",
       "      <th>min</th>\n",
       "      <td>1.000000</td>\n",
       "      <td>863.000000</td>\n",
       "      <td>1.000000</td>\n",
       "      <td>3.300000</td>\n",
       "      <td>3.200000</td>\n",
       "      <td>2.372747e+05</td>\n",
       "      <td>5.192000e+04</td>\n",
       "      <td>2.071667</td>\n",
       "    </tr>\n",
       "    <tr>\n",
       "      <th>25%</th>\n",
       "      <td>5.000000</td>\n",
       "      <td>38000.000000</td>\n",
       "      <td>1.000000</td>\n",
       "      <td>4.500000</td>\n",
       "      <td>5.200000</td>\n",
       "      <td>5.378497e+05</td>\n",
       "      <td>2.335180e+05</td>\n",
       "      <td>42.215315</td>\n",
       "    </tr>\n",
       "    <tr>\n",
       "      <th>50%</th>\n",
       "      <td>7.000000</td>\n",
       "      <td>53000.000000</td>\n",
       "      <td>1.000000</td>\n",
       "      <td>5.000000</td>\n",
       "      <td>6.800000</td>\n",
       "      <td>7.819281e+05</td>\n",
       "      <td>3.291520e+05</td>\n",
       "      <td>55.280421</td>\n",
       "    </tr>\n",
       "    <tr>\n",
       "      <th>75%</th>\n",
       "      <td>9.000000</td>\n",
       "      <td>68575.500000</td>\n",
       "      <td>1.000000</td>\n",
       "      <td>6.800000</td>\n",
       "      <td>8.400000</td>\n",
       "      <td>1.120298e+06</td>\n",
       "      <td>4.877280e+05</td>\n",
       "      <td>67.248878</td>\n",
       "    </tr>\n",
       "    <tr>\n",
       "      <th>max</th>\n",
       "      <td>12.000000</td>\n",
       "      <td>854995.000000</td>\n",
       "      <td>6.000000</td>\n",
       "      <td>9.900000</td>\n",
       "      <td>9.900000</td>\n",
       "      <td>1.095466e+07</td>\n",
       "      <td>2.974683e+06</td>\n",
       "      <td>92.453905</td>\n",
       "    </tr>\n",
       "  </tbody>\n",
       "</table>\n",
       "</div>"
      ],
      "text/plain": [
       "               Age            Kms  No of Owner  Heath score  price score  \\\n",
       "count  3879.000000    3879.000000  3879.000000  3879.000000  3879.000000   \n",
       "mean      7.274040   56812.587523     1.226605     5.697602     6.849368   \n",
       "std       2.695272   46163.397216     0.549230     1.620505     1.926978   \n",
       "min       1.000000     863.000000     1.000000     3.300000     3.200000   \n",
       "25%       5.000000   38000.000000     1.000000     4.500000     5.200000   \n",
       "50%       7.000000   53000.000000     1.000000     5.000000     6.800000   \n",
       "75%       9.000000   68575.500000     1.000000     6.800000     8.400000   \n",
       "max      12.000000  854995.000000     6.000000     9.900000     9.900000   \n",
       "\n",
       "       on road price  Current Price          Dep  \n",
       "count   3.879000e+03   3.879000e+03  3879.000000  \n",
       "mean    9.381424e+05   4.130298e+05    54.342586  \n",
       "std     5.841469e+05   3.030802e+05    17.235352  \n",
       "min     2.372747e+05   5.192000e+04     2.071667  \n",
       "25%     5.378497e+05   2.335180e+05    42.215315  \n",
       "50%     7.819281e+05   3.291520e+05    55.280421  \n",
       "75%     1.120298e+06   4.877280e+05    67.248878  \n",
       "max     1.095466e+07   2.974683e+06    92.453905  "
      ]
     },
     "execution_count": 8,
     "metadata": {},
     "output_type": "execute_result"
    }
   ],
   "source": [
    "indata.describe()"
   ]
  },
  {
   "cell_type": "code",
   "execution_count": 9,
   "metadata": {},
   "outputs": [
    {
     "name": "stdout",
     "output_type": "stream",
     "text": [
      "<class 'pandas.core.frame.DataFrame'>\n",
      "RangeIndex: 3879 entries, 0 to 3878\n",
      "Data columns (total 16 columns):\n",
      "MMV              3879 non-null object\n",
      "Make             3879 non-null object\n",
      "Model            3879 non-null object\n",
      "Variant          3879 non-null object\n",
      "Type             3879 non-null object\n",
      "Fuel Type        3879 non-null object\n",
      "Age              3879 non-null int64\n",
      "Transmission     3879 non-null object\n",
      "Color            3879 non-null object\n",
      "Kms              3879 non-null int64\n",
      "No of Owner      3879 non-null int64\n",
      "Heath score      3879 non-null float64\n",
      "price score      3879 non-null float64\n",
      "on road price    3879 non-null float64\n",
      "Current Price    3879 non-null float64\n",
      "Dep              3879 non-null float64\n",
      "dtypes: float64(5), int64(3), object(8)\n",
      "memory usage: 485.0+ KB\n"
     ]
    }
   ],
   "source": [
    "indata.info()"
   ]
  },
  {
   "cell_type": "markdown",
   "metadata": {},
   "source": [
    "###  Finding the categorical features"
   ]
  },
  {
   "cell_type": "code",
   "execution_count": 10,
   "metadata": {},
   "outputs": [
    {
     "name": "stdout",
     "output_type": "stream",
     "text": [
      "Make : ['Hyundai' 'Honda' 'Maruti Suzuki' 'Toyota']\n",
      "Type : ['Hatchback' 'Sedan' 'SUV' 'MUV' 'Van' 'Crossover']\n",
      "Fuel Type : ['Petrol' 'Diesel' 'Petrol + CNG' 'diesel' 'CNG' 'cng' 'Petrol + LPG'\n",
      " 'LPG']\n",
      "Age : [ 3  9  8  2 11 10  4  7 12  6  5  1]\n",
      "Transmission : ['Manual' 'Automatic' 'Automated Manual Transmission']\n",
      "No of Owner : [1 2 3 5 4 6]\n"
     ]
    },
    {
     "data": {
      "text/plain": [
       "None"
      ]
     },
     "metadata": {},
     "output_type": "display_data"
    }
   ],
   "source": [
    "def listFactorVars(dataFrame):\n",
    "    for col in dataFrame:\n",
    "        if (len(indata[col].unique()) < 15):\n",
    "            print(\"{} : {}\".format(col, indata[col].unique()))\n",
    "        else:\n",
    "            None\n",
    "\n",
    "catCols=listFactorVars(indata)\n",
    "display(catCols)"
   ]
  },
  {
   "cell_type": "markdown",
   "metadata": {},
   "source": [
    "####  Converting all values to uppercase of column 'Fuel Type'"
   ]
  },
  {
   "cell_type": "code",
   "execution_count": 7,
   "metadata": {},
   "outputs": [
    {
     "data": {
      "text/plain": [
       "PETROL          2754\n",
       "DIESEL           907\n",
       "PETROL + CNG     143\n",
       "CNG               67\n",
       "PETROL + LPG       7\n",
       "LPG                1\n",
       "Name: Fuel Type, dtype: int64"
      ]
     },
     "execution_count": 7,
     "metadata": {},
     "output_type": "execute_result"
    }
   ],
   "source": [
    "indata['Fuel Type'] = indata['Fuel Type'].map(lambda x: x.upper())\n",
    "indata['Fuel Type'].value_counts()"
   ]
  },
  {
   "cell_type": "markdown",
   "metadata": {},
   "source": [
    "#### Checking for Null values"
   ]
  },
  {
   "cell_type": "code",
   "execution_count": 12,
   "metadata": {},
   "outputs": [
    {
     "data": {
      "text/plain": [
       "MMV              0\n",
       "Make             0\n",
       "Model            0\n",
       "Variant          0\n",
       "Type             0\n",
       "Fuel Type        0\n",
       "Age              0\n",
       "Transmission     0\n",
       "Color            0\n",
       "Kms              0\n",
       "No of Owner      0\n",
       "Heath score      0\n",
       "price score      0\n",
       "on road price    0\n",
       "Current Price    0\n",
       "Dep              0\n",
       "dtype: int64"
      ]
     },
     "execution_count": 12,
     "metadata": {},
     "output_type": "execute_result"
    }
   ],
   "source": [
    "indata.isnull().sum()"
   ]
  },
  {
   "cell_type": "code",
   "execution_count": 13,
   "metadata": {},
   "outputs": [
    {
     "data": {
      "text/plain": [
       "(3879, 16)"
      ]
     },
     "execution_count": 13,
     "metadata": {},
     "output_type": "execute_result"
    }
   ],
   "source": [
    "indata.shape"
   ]
  },
  {
   "cell_type": "markdown",
   "metadata": {},
   "source": [
    "#### Checking for duplicate rows"
   ]
  },
  {
   "cell_type": "code",
   "execution_count": 14,
   "metadata": {},
   "outputs": [
    {
     "data": {
      "text/html": [
       "<div>\n",
       "<style scoped>\n",
       "    .dataframe tbody tr th:only-of-type {\n",
       "        vertical-align: middle;\n",
       "    }\n",
       "\n",
       "    .dataframe tbody tr th {\n",
       "        vertical-align: top;\n",
       "    }\n",
       "\n",
       "    .dataframe thead th {\n",
       "        text-align: right;\n",
       "    }\n",
       "</style>\n",
       "<table border=\"1\" class=\"dataframe\">\n",
       "  <thead>\n",
       "    <tr style=\"text-align: right;\">\n",
       "      <th></th>\n",
       "      <th>MMV</th>\n",
       "      <th>Make</th>\n",
       "      <th>Model</th>\n",
       "      <th>Variant</th>\n",
       "      <th>Type</th>\n",
       "      <th>Fuel Type</th>\n",
       "      <th>Age</th>\n",
       "      <th>Transmission</th>\n",
       "      <th>Color</th>\n",
       "      <th>Kms</th>\n",
       "      <th>No of Owner</th>\n",
       "      <th>Heath score</th>\n",
       "      <th>price score</th>\n",
       "      <th>on road price</th>\n",
       "      <th>Current Price</th>\n",
       "      <th>Dep</th>\n",
       "    </tr>\n",
       "  </thead>\n",
       "  <tbody>\n",
       "    <tr>\n",
       "      <th>597</th>\n",
       "      <td>HyundaiAccentGLE</td>\n",
       "      <td>Hyundai</td>\n",
       "      <td>Accent</td>\n",
       "      <td>GLE</td>\n",
       "      <td>Sedan</td>\n",
       "      <td>PETROL</td>\n",
       "      <td>6</td>\n",
       "      <td>Manual</td>\n",
       "      <td>Red</td>\n",
       "      <td>27639</td>\n",
       "      <td>1</td>\n",
       "      <td>6.8</td>\n",
       "      <td>5.6</td>\n",
       "      <td>691110.636000</td>\n",
       "      <td>265200.0</td>\n",
       "      <td>61.626983</td>\n",
       "    </tr>\n",
       "    <tr>\n",
       "      <th>737</th>\n",
       "      <td>HyundaiAccentGLE</td>\n",
       "      <td>Hyundai</td>\n",
       "      <td>Accent</td>\n",
       "      <td>GLE</td>\n",
       "      <td>Sedan</td>\n",
       "      <td>PETROL</td>\n",
       "      <td>6</td>\n",
       "      <td>Manual</td>\n",
       "      <td>Red</td>\n",
       "      <td>27639</td>\n",
       "      <td>1</td>\n",
       "      <td>6.8</td>\n",
       "      <td>5.6</td>\n",
       "      <td>691110.636000</td>\n",
       "      <td>265200.0</td>\n",
       "      <td>61.626983</td>\n",
       "    </tr>\n",
       "    <tr>\n",
       "      <th>493</th>\n",
       "      <td>HyundaiI10Magna</td>\n",
       "      <td>Hyundai</td>\n",
       "      <td>I10</td>\n",
       "      <td>Magna</td>\n",
       "      <td>Hatchback</td>\n",
       "      <td>PETROL</td>\n",
       "      <td>8</td>\n",
       "      <td>Manual</td>\n",
       "      <td>Grey</td>\n",
       "      <td>37502</td>\n",
       "      <td>1</td>\n",
       "      <td>6.8</td>\n",
       "      <td>3.8</td>\n",
       "      <td>462988.362962</td>\n",
       "      <td>260662.0</td>\n",
       "      <td>43.700097</td>\n",
       "    </tr>\n",
       "    <tr>\n",
       "      <th>613</th>\n",
       "      <td>HyundaiI10Magna</td>\n",
       "      <td>Hyundai</td>\n",
       "      <td>I10</td>\n",
       "      <td>Magna</td>\n",
       "      <td>Hatchback</td>\n",
       "      <td>PETROL</td>\n",
       "      <td>8</td>\n",
       "      <td>Manual</td>\n",
       "      <td>Grey</td>\n",
       "      <td>37502</td>\n",
       "      <td>1</td>\n",
       "      <td>6.8</td>\n",
       "      <td>3.8</td>\n",
       "      <td>462988.362962</td>\n",
       "      <td>260662.0</td>\n",
       "      <td>43.700097</td>\n",
       "    </tr>\n",
       "    <tr>\n",
       "      <th>607</th>\n",
       "      <td>HyundaiI10Sportz 1.2</td>\n",
       "      <td>Hyundai</td>\n",
       "      <td>I10</td>\n",
       "      <td>Sportz 1.2</td>\n",
       "      <td>Hatchback</td>\n",
       "      <td>PETROL</td>\n",
       "      <td>9</td>\n",
       "      <td>Manual</td>\n",
       "      <td>Red</td>\n",
       "      <td>23949</td>\n",
       "      <td>1</td>\n",
       "      <td>6.8</td>\n",
       "      <td>6.4</td>\n",
       "      <td>537849.665431</td>\n",
       "      <td>215600.0</td>\n",
       "      <td>59.914449</td>\n",
       "    </tr>\n",
       "    <tr>\n",
       "      <th>688</th>\n",
       "      <td>HyundaiI10Sportz 1.2</td>\n",
       "      <td>Hyundai</td>\n",
       "      <td>I10</td>\n",
       "      <td>Sportz 1.2</td>\n",
       "      <td>Hatchback</td>\n",
       "      <td>PETROL</td>\n",
       "      <td>9</td>\n",
       "      <td>Manual</td>\n",
       "      <td>Red</td>\n",
       "      <td>23949</td>\n",
       "      <td>1</td>\n",
       "      <td>6.8</td>\n",
       "      <td>6.4</td>\n",
       "      <td>537849.665431</td>\n",
       "      <td>215600.0</td>\n",
       "      <td>59.914449</td>\n",
       "    </tr>\n",
       "    <tr>\n",
       "      <th>639</th>\n",
       "      <td>HyundaiSantro XingGLS</td>\n",
       "      <td>Hyundai</td>\n",
       "      <td>Santro Xing</td>\n",
       "      <td>GLS</td>\n",
       "      <td>Hatchback</td>\n",
       "      <td>PETROL</td>\n",
       "      <td>9</td>\n",
       "      <td>Manual</td>\n",
       "      <td>Blue</td>\n",
       "      <td>56530</td>\n",
       "      <td>1</td>\n",
       "      <td>6.4</td>\n",
       "      <td>5.8</td>\n",
       "      <td>457174.148600</td>\n",
       "      <td>176000.0</td>\n",
       "      <td>61.502635</td>\n",
       "    </tr>\n",
       "    <tr>\n",
       "      <th>642</th>\n",
       "      <td>HyundaiSantro XingGLS</td>\n",
       "      <td>Hyundai</td>\n",
       "      <td>Santro Xing</td>\n",
       "      <td>GLS</td>\n",
       "      <td>Hatchback</td>\n",
       "      <td>PETROL</td>\n",
       "      <td>9</td>\n",
       "      <td>Manual</td>\n",
       "      <td>Blue</td>\n",
       "      <td>56530</td>\n",
       "      <td>1</td>\n",
       "      <td>6.4</td>\n",
       "      <td>5.8</td>\n",
       "      <td>457174.148600</td>\n",
       "      <td>176000.0</td>\n",
       "      <td>61.502635</td>\n",
       "    </tr>\n",
       "    <tr>\n",
       "      <th>464</th>\n",
       "      <td>HyundaiVernaVGT CRDi</td>\n",
       "      <td>Hyundai</td>\n",
       "      <td>Verna</td>\n",
       "      <td>VGT CRDi</td>\n",
       "      <td>Sedan</td>\n",
       "      <td>DIESEL</td>\n",
       "      <td>9</td>\n",
       "      <td>Manual</td>\n",
       "      <td>White</td>\n",
       "      <td>62251</td>\n",
       "      <td>1</td>\n",
       "      <td>6.4</td>\n",
       "      <td>9.2</td>\n",
       "      <td>874470.885161</td>\n",
       "      <td>287950.0</td>\n",
       "      <td>67.071517</td>\n",
       "    </tr>\n",
       "    <tr>\n",
       "      <th>585</th>\n",
       "      <td>HyundaiVernaVGT CRDi</td>\n",
       "      <td>Hyundai</td>\n",
       "      <td>Verna</td>\n",
       "      <td>VGT CRDi</td>\n",
       "      <td>Sedan</td>\n",
       "      <td>DIESEL</td>\n",
       "      <td>9</td>\n",
       "      <td>Manual</td>\n",
       "      <td>White</td>\n",
       "      <td>62251</td>\n",
       "      <td>1</td>\n",
       "      <td>6.4</td>\n",
       "      <td>9.2</td>\n",
       "      <td>874470.885161</td>\n",
       "      <td>287950.0</td>\n",
       "      <td>67.071517</td>\n",
       "    </tr>\n",
       "    <tr>\n",
       "      <th>2457</th>\n",
       "      <td>Maruti SuzukiAltoLXI</td>\n",
       "      <td>Maruti Suzuki</td>\n",
       "      <td>Alto</td>\n",
       "      <td>LXI</td>\n",
       "      <td>Hatchback</td>\n",
       "      <td>PETROL</td>\n",
       "      <td>12</td>\n",
       "      <td>Manual</td>\n",
       "      <td>White</td>\n",
       "      <td>70000</td>\n",
       "      <td>1</td>\n",
       "      <td>6.8</td>\n",
       "      <td>5.4</td>\n",
       "      <td>336331.172374</td>\n",
       "      <td>132000.0</td>\n",
       "      <td>60.752969</td>\n",
       "    </tr>\n",
       "    <tr>\n",
       "      <th>2458</th>\n",
       "      <td>Maruti SuzukiAltoLXI</td>\n",
       "      <td>Maruti Suzuki</td>\n",
       "      <td>Alto</td>\n",
       "      <td>LXI</td>\n",
       "      <td>Hatchback</td>\n",
       "      <td>PETROL</td>\n",
       "      <td>12</td>\n",
       "      <td>Manual</td>\n",
       "      <td>White</td>\n",
       "      <td>70000</td>\n",
       "      <td>1</td>\n",
       "      <td>6.8</td>\n",
       "      <td>5.4</td>\n",
       "      <td>336331.172374</td>\n",
       "      <td>132000.0</td>\n",
       "      <td>60.752969</td>\n",
       "    </tr>\n",
       "    <tr>\n",
       "      <th>3523</th>\n",
       "      <td>Maruti SuzukiEstiloLXi</td>\n",
       "      <td>Maruti Suzuki</td>\n",
       "      <td>Estilo</td>\n",
       "      <td>LXi</td>\n",
       "      <td>Hatchback</td>\n",
       "      <td>PETROL</td>\n",
       "      <td>7</td>\n",
       "      <td>Manual</td>\n",
       "      <td>Brown</td>\n",
       "      <td>38063</td>\n",
       "      <td>1</td>\n",
       "      <td>6.8</td>\n",
       "      <td>5.2</td>\n",
       "      <td>394408.988352</td>\n",
       "      <td>224502.0</td>\n",
       "      <td>43.078883</td>\n",
       "    </tr>\n",
       "    <tr>\n",
       "      <th>3525</th>\n",
       "      <td>Maruti SuzukiEstiloLXi</td>\n",
       "      <td>Maruti Suzuki</td>\n",
       "      <td>Estilo</td>\n",
       "      <td>LXi</td>\n",
       "      <td>Hatchback</td>\n",
       "      <td>PETROL</td>\n",
       "      <td>7</td>\n",
       "      <td>Manual</td>\n",
       "      <td>Brown</td>\n",
       "      <td>38063</td>\n",
       "      <td>1</td>\n",
       "      <td>6.8</td>\n",
       "      <td>5.2</td>\n",
       "      <td>394408.988352</td>\n",
       "      <td>224502.0</td>\n",
       "      <td>43.078883</td>\n",
       "    </tr>\n",
       "    <tr>\n",
       "      <th>166</th>\n",
       "      <td>Maruti SuzukiSx4ZXi</td>\n",
       "      <td>Maruti Suzuki</td>\n",
       "      <td>Sx4</td>\n",
       "      <td>ZXi</td>\n",
       "      <td>Sedan</td>\n",
       "      <td>PETROL</td>\n",
       "      <td>10</td>\n",
       "      <td>Manual</td>\n",
       "      <td>Silver</td>\n",
       "      <td>54000</td>\n",
       "      <td>2</td>\n",
       "      <td>6.8</td>\n",
       "      <td>6.0</td>\n",
       "      <td>828686.835404</td>\n",
       "      <td>242550.0</td>\n",
       "      <td>70.730801</td>\n",
       "    </tr>\n",
       "    <tr>\n",
       "      <th>2859</th>\n",
       "      <td>Maruti SuzukiSx4ZXi</td>\n",
       "      <td>Maruti Suzuki</td>\n",
       "      <td>Sx4</td>\n",
       "      <td>ZXi</td>\n",
       "      <td>Sedan</td>\n",
       "      <td>PETROL</td>\n",
       "      <td>10</td>\n",
       "      <td>Manual</td>\n",
       "      <td>Silver</td>\n",
       "      <td>54000</td>\n",
       "      <td>2</td>\n",
       "      <td>6.8</td>\n",
       "      <td>6.0</td>\n",
       "      <td>828686.835404</td>\n",
       "      <td>242550.0</td>\n",
       "      <td>70.730801</td>\n",
       "    </tr>\n",
       "  </tbody>\n",
       "</table>\n",
       "</div>"
      ],
      "text/plain": [
       "                         MMV           Make        Model     Variant  \\\n",
       "597         HyundaiAccentGLE        Hyundai       Accent         GLE   \n",
       "737         HyundaiAccentGLE        Hyundai       Accent         GLE   \n",
       "493          HyundaiI10Magna        Hyundai          I10       Magna   \n",
       "613          HyundaiI10Magna        Hyundai          I10       Magna   \n",
       "607     HyundaiI10Sportz 1.2        Hyundai          I10  Sportz 1.2   \n",
       "688     HyundaiI10Sportz 1.2        Hyundai          I10  Sportz 1.2   \n",
       "639    HyundaiSantro XingGLS        Hyundai  Santro Xing         GLS   \n",
       "642    HyundaiSantro XingGLS        Hyundai  Santro Xing         GLS   \n",
       "464     HyundaiVernaVGT CRDi        Hyundai        Verna    VGT CRDi   \n",
       "585     HyundaiVernaVGT CRDi        Hyundai        Verna    VGT CRDi   \n",
       "2457    Maruti SuzukiAltoLXI  Maruti Suzuki         Alto         LXI   \n",
       "2458    Maruti SuzukiAltoLXI  Maruti Suzuki         Alto         LXI   \n",
       "3523  Maruti SuzukiEstiloLXi  Maruti Suzuki       Estilo         LXi   \n",
       "3525  Maruti SuzukiEstiloLXi  Maruti Suzuki       Estilo         LXi   \n",
       "166      Maruti SuzukiSx4ZXi  Maruti Suzuki          Sx4         ZXi   \n",
       "2859     Maruti SuzukiSx4ZXi  Maruti Suzuki          Sx4         ZXi   \n",
       "\n",
       "           Type Fuel Type  Age Transmission   Color    Kms  No of Owner  \\\n",
       "597       Sedan    PETROL    6       Manual     Red  27639            1   \n",
       "737       Sedan    PETROL    6       Manual     Red  27639            1   \n",
       "493   Hatchback    PETROL    8       Manual    Grey  37502            1   \n",
       "613   Hatchback    PETROL    8       Manual    Grey  37502            1   \n",
       "607   Hatchback    PETROL    9       Manual     Red  23949            1   \n",
       "688   Hatchback    PETROL    9       Manual     Red  23949            1   \n",
       "639   Hatchback    PETROL    9       Manual    Blue  56530            1   \n",
       "642   Hatchback    PETROL    9       Manual    Blue  56530            1   \n",
       "464       Sedan    DIESEL    9       Manual   White  62251            1   \n",
       "585       Sedan    DIESEL    9       Manual   White  62251            1   \n",
       "2457  Hatchback    PETROL   12       Manual   White  70000            1   \n",
       "2458  Hatchback    PETROL   12       Manual   White  70000            1   \n",
       "3523  Hatchback    PETROL    7       Manual   Brown  38063            1   \n",
       "3525  Hatchback    PETROL    7       Manual   Brown  38063            1   \n",
       "166       Sedan    PETROL   10       Manual  Silver  54000            2   \n",
       "2859      Sedan    PETROL   10       Manual  Silver  54000            2   \n",
       "\n",
       "      Heath score  price score  on road price  Current Price        Dep  \n",
       "597           6.8          5.6  691110.636000       265200.0  61.626983  \n",
       "737           6.8          5.6  691110.636000       265200.0  61.626983  \n",
       "493           6.8          3.8  462988.362962       260662.0  43.700097  \n",
       "613           6.8          3.8  462988.362962       260662.0  43.700097  \n",
       "607           6.8          6.4  537849.665431       215600.0  59.914449  \n",
       "688           6.8          6.4  537849.665431       215600.0  59.914449  \n",
       "639           6.4          5.8  457174.148600       176000.0  61.502635  \n",
       "642           6.4          5.8  457174.148600       176000.0  61.502635  \n",
       "464           6.4          9.2  874470.885161       287950.0  67.071517  \n",
       "585           6.4          9.2  874470.885161       287950.0  67.071517  \n",
       "2457          6.8          5.4  336331.172374       132000.0  60.752969  \n",
       "2458          6.8          5.4  336331.172374       132000.0  60.752969  \n",
       "3523          6.8          5.2  394408.988352       224502.0  43.078883  \n",
       "3525          6.8          5.2  394408.988352       224502.0  43.078883  \n",
       "166           6.8          6.0  828686.835404       242550.0  70.730801  \n",
       "2859          6.8          6.0  828686.835404       242550.0  70.730801  "
      ]
     },
     "execution_count": 14,
     "metadata": {},
     "output_type": "execute_result"
    }
   ],
   "source": [
    "indata[indata.duplicated(keep=False)].sort_values('MMV')"
   ]
  },
  {
   "cell_type": "code",
   "execution_count": 8,
   "metadata": {},
   "outputs": [
    {
     "data": {
      "text/plain": [
       "(3871, 16)"
      ]
     },
     "execution_count": 8,
     "metadata": {},
     "output_type": "execute_result"
    }
   ],
   "source": [
    "indata.drop_duplicates(inplace=True)\n",
    "indata.shape"
   ]
  },
  {
   "cell_type": "markdown",
   "metadata": {},
   "source": [
    "#### Checking few other columns"
   ]
  },
  {
   "cell_type": "code",
   "execution_count": 16,
   "metadata": {},
   "outputs": [
    {
     "data": {
      "text/plain": [
       "563"
      ]
     },
     "execution_count": 16,
     "metadata": {},
     "output_type": "execute_result"
    }
   ],
   "source": [
    "indata['MMV'].nunique()"
   ]
  },
  {
   "cell_type": "code",
   "execution_count": 17,
   "metadata": {},
   "outputs": [
    {
     "data": {
      "text/plain": [
       "66"
      ]
     },
     "execution_count": 17,
     "metadata": {},
     "output_type": "execute_result"
    }
   ],
   "source": [
    "indata['Model'].nunique()"
   ]
  },
  {
   "cell_type": "code",
   "execution_count": 18,
   "metadata": {},
   "outputs": [
    {
     "data": {
      "text/plain": [
       "43"
      ]
     },
     "execution_count": 18,
     "metadata": {},
     "output_type": "execute_result"
    }
   ],
   "source": [
    "indata['Color'].nunique()"
   ]
  },
  {
   "cell_type": "code",
   "execution_count": 19,
   "metadata": {},
   "outputs": [
    {
     "data": {
      "text/plain": [
       "474"
      ]
     },
     "execution_count": 19,
     "metadata": {},
     "output_type": "execute_result"
    }
   ],
   "source": [
    "indata['Variant'].nunique()"
   ]
  },
  {
   "cell_type": "markdown",
   "metadata": {},
   "source": [
    "#### Taking an insight on the features based on the manufacturer"
   ]
  },
  {
   "cell_type": "code",
   "execution_count": 20,
   "metadata": {},
   "outputs": [
    {
     "data": {
      "text/html": [
       "<div>\n",
       "<style scoped>\n",
       "    .dataframe tbody tr th:only-of-type {\n",
       "        vertical-align: middle;\n",
       "    }\n",
       "\n",
       "    .dataframe tbody tr th {\n",
       "        vertical-align: top;\n",
       "    }\n",
       "\n",
       "    .dataframe thead th {\n",
       "        text-align: right;\n",
       "    }\n",
       "</style>\n",
       "<table border=\"1\" class=\"dataframe\">\n",
       "  <thead>\n",
       "    <tr style=\"text-align: right;\">\n",
       "      <th></th>\n",
       "      <th>Make</th>\n",
       "      <th>Honda</th>\n",
       "      <th>Hyundai</th>\n",
       "      <th>Maruti Suzuki</th>\n",
       "      <th>Toyota</th>\n",
       "    </tr>\n",
       "  </thead>\n",
       "  <tbody>\n",
       "    <tr>\n",
       "      <th rowspan=\"8\" valign=\"top\">Kms</th>\n",
       "      <th>count</th>\n",
       "      <td>863.00</td>\n",
       "      <td>1007.00</td>\n",
       "      <td>1529.00</td>\n",
       "      <td>472.00</td>\n",
       "    </tr>\n",
       "    <tr>\n",
       "      <th>mean</th>\n",
       "      <td>58012.98</td>\n",
       "      <td>47755.69</td>\n",
       "      <td>56446.03</td>\n",
       "      <td>75307.06</td>\n",
       "    </tr>\n",
       "    <tr>\n",
       "      <th>std</th>\n",
       "      <td>37568.81</td>\n",
       "      <td>40403.53</td>\n",
       "      <td>52842.73</td>\n",
       "      <td>43476.51</td>\n",
       "    </tr>\n",
       "    <tr>\n",
       "      <th>min</th>\n",
       "      <td>863.00</td>\n",
       "      <td>1000.00</td>\n",
       "      <td>1285.00</td>\n",
       "      <td>4500.00</td>\n",
       "    </tr>\n",
       "    <tr>\n",
       "      <th>25%</th>\n",
       "      <td>43335.50</td>\n",
       "      <td>31000.00</td>\n",
       "      <td>38084.00</td>\n",
       "      <td>46000.00</td>\n",
       "    </tr>\n",
       "    <tr>\n",
       "      <th>50%</th>\n",
       "      <td>56456.00</td>\n",
       "      <td>45628.00</td>\n",
       "      <td>51658.00</td>\n",
       "      <td>68000.00</td>\n",
       "    </tr>\n",
       "    <tr>\n",
       "      <th>75%</th>\n",
       "      <td>70000.00</td>\n",
       "      <td>60000.00</td>\n",
       "      <td>67000.00</td>\n",
       "      <td>93023.25</td>\n",
       "    </tr>\n",
       "    <tr>\n",
       "      <th>max</th>\n",
       "      <td>740000.00</td>\n",
       "      <td>846004.00</td>\n",
       "      <td>854995.00</td>\n",
       "      <td>460000.00</td>\n",
       "    </tr>\n",
       "    <tr>\n",
       "      <th rowspan=\"8\" valign=\"top\">No of Owner</th>\n",
       "      <th>count</th>\n",
       "      <td>863.00</td>\n",
       "      <td>1007.00</td>\n",
       "      <td>1529.00</td>\n",
       "      <td>472.00</td>\n",
       "    </tr>\n",
       "    <tr>\n",
       "      <th>mean</th>\n",
       "      <td>1.28</td>\n",
       "      <td>1.18</td>\n",
       "      <td>1.22</td>\n",
       "      <td>1.25</td>\n",
       "    </tr>\n",
       "    <tr>\n",
       "      <th>std</th>\n",
       "      <td>0.57</td>\n",
       "      <td>0.46</td>\n",
       "      <td>0.57</td>\n",
       "      <td>0.61</td>\n",
       "    </tr>\n",
       "    <tr>\n",
       "      <th>min</th>\n",
       "      <td>1.00</td>\n",
       "      <td>1.00</td>\n",
       "      <td>1.00</td>\n",
       "      <td>1.00</td>\n",
       "    </tr>\n",
       "    <tr>\n",
       "      <th>25%</th>\n",
       "      <td>1.00</td>\n",
       "      <td>1.00</td>\n",
       "      <td>1.00</td>\n",
       "      <td>1.00</td>\n",
       "    </tr>\n",
       "    <tr>\n",
       "      <th>50%</th>\n",
       "      <td>1.00</td>\n",
       "      <td>1.00</td>\n",
       "      <td>1.00</td>\n",
       "      <td>1.00</td>\n",
       "    </tr>\n",
       "    <tr>\n",
       "      <th>75%</th>\n",
       "      <td>1.00</td>\n",
       "      <td>1.00</td>\n",
       "      <td>1.00</td>\n",
       "      <td>1.00</td>\n",
       "    </tr>\n",
       "    <tr>\n",
       "      <th>max</th>\n",
       "      <td>5.00</td>\n",
       "      <td>5.00</td>\n",
       "      <td>6.00</td>\n",
       "      <td>6.00</td>\n",
       "    </tr>\n",
       "    <tr>\n",
       "      <th rowspan=\"8\" valign=\"top\">Heath score</th>\n",
       "      <th>count</th>\n",
       "      <td>863.00</td>\n",
       "      <td>1007.00</td>\n",
       "      <td>1529.00</td>\n",
       "      <td>472.00</td>\n",
       "    </tr>\n",
       "    <tr>\n",
       "      <th>mean</th>\n",
       "      <td>5.80</td>\n",
       "      <td>5.74</td>\n",
       "      <td>5.70</td>\n",
       "      <td>5.38</td>\n",
       "    </tr>\n",
       "    <tr>\n",
       "      <th>std</th>\n",
       "      <td>1.58</td>\n",
       "      <td>1.62</td>\n",
       "      <td>1.61</td>\n",
       "      <td>1.71</td>\n",
       "    </tr>\n",
       "    <tr>\n",
       "      <th>min</th>\n",
       "      <td>3.30</td>\n",
       "      <td>3.30</td>\n",
       "      <td>3.30</td>\n",
       "      <td>3.30</td>\n",
       "    </tr>\n",
       "    <tr>\n",
       "      <th>25%</th>\n",
       "      <td>4.50</td>\n",
       "      <td>4.50</td>\n",
       "      <td>4.50</td>\n",
       "      <td>4.30</td>\n",
       "    </tr>\n",
       "    <tr>\n",
       "      <th>50%</th>\n",
       "      <td>5.00</td>\n",
       "      <td>5.00</td>\n",
       "      <td>5.00</td>\n",
       "      <td>4.80</td>\n",
       "    </tr>\n",
       "    <tr>\n",
       "      <th>75%</th>\n",
       "      <td>6.80</td>\n",
       "      <td>6.80</td>\n",
       "      <td>6.80</td>\n",
       "      <td>6.40</td>\n",
       "    </tr>\n",
       "    <tr>\n",
       "      <th>max</th>\n",
       "      <td>9.90</td>\n",
       "      <td>9.90</td>\n",
       "      <td>9.90</td>\n",
       "      <td>9.90</td>\n",
       "    </tr>\n",
       "    <tr>\n",
       "      <th rowspan=\"8\" valign=\"top\">price score</th>\n",
       "      <th>count</th>\n",
       "      <td>863.00</td>\n",
       "      <td>1007.00</td>\n",
       "      <td>1529.00</td>\n",
       "      <td>472.00</td>\n",
       "    </tr>\n",
       "    <tr>\n",
       "      <th>mean</th>\n",
       "      <td>7.80</td>\n",
       "      <td>6.73</td>\n",
       "      <td>6.27</td>\n",
       "      <td>7.26</td>\n",
       "    </tr>\n",
       "    <tr>\n",
       "      <th>std</th>\n",
       "      <td>1.90</td>\n",
       "      <td>1.79</td>\n",
       "      <td>1.78</td>\n",
       "      <td>1.96</td>\n",
       "    </tr>\n",
       "    <tr>\n",
       "      <th>min</th>\n",
       "      <td>3.40</td>\n",
       "      <td>3.20</td>\n",
       "      <td>3.20</td>\n",
       "      <td>3.20</td>\n",
       "    </tr>\n",
       "    <tr>\n",
       "      <th>25%</th>\n",
       "      <td>6.40</td>\n",
       "      <td>5.20</td>\n",
       "      <td>4.70</td>\n",
       "      <td>5.60</td>\n",
       "    </tr>\n",
       "    <tr>\n",
       "      <th>50%</th>\n",
       "      <td>8.20</td>\n",
       "      <td>6.70</td>\n",
       "      <td>6.00</td>\n",
       "      <td>7.40</td>\n",
       "    </tr>\n",
       "    <tr>\n",
       "      <th>75%</th>\n",
       "      <td>9.40</td>\n",
       "      <td>8.15</td>\n",
       "      <td>7.40</td>\n",
       "      <td>9.10</td>\n",
       "    </tr>\n",
       "    <tr>\n",
       "      <th>max</th>\n",
       "      <td>9.90</td>\n",
       "      <td>9.90</td>\n",
       "      <td>9.90</td>\n",
       "      <td>9.90</td>\n",
       "    </tr>\n",
       "  </tbody>\n",
       "</table>\n",
       "</div>"
      ],
      "text/plain": [
       "Make                   Honda    Hyundai  Maruti Suzuki     Toyota\n",
       "Kms         count     863.00    1007.00        1529.00     472.00\n",
       "            mean    58012.98   47755.69       56446.03   75307.06\n",
       "            std     37568.81   40403.53       52842.73   43476.51\n",
       "            min       863.00    1000.00        1285.00    4500.00\n",
       "            25%     43335.50   31000.00       38084.00   46000.00\n",
       "            50%     56456.00   45628.00       51658.00   68000.00\n",
       "            75%     70000.00   60000.00       67000.00   93023.25\n",
       "            max    740000.00  846004.00      854995.00  460000.00\n",
       "No of Owner count     863.00    1007.00        1529.00     472.00\n",
       "            mean        1.28       1.18           1.22       1.25\n",
       "            std         0.57       0.46           0.57       0.61\n",
       "            min         1.00       1.00           1.00       1.00\n",
       "            25%         1.00       1.00           1.00       1.00\n",
       "            50%         1.00       1.00           1.00       1.00\n",
       "            75%         1.00       1.00           1.00       1.00\n",
       "            max         5.00       5.00           6.00       6.00\n",
       "Heath score count     863.00    1007.00        1529.00     472.00\n",
       "            mean        5.80       5.74           5.70       5.38\n",
       "            std         1.58       1.62           1.61       1.71\n",
       "            min         3.30       3.30           3.30       3.30\n",
       "            25%         4.50       4.50           4.50       4.30\n",
       "            50%         5.00       5.00           5.00       4.80\n",
       "            75%         6.80       6.80           6.80       6.40\n",
       "            max         9.90       9.90           9.90       9.90\n",
       "price score count     863.00    1007.00        1529.00     472.00\n",
       "            mean        7.80       6.73           6.27       7.26\n",
       "            std         1.90       1.79           1.78       1.96\n",
       "            min         3.40       3.20           3.20       3.20\n",
       "            25%         6.40       5.20           4.70       5.60\n",
       "            50%         8.20       6.70           6.00       7.40\n",
       "            75%         9.40       8.15           7.40       9.10\n",
       "            max         9.90       9.90           9.90       9.90"
      ]
     },
     "execution_count": 20,
     "metadata": {},
     "output_type": "execute_result"
    }
   ],
   "source": [
    "indata.groupby('Make')['Kms', 'No of Owner', 'Heath score','price score'].describe().transpose().round(2)"
   ]
  },
  {
   "cell_type": "code",
   "execution_count": 21,
   "metadata": {},
   "outputs": [
    {
     "data": {
      "text/html": [
       "<div>\n",
       "<style scoped>\n",
       "    .dataframe tbody tr th:only-of-type {\n",
       "        vertical-align: middle;\n",
       "    }\n",
       "\n",
       "    .dataframe tbody tr th {\n",
       "        vertical-align: top;\n",
       "    }\n",
       "\n",
       "    .dataframe thead th {\n",
       "        text-align: right;\n",
       "    }\n",
       "</style>\n",
       "<table border=\"1\" class=\"dataframe\">\n",
       "  <thead>\n",
       "    <tr style=\"text-align: right;\">\n",
       "      <th></th>\n",
       "      <th>Make</th>\n",
       "      <th>Honda</th>\n",
       "      <th>Hyundai</th>\n",
       "      <th>Maruti Suzuki</th>\n",
       "      <th>Toyota</th>\n",
       "    </tr>\n",
       "  </thead>\n",
       "  <tbody>\n",
       "    <tr>\n",
       "      <th rowspan=\"8\" valign=\"top\">Heath score</th>\n",
       "      <th>count</th>\n",
       "      <td>863.00</td>\n",
       "      <td>1007.00</td>\n",
       "      <td>1529.00</td>\n",
       "      <td>472.00</td>\n",
       "    </tr>\n",
       "    <tr>\n",
       "      <th>mean</th>\n",
       "      <td>5.80</td>\n",
       "      <td>5.74</td>\n",
       "      <td>5.70</td>\n",
       "      <td>5.38</td>\n",
       "    </tr>\n",
       "    <tr>\n",
       "      <th>std</th>\n",
       "      <td>1.58</td>\n",
       "      <td>1.62</td>\n",
       "      <td>1.61</td>\n",
       "      <td>1.71</td>\n",
       "    </tr>\n",
       "    <tr>\n",
       "      <th>min</th>\n",
       "      <td>3.30</td>\n",
       "      <td>3.30</td>\n",
       "      <td>3.30</td>\n",
       "      <td>3.30</td>\n",
       "    </tr>\n",
       "    <tr>\n",
       "      <th>25%</th>\n",
       "      <td>4.50</td>\n",
       "      <td>4.50</td>\n",
       "      <td>4.50</td>\n",
       "      <td>4.30</td>\n",
       "    </tr>\n",
       "    <tr>\n",
       "      <th>50%</th>\n",
       "      <td>5.00</td>\n",
       "      <td>5.00</td>\n",
       "      <td>5.00</td>\n",
       "      <td>4.80</td>\n",
       "    </tr>\n",
       "    <tr>\n",
       "      <th>75%</th>\n",
       "      <td>6.80</td>\n",
       "      <td>6.80</td>\n",
       "      <td>6.80</td>\n",
       "      <td>6.40</td>\n",
       "    </tr>\n",
       "    <tr>\n",
       "      <th>max</th>\n",
       "      <td>9.90</td>\n",
       "      <td>9.90</td>\n",
       "      <td>9.90</td>\n",
       "      <td>9.90</td>\n",
       "    </tr>\n",
       "    <tr>\n",
       "      <th rowspan=\"8\" valign=\"top\">on road price</th>\n",
       "      <th>count</th>\n",
       "      <td>863.00</td>\n",
       "      <td>1007.00</td>\n",
       "      <td>1529.00</td>\n",
       "      <td>472.00</td>\n",
       "    </tr>\n",
       "    <tr>\n",
       "      <th>mean</th>\n",
       "      <td>1262918.36</td>\n",
       "      <td>766658.15</td>\n",
       "      <td>638702.90</td>\n",
       "      <td>1686380.33</td>\n",
       "    </tr>\n",
       "    <tr>\n",
       "      <th>std</th>\n",
       "      <td>542562.46</td>\n",
       "      <td>393349.28</td>\n",
       "      <td>202345.28</td>\n",
       "      <td>834465.38</td>\n",
       "    </tr>\n",
       "    <tr>\n",
       "      <th>min</th>\n",
       "      <td>554012.00</td>\n",
       "      <td>359359.31</td>\n",
       "      <td>237274.73</td>\n",
       "      <td>560559.02</td>\n",
       "    </tr>\n",
       "    <tr>\n",
       "      <th>25%</th>\n",
       "      <td>900907.00</td>\n",
       "      <td>530124.30</td>\n",
       "      <td>490492.00</td>\n",
       "      <td>1281576.00</td>\n",
       "    </tr>\n",
       "    <tr>\n",
       "      <th>50%</th>\n",
       "      <td>1004692.15</td>\n",
       "      <td>639278.12</td>\n",
       "      <td>566632.69</td>\n",
       "      <td>1525510.00</td>\n",
       "    </tr>\n",
       "    <tr>\n",
       "      <th>75%</th>\n",
       "      <td>1497108.30</td>\n",
       "      <td>874470.89</td>\n",
       "      <td>806540.75</td>\n",
       "      <td>1771712.00</td>\n",
       "    </tr>\n",
       "    <tr>\n",
       "      <th>max</th>\n",
       "      <td>3361376.00</td>\n",
       "      <td>3908606.00</td>\n",
       "      <td>2205274.00</td>\n",
       "      <td>10954664.00</td>\n",
       "    </tr>\n",
       "    <tr>\n",
       "      <th rowspan=\"8\" valign=\"top\">Current Price</th>\n",
       "      <th>count</th>\n",
       "      <td>863.00</td>\n",
       "      <td>1007.00</td>\n",
       "      <td>1529.00</td>\n",
       "      <td>472.00</td>\n",
       "    </tr>\n",
       "    <tr>\n",
       "      <th>mean</th>\n",
       "      <td>418625.13</td>\n",
       "      <td>370606.36</td>\n",
       "      <td>316530.14</td>\n",
       "      <td>809087.65</td>\n",
       "    </tr>\n",
       "    <tr>\n",
       "      <th>std</th>\n",
       "      <td>212694.35</td>\n",
       "      <td>231623.00</td>\n",
       "      <td>161149.64</td>\n",
       "      <td>531711.73</td>\n",
       "    </tr>\n",
       "    <tr>\n",
       "      <th>min</th>\n",
       "      <td>105600.00</td>\n",
       "      <td>51920.00</td>\n",
       "      <td>57200.00</td>\n",
       "      <td>180400.00</td>\n",
       "    </tr>\n",
       "    <tr>\n",
       "      <th>25%</th>\n",
       "      <td>260662.00</td>\n",
       "      <td>224502.00</td>\n",
       "      <td>202400.00</td>\n",
       "      <td>417198.00</td>\n",
       "    </tr>\n",
       "    <tr>\n",
       "      <th>50%</th>\n",
       "      <td>379950.00</td>\n",
       "      <td>309875.84</td>\n",
       "      <td>278838.00</td>\n",
       "      <td>651902.17</td>\n",
       "    </tr>\n",
       "    <tr>\n",
       "      <th>75%</th>\n",
       "      <td>498622.20</td>\n",
       "      <td>457943.26</td>\n",
       "      <td>380555.09</td>\n",
       "      <td>1063125.00</td>\n",
       "    </tr>\n",
       "    <tr>\n",
       "      <th>max</th>\n",
       "      <td>1686250.00</td>\n",
       "      <td>1737550.00</td>\n",
       "      <td>1087900.00</td>\n",
       "      <td>2974682.75</td>\n",
       "    </tr>\n",
       "    <tr>\n",
       "      <th rowspan=\"8\" valign=\"top\">Dep</th>\n",
       "      <th>count</th>\n",
       "      <td>863.00</td>\n",
       "      <td>1007.00</td>\n",
       "      <td>1529.00</td>\n",
       "      <td>472.00</td>\n",
       "    </tr>\n",
       "    <tr>\n",
       "      <th>mean</th>\n",
       "      <td>64.00</td>\n",
       "      <td>52.17</td>\n",
       "      <td>51.02</td>\n",
       "      <td>52.03</td>\n",
       "    </tr>\n",
       "    <tr>\n",
       "      <th>std</th>\n",
       "      <td>17.23</td>\n",
       "      <td>14.72</td>\n",
       "      <td>15.76</td>\n",
       "      <td>20.25</td>\n",
       "    </tr>\n",
       "    <tr>\n",
       "      <th>min</th>\n",
       "      <td>8.54</td>\n",
       "      <td>8.36</td>\n",
       "      <td>2.07</td>\n",
       "      <td>4.25</td>\n",
       "    </tr>\n",
       "    <tr>\n",
       "      <th>25%</th>\n",
       "      <td>52.05</td>\n",
       "      <td>43.35</td>\n",
       "      <td>39.44</td>\n",
       "      <td>37.00</td>\n",
       "    </tr>\n",
       "    <tr>\n",
       "      <th>50%</th>\n",
       "      <td>67.10</td>\n",
       "      <td>52.83</td>\n",
       "      <td>52.23</td>\n",
       "      <td>53.45</td>\n",
       "    </tr>\n",
       "    <tr>\n",
       "      <th>75%</th>\n",
       "      <td>78.34</td>\n",
       "      <td>62.04</td>\n",
       "      <td>63.39</td>\n",
       "      <td>68.68</td>\n",
       "    </tr>\n",
       "    <tr>\n",
       "      <th>max</th>\n",
       "      <td>92.45</td>\n",
       "      <td>90.75</td>\n",
       "      <td>89.67</td>\n",
       "      <td>89.21</td>\n",
       "    </tr>\n",
       "  </tbody>\n",
       "</table>\n",
       "</div>"
      ],
      "text/plain": [
       "Make                      Honda     Hyundai  Maruti Suzuki       Toyota\n",
       "Heath score   count      863.00     1007.00        1529.00       472.00\n",
       "              mean         5.80        5.74           5.70         5.38\n",
       "              std          1.58        1.62           1.61         1.71\n",
       "              min          3.30        3.30           3.30         3.30\n",
       "              25%          4.50        4.50           4.50         4.30\n",
       "              50%          5.00        5.00           5.00         4.80\n",
       "              75%          6.80        6.80           6.80         6.40\n",
       "              max          9.90        9.90           9.90         9.90\n",
       "on road price count      863.00     1007.00        1529.00       472.00\n",
       "              mean   1262918.36   766658.15      638702.90   1686380.33\n",
       "              std     542562.46   393349.28      202345.28    834465.38\n",
       "              min     554012.00   359359.31      237274.73    560559.02\n",
       "              25%     900907.00   530124.30      490492.00   1281576.00\n",
       "              50%    1004692.15   639278.12      566632.69   1525510.00\n",
       "              75%    1497108.30   874470.89      806540.75   1771712.00\n",
       "              max    3361376.00  3908606.00     2205274.00  10954664.00\n",
       "Current Price count      863.00     1007.00        1529.00       472.00\n",
       "              mean    418625.13   370606.36      316530.14    809087.65\n",
       "              std     212694.35   231623.00      161149.64    531711.73\n",
       "              min     105600.00    51920.00       57200.00    180400.00\n",
       "              25%     260662.00   224502.00      202400.00    417198.00\n",
       "              50%     379950.00   309875.84      278838.00    651902.17\n",
       "              75%     498622.20   457943.26      380555.09   1063125.00\n",
       "              max    1686250.00  1737550.00     1087900.00   2974682.75\n",
       "Dep           count      863.00     1007.00        1529.00       472.00\n",
       "              mean        64.00       52.17          51.02        52.03\n",
       "              std         17.23       14.72          15.76        20.25\n",
       "              min          8.54        8.36           2.07         4.25\n",
       "              25%         52.05       43.35          39.44        37.00\n",
       "              50%         67.10       52.83          52.23        53.45\n",
       "              75%         78.34       62.04          63.39        68.68\n",
       "              max         92.45       90.75          89.67        89.21"
      ]
     },
     "execution_count": 21,
     "metadata": {},
     "output_type": "execute_result"
    }
   ],
   "source": [
    "indata.groupby('Make')['Heath score','on road price', 'Current Price', 'Dep'].describe().transpose().round(2)"
   ]
  },
  {
   "cell_type": "markdown",
   "metadata": {},
   "source": [
    "#### Checking for outliners and data distribution"
   ]
  },
  {
   "cell_type": "code",
   "execution_count": 22,
   "metadata": {},
   "outputs": [
    {
     "data": {
      "image/png": "[encoded data removed]",
      "text/plain": [
       "<matplotlib.figure.Figure at 0x2b1d0de5da0>"
      ]
     },
     "metadata": {},
     "output_type": "display_data"
    }
   ],
   "source": [
    "sns.distplot(indata['on road price'], fit=norm);"
   ]
  },
  {
   "cell_type": "code",
   "execution_count": 23,
   "metadata": {},
   "outputs": [
    {
     "data": {
      "image/png": "[encoded data removed]",
      "text/plain": [
       "<matplotlib.figure.Figure at 0x2b1d04971d0>"
      ]
     },
     "metadata": {},
     "output_type": "display_data"
    }
   ],
   "source": [
    "sns.distplot(indata['Current Price'], fit=norm);"
   ]
  },
  {
   "cell_type": "code",
   "execution_count": 24,
   "metadata": {},
   "outputs": [
    {
     "data": {
      "image/png": "[encoded data removed]",
      "text/plain": [
       "<matplotlib.figure.Figure at 0x2b1d0a020b8>"
      ]
     },
     "metadata": {},
     "output_type": "display_data"
    }
   ],
   "source": [
    "sns.distplot(indata['Dep'], fit=norm);"
   ]
  },
  {
   "cell_type": "code",
   "execution_count": 25,
   "metadata": {},
   "outputs": [
    {
     "data": {
      "image/png": "[encoded data removed]",
      "text/plain": [
       "<matplotlib.figure.Figure at 0x2b1d1444898>"
      ]
     },
     "metadata": {},
     "output_type": "display_data"
    }
   ],
   "source": [
    "sns.distplot(indata['Heath score'], fit=norm);"
   ]
  },
  {
   "cell_type": "code",
   "execution_count": 26,
   "metadata": {},
   "outputs": [
    {
     "data": {
      "image/png": "[encoded data removed]",
      "text/plain": [
       "<matplotlib.figure.Figure at 0x2b1d0e73860>"
      ]
     },
     "metadata": {},
     "output_type": "display_data"
    }
   ],
   "source": [
    "sns.distplot(indata['price score'], fit=norm);"
   ]
  },
  {
   "cell_type": "code",
   "execution_count": 27,
   "metadata": {},
   "outputs": [
    {
     "data": {
      "image/png": "[encoded data removed]",
      "text/plain": [
       "<matplotlib.figure.Figure at 0x2b1d0f69240>"
      ]
     },
     "metadata": {},
     "output_type": "display_data"
    }
   ],
   "source": [
    "sns.distplot(indata['Kms'], fit=norm);"
   ]
  },
  {
   "cell_type": "code",
   "execution_count": 28,
   "metadata": {},
   "outputs": [
    {
     "data": {
      "text/plain": [
       "<matplotlib.axes._subplots.AxesSubplot at 0x2b1d156fdd8>"
      ]
     },
     "execution_count": 28,
     "metadata": {},
     "output_type": "execute_result"
    },
    {
     "data": {
      "image/png": "[encoded data removed]",
      "text/plain": [
       "<matplotlib.figure.Figure at 0x2b1d13a7dd8>"
      ]
     },
     "metadata": {},
     "output_type": "display_data"
    }
   ],
   "source": [
    "indata.plot('Kms','Dep',kind='scatter')"
   ]
  },
  {
   "cell_type": "code",
   "execution_count": 29,
   "metadata": {},
   "outputs": [
    {
     "data": {
      "text/plain": [
       "<matplotlib.axes._subplots.AxesSubplot at 0x2b1d0869198>"
      ]
     },
     "execution_count": 29,
     "metadata": {},
     "output_type": "execute_result"
    },
    {
     "data": {
      "image/png": "[encoded data removed]",
      "text/plain": [
       "<matplotlib.figure.Figure at 0x2b1d062ec50>"
      ]
     },
     "metadata": {},
     "output_type": "display_data"
    }
   ],
   "source": [
    "indata.plot('on road price','Dep',kind='scatter')"
   ]
  },
  {
   "cell_type": "code",
   "execution_count": 30,
   "metadata": {},
   "outputs": [
    {
     "data": {
      "text/plain": [
       "<matplotlib.axes._subplots.AxesSubplot at 0x2b1d08a0a20>"
      ]
     },
     "execution_count": 30,
     "metadata": {},
     "output_type": "execute_result"
    },
    {
     "data": {
      "image/png": "[encoded data removed]",
      "text/plain": [
       "<matplotlib.figure.Figure at 0x2b1d1106e48>"
      ]
     },
     "metadata": {},
     "output_type": "display_data"
    }
   ],
   "source": [
    "indata.plot('price score','Dep',kind='scatter')"
   ]
  },
  {
   "cell_type": "code",
   "execution_count": 31,
   "metadata": {},
   "outputs": [
    {
     "data": {
      "text/plain": [
       "<matplotlib.axes._subplots.AxesSubplot at 0x2b1d0a83eb8>"
      ]
     },
     "execution_count": 31,
     "metadata": {},
     "output_type": "execute_result"
    },
    {
     "data": {
      "image/png": "[encoded data removed]",
      "text/plain": [
       "<matplotlib.figure.Figure at 0x2b1d0b52cc0>"
      ]
     },
     "metadata": {},
     "output_type": "display_data"
    }
   ],
   "source": [
    "indata.plot('Heath score','Dep',kind='scatter')"
   ]
  },
  {
   "cell_type": "code",
   "execution_count": 32,
   "metadata": {},
   "outputs": [
    {
     "data": {
      "text/plain": [
       "<matplotlib.axes._subplots.AxesSubplot at 0x2b1d1203f60>"
      ]
     },
     "execution_count": 32,
     "metadata": {},
     "output_type": "execute_result"
    },
    {
     "data": {
      "image/png": "[encoded data removed]",
      "text/plain": [
       "<matplotlib.figure.Figure at 0x2b1d1013a90>"
      ]
     },
     "metadata": {},
     "output_type": "display_data"
    }
   ],
   "source": [
    "indata.plot('Current Price','Dep', kind='scatter')"
   ]
  },
  {
   "cell_type": "code",
   "execution_count": 33,
   "metadata": {},
   "outputs": [
    {
     "data": {
      "text/plain": [
       "<matplotlib.axes._subplots.AxesSubplot at 0x2b1d102f710>"
      ]
     },
     "execution_count": 33,
     "metadata": {},
     "output_type": "execute_result"
    },
    {
     "data": {
      "image/png": "[encoded data removed]",
      "text/plain": [
       "<matplotlib.figure.Figure at 0x2b1d04b5f28>"
      ]
     },
     "metadata": {},
     "output_type": "display_data"
    }
   ],
   "source": [
    "sns.boxplot(x='Age',y='Dep',data=indata)"
   ]
  },
  {
   "cell_type": "code",
   "execution_count": 34,
   "metadata": {},
   "outputs": [
    {
     "data": {
      "text/plain": [
       "<matplotlib.axes._subplots.AxesSubplot at 0x2b1d01c3da0>"
      ]
     },
     "execution_count": 34,
     "metadata": {},
     "output_type": "execute_result"
    },
    {
     "data": {
      "image/png": "[encoded data removed]",
      "text/plain": [
       "<matplotlib.figure.Figure at 0x2b1d1416cc0>"
      ]
     },
     "metadata": {},
     "output_type": "display_data"
    }
   ],
   "source": [
    "sns.boxplot(x='No of Owner',y='Dep',data=indata)"
   ]
  },
  {
   "cell_type": "code",
   "execution_count": 35,
   "metadata": {},
   "outputs": [
    {
     "data": {
      "text/html": [
       "<div>\n",
       "<style scoped>\n",
       "    .dataframe tbody tr th:only-of-type {\n",
       "        vertical-align: middle;\n",
       "    }\n",
       "\n",
       "    .dataframe tbody tr th {\n",
       "        vertical-align: top;\n",
       "    }\n",
       "\n",
       "    .dataframe thead th {\n",
       "        text-align: right;\n",
       "    }\n",
       "</style>\n",
       "<table border=\"1\" class=\"dataframe\">\n",
       "  <thead>\n",
       "    <tr style=\"text-align: right;\">\n",
       "      <th></th>\n",
       "      <th>MMV</th>\n",
       "      <th>Make</th>\n",
       "      <th>Model</th>\n",
       "      <th>Variant</th>\n",
       "      <th>Type</th>\n",
       "      <th>Fuel Type</th>\n",
       "      <th>Age</th>\n",
       "      <th>Transmission</th>\n",
       "      <th>Color</th>\n",
       "      <th>Kms</th>\n",
       "      <th>No of Owner</th>\n",
       "      <th>Heath score</th>\n",
       "      <th>price score</th>\n",
       "      <th>on road price</th>\n",
       "      <th>Current Price</th>\n",
       "      <th>Dep</th>\n",
       "    </tr>\n",
       "  </thead>\n",
       "  <tbody>\n",
       "    <tr>\n",
       "      <th>3724</th>\n",
       "      <td>ToyotaLand CruiserLC200 VX Premium 2</td>\n",
       "      <td>Toyota</td>\n",
       "      <td>Land Cruiser</td>\n",
       "      <td>LC200 VX Premium 2</td>\n",
       "      <td>SUV</td>\n",
       "      <td>PETROL</td>\n",
       "      <td>12</td>\n",
       "      <td>Automatic</td>\n",
       "      <td>White</td>\n",
       "      <td>80000</td>\n",
       "      <td>2</td>\n",
       "      <td>9.9</td>\n",
       "      <td>8.0</td>\n",
       "      <td>10954664.00</td>\n",
       "      <td>1567500.00</td>\n",
       "      <td>85.691026</td>\n",
       "    </tr>\n",
       "    <tr>\n",
       "      <th>2047</th>\n",
       "      <td>ToyotaFortunerSigma4</td>\n",
       "      <td>Toyota</td>\n",
       "      <td>Fortuner</td>\n",
       "      <td>Sigma4</td>\n",
       "      <td>SUV</td>\n",
       "      <td>DIESEL</td>\n",
       "      <td>1</td>\n",
       "      <td>Automatic</td>\n",
       "      <td>Other</td>\n",
       "      <td>25000</td>\n",
       "      <td>1</td>\n",
       "      <td>7.7</td>\n",
       "      <td>7.0</td>\n",
       "      <td>3946758.65</td>\n",
       "      <td>2974682.75</td>\n",
       "      <td>24.629727</td>\n",
       "    </tr>\n",
       "    <tr>\n",
       "      <th>344</th>\n",
       "      <td>HyundaiSanta Fe4WD AT</td>\n",
       "      <td>Hyundai</td>\n",
       "      <td>Santa Fe</td>\n",
       "      <td>4WD AT</td>\n",
       "      <td>SUV</td>\n",
       "      <td>DIESEL</td>\n",
       "      <td>7</td>\n",
       "      <td>Automatic</td>\n",
       "      <td>White</td>\n",
       "      <td>60710</td>\n",
       "      <td>2</td>\n",
       "      <td>4.8</td>\n",
       "      <td>8.1</td>\n",
       "      <td>3908606.00</td>\n",
       "      <td>1018656.00</td>\n",
       "      <td>73.938125</td>\n",
       "    </tr>\n",
       "    <tr>\n",
       "      <th>363</th>\n",
       "      <td>HyundaiSanta Fe4WD AT</td>\n",
       "      <td>Hyundai</td>\n",
       "      <td>Santa Fe</td>\n",
       "      <td>4WD AT</td>\n",
       "      <td>SUV</td>\n",
       "      <td>DIESEL</td>\n",
       "      <td>6</td>\n",
       "      <td>Automatic</td>\n",
       "      <td>White</td>\n",
       "      <td>57000</td>\n",
       "      <td>1</td>\n",
       "      <td>6.0</td>\n",
       "      <td>9.9</td>\n",
       "      <td>3908606.00</td>\n",
       "      <td>1330000.00</td>\n",
       "      <td>65.972523</td>\n",
       "    </tr>\n",
       "    <tr>\n",
       "      <th>2046</th>\n",
       "      <td>ToyotaFortuner2.84x4Mt</td>\n",
       "      <td>Toyota</td>\n",
       "      <td>Fortuner</td>\n",
       "      <td>2.84x4Mt</td>\n",
       "      <td>SUV</td>\n",
       "      <td>DIESEL</td>\n",
       "      <td>6</td>\n",
       "      <td>Manual</td>\n",
       "      <td>White</td>\n",
       "      <td>84000</td>\n",
       "      <td>2</td>\n",
       "      <td>3.5</td>\n",
       "      <td>8.2</td>\n",
       "      <td>3554355.85</td>\n",
       "      <td>1496250.00</td>\n",
       "      <td>57.903765</td>\n",
       "    </tr>\n",
       "  </tbody>\n",
       "</table>\n",
       "</div>"
      ],
      "text/plain": [
       "                                       MMV     Make         Model  \\\n",
       "3724  ToyotaLand CruiserLC200 VX Premium 2   Toyota  Land Cruiser   \n",
       "2047                  ToyotaFortunerSigma4   Toyota      Fortuner   \n",
       "344                  HyundaiSanta Fe4WD AT  Hyundai      Santa Fe   \n",
       "363                  HyundaiSanta Fe4WD AT  Hyundai      Santa Fe   \n",
       "2046                ToyotaFortuner2.84x4Mt   Toyota      Fortuner   \n",
       "\n",
       "                 Variant Type Fuel Type  Age Transmission  Color    Kms  \\\n",
       "3724  LC200 VX Premium 2  SUV    PETROL   12    Automatic  White  80000   \n",
       "2047              Sigma4  SUV    DIESEL    1    Automatic  Other  25000   \n",
       "344               4WD AT  SUV    DIESEL    7    Automatic  White  60710   \n",
       "363               4WD AT  SUV    DIESEL    6    Automatic  White  57000   \n",
       "2046            2.84x4Mt  SUV    DIESEL    6       Manual  White  84000   \n",
       "\n",
       "      No of Owner  Heath score  price score  on road price  Current Price  \\\n",
       "3724            2          9.9          8.0    10954664.00     1567500.00   \n",
       "2047            1          7.7          7.0     3946758.65     2974682.75   \n",
       "344             2          4.8          8.1     3908606.00     1018656.00   \n",
       "363             1          6.0          9.9     3908606.00     1330000.00   \n",
       "2046            2          3.5          8.2     3554355.85     1496250.00   \n",
       "\n",
       "            Dep  \n",
       "3724  85.691026  \n",
       "2047  24.629727  \n",
       "344   73.938125  \n",
       "363   65.972523  \n",
       "2046  57.903765  "
      ]
     },
     "execution_count": 35,
     "metadata": {},
     "output_type": "execute_result"
    }
   ],
   "source": [
    "indata.sort_values('on road price',ascending=False).head()"
   ]
  },
  {
   "cell_type": "code",
   "execution_count": 35,
   "metadata": {},
   "outputs": [],
   "source": [
    "#indata = indata.drop(indata[indata['on road price'] == 10954664.00].index)"
   ]
  },
  {
   "cell_type": "code",
   "execution_count": 36,
   "metadata": {},
   "outputs": [
    {
     "data": {
      "text/html": [
       "<div>\n",
       "<style scoped>\n",
       "    .dataframe tbody tr th:only-of-type {\n",
       "        vertical-align: middle;\n",
       "    }\n",
       "\n",
       "    .dataframe tbody tr th {\n",
       "        vertical-align: top;\n",
       "    }\n",
       "\n",
       "    .dataframe thead th {\n",
       "        text-align: right;\n",
       "    }\n",
       "</style>\n",
       "<table border=\"1\" class=\"dataframe\">\n",
       "  <thead>\n",
       "    <tr style=\"text-align: right;\">\n",
       "      <th></th>\n",
       "      <th>MMV</th>\n",
       "      <th>Make</th>\n",
       "      <th>Model</th>\n",
       "      <th>Variant</th>\n",
       "      <th>Type</th>\n",
       "      <th>Fuel Type</th>\n",
       "      <th>Age</th>\n",
       "      <th>Transmission</th>\n",
       "      <th>Color</th>\n",
       "      <th>Kms</th>\n",
       "      <th>No of Owner</th>\n",
       "      <th>Heath score</th>\n",
       "      <th>price score</th>\n",
       "      <th>on road price</th>\n",
       "      <th>Current Price</th>\n",
       "      <th>Dep</th>\n",
       "    </tr>\n",
       "  </thead>\n",
       "  <tbody>\n",
       "    <tr>\n",
       "      <th>2047</th>\n",
       "      <td>ToyotaFortunerSigma4</td>\n",
       "      <td>Toyota</td>\n",
       "      <td>Fortuner</td>\n",
       "      <td>Sigma4</td>\n",
       "      <td>SUV</td>\n",
       "      <td>DIESEL</td>\n",
       "      <td>1</td>\n",
       "      <td>Automatic</td>\n",
       "      <td>Other</td>\n",
       "      <td>25000</td>\n",
       "      <td>1</td>\n",
       "      <td>7.7</td>\n",
       "      <td>7.0</td>\n",
       "      <td>3.946759e+06</td>\n",
       "      <td>2974682.75</td>\n",
       "      <td>24.629727</td>\n",
       "    </tr>\n",
       "    <tr>\n",
       "      <th>2178</th>\n",
       "      <td>ToyotaFortuner2.74x2Mt</td>\n",
       "      <td>Toyota</td>\n",
       "      <td>Fortuner</td>\n",
       "      <td>2.74x2Mt</td>\n",
       "      <td>SUV</td>\n",
       "      <td>PETROL</td>\n",
       "      <td>1</td>\n",
       "      <td>Manual</td>\n",
       "      <td>White</td>\n",
       "      <td>30420</td>\n",
       "      <td>1</td>\n",
       "      <td>7.7</td>\n",
       "      <td>6.6</td>\n",
       "      <td>3.075816e+06</td>\n",
       "      <td>2945000.00</td>\n",
       "      <td>4.253046</td>\n",
       "    </tr>\n",
       "    <tr>\n",
       "      <th>2521</th>\n",
       "      <td>ToyotaFortuner3.0 4x4 AT</td>\n",
       "      <td>Toyota</td>\n",
       "      <td>Fortuner</td>\n",
       "      <td>3.0 4x4 AT</td>\n",
       "      <td>SUV</td>\n",
       "      <td>DIESEL</td>\n",
       "      <td>2</td>\n",
       "      <td>Automatic</td>\n",
       "      <td>White</td>\n",
       "      <td>23000</td>\n",
       "      <td>1</td>\n",
       "      <td>3.3</td>\n",
       "      <td>6.1</td>\n",
       "      <td>3.354590e+06</td>\n",
       "      <td>2565000.00</td>\n",
       "      <td>23.537596</td>\n",
       "    </tr>\n",
       "    <tr>\n",
       "      <th>159</th>\n",
       "      <td>ToyotaFortuner3.0 4x2 AT</td>\n",
       "      <td>Toyota</td>\n",
       "      <td>Fortuner</td>\n",
       "      <td>3.0 4x2 AT</td>\n",
       "      <td>SUV</td>\n",
       "      <td>DIESEL</td>\n",
       "      <td>3</td>\n",
       "      <td>Automatic</td>\n",
       "      <td>White</td>\n",
       "      <td>23163</td>\n",
       "      <td>1</td>\n",
       "      <td>4.0</td>\n",
       "      <td>4.4</td>\n",
       "      <td>3.133263e+06</td>\n",
       "      <td>2560250.00</td>\n",
       "      <td>18.288071</td>\n",
       "    </tr>\n",
       "    <tr>\n",
       "      <th>2215</th>\n",
       "      <td>ToyotaFortuner4x2 AT</td>\n",
       "      <td>Toyota</td>\n",
       "      <td>Fortuner</td>\n",
       "      <td>4x2 AT</td>\n",
       "      <td>SUV</td>\n",
       "      <td>DIESEL</td>\n",
       "      <td>3</td>\n",
       "      <td>Automatic</td>\n",
       "      <td>White</td>\n",
       "      <td>16000</td>\n",
       "      <td>1</td>\n",
       "      <td>9.9</td>\n",
       "      <td>6.0</td>\n",
       "      <td>2.671469e+06</td>\n",
       "      <td>2446250.00</td>\n",
       "      <td>8.430530</td>\n",
       "    </tr>\n",
       "  </tbody>\n",
       "</table>\n",
       "</div>"
      ],
      "text/plain": [
       "                           MMV    Make     Model     Variant Type Fuel Type  \\\n",
       "2047      ToyotaFortunerSigma4  Toyota  Fortuner      Sigma4  SUV    DIESEL   \n",
       "2178    ToyotaFortuner2.74x2Mt  Toyota  Fortuner    2.74x2Mt  SUV    PETROL   \n",
       "2521  ToyotaFortuner3.0 4x4 AT  Toyota  Fortuner  3.0 4x4 AT  SUV    DIESEL   \n",
       "159   ToyotaFortuner3.0 4x2 AT  Toyota  Fortuner  3.0 4x2 AT  SUV    DIESEL   \n",
       "2215      ToyotaFortuner4x2 AT  Toyota  Fortuner      4x2 AT  SUV    DIESEL   \n",
       "\n",
       "      Age Transmission  Color    Kms  No of Owner  Heath score  price score  \\\n",
       "2047    1    Automatic  Other  25000            1          7.7          7.0   \n",
       "2178    1       Manual  White  30420            1          7.7          6.6   \n",
       "2521    2    Automatic  White  23000            1          3.3          6.1   \n",
       "159     3    Automatic  White  23163            1          4.0          4.4   \n",
       "2215    3    Automatic  White  16000            1          9.9          6.0   \n",
       "\n",
       "      on road price  Current Price        Dep  \n",
       "2047   3.946759e+06     2974682.75  24.629727  \n",
       "2178   3.075816e+06     2945000.00   4.253046  \n",
       "2521   3.354590e+06     2565000.00  23.537596  \n",
       "159    3.133263e+06     2560250.00  18.288071  \n",
       "2215   2.671469e+06     2446250.00   8.430530  "
      ]
     },
     "execution_count": 36,
     "metadata": {},
     "output_type": "execute_result"
    }
   ],
   "source": [
    "indata.sort_values('Current Price',ascending=False).head()"
   ]
  },
  {
   "cell_type": "code",
   "execution_count": 9,
   "metadata": {},
   "outputs": [],
   "source": [
    "indata = indata.drop(indata[indata['Kms'] > 800000].index)"
   ]
  },
  {
   "cell_type": "code",
   "execution_count": 10,
   "metadata": {},
   "outputs": [],
   "source": [
    "indata = indata.drop(indata[indata['Current Price'] > 2800000].index)"
   ]
  },
  {
   "cell_type": "code",
   "execution_count": 39,
   "metadata": {},
   "outputs": [
    {
     "data": {
      "text/html": [
       "<div>\n",
       "<style scoped>\n",
       "    .dataframe tbody tr th:only-of-type {\n",
       "        vertical-align: middle;\n",
       "    }\n",
       "\n",
       "    .dataframe tbody tr th {\n",
       "        vertical-align: top;\n",
       "    }\n",
       "\n",
       "    .dataframe thead th {\n",
       "        text-align: right;\n",
       "    }\n",
       "</style>\n",
       "<table border=\"1\" class=\"dataframe\">\n",
       "  <thead>\n",
       "    <tr style=\"text-align: right;\">\n",
       "      <th></th>\n",
       "      <th>MMV</th>\n",
       "      <th>Make</th>\n",
       "      <th>Model</th>\n",
       "      <th>Variant</th>\n",
       "      <th>Type</th>\n",
       "      <th>Fuel Type</th>\n",
       "      <th>Age</th>\n",
       "      <th>Transmission</th>\n",
       "      <th>Color</th>\n",
       "      <th>Kms</th>\n",
       "      <th>No of Owner</th>\n",
       "      <th>Heath score</th>\n",
       "      <th>price score</th>\n",
       "      <th>on road price</th>\n",
       "      <th>Current Price</th>\n",
       "      <th>Dep</th>\n",
       "    </tr>\n",
       "  </thead>\n",
       "  <tbody>\n",
       "    <tr>\n",
       "      <th>2235</th>\n",
       "      <td>Maruti SuzukiWagon RLXI</td>\n",
       "      <td>Maruti Suzuki</td>\n",
       "      <td>Wagon R</td>\n",
       "      <td>LXI</td>\n",
       "      <td>Hatchback</td>\n",
       "      <td>PETROL</td>\n",
       "      <td>7</td>\n",
       "      <td>Manual</td>\n",
       "      <td>Grey</td>\n",
       "      <td>85903</td>\n",
       "      <td>3</td>\n",
       "      <td>5.4</td>\n",
       "      <td>3.4</td>\n",
       "      <td>475198.2</td>\n",
       "      <td>352182.000</td>\n",
       "      <td>25.887346</td>\n",
       "    </tr>\n",
       "    <tr>\n",
       "      <th>2324</th>\n",
       "      <td>Maruti SuzukiErtigaVXI</td>\n",
       "      <td>Maruti Suzuki</td>\n",
       "      <td>Ertiga</td>\n",
       "      <td>VXI</td>\n",
       "      <td>MUV</td>\n",
       "      <td>PETROL</td>\n",
       "      <td>3</td>\n",
       "      <td>Automatic</td>\n",
       "      <td>White</td>\n",
       "      <td>41000</td>\n",
       "      <td>4</td>\n",
       "      <td>9.3</td>\n",
       "      <td>7.0</td>\n",
       "      <td>899612.0</td>\n",
       "      <td>641199.028</td>\n",
       "      <td>28.724936</td>\n",
       "    </tr>\n",
       "  </tbody>\n",
       "</table>\n",
       "</div>"
      ],
      "text/plain": [
       "                          MMV           Make    Model Variant       Type  \\\n",
       "2235  Maruti SuzukiWagon RLXI  Maruti Suzuki  Wagon R     LXI  Hatchback   \n",
       "2324   Maruti SuzukiErtigaVXI  Maruti Suzuki   Ertiga     VXI        MUV   \n",
       "\n",
       "     Fuel Type  Age Transmission  Color    Kms  No of Owner  Heath score  \\\n",
       "2235    PETROL    7       Manual   Grey  85903            3          5.4   \n",
       "2324    PETROL    3    Automatic  White  41000            4          9.3   \n",
       "\n",
       "      price score  on road price  Current Price        Dep  \n",
       "2235          3.4       475198.2     352182.000  25.887346  \n",
       "2324          7.0       899612.0     641199.028  28.724936  "
      ]
     },
     "execution_count": 39,
     "metadata": {},
     "output_type": "execute_result"
    }
   ],
   "source": [
    "indata.loc[(indata['Dep'] < 40) & indata['No of Owner'].isin([3,4])]"
   ]
  },
  {
   "cell_type": "code",
   "execution_count": 40,
   "metadata": {},
   "outputs": [
    {
     "data": {
      "text/html": [
       "<div>\n",
       "<style scoped>\n",
       "    .dataframe tbody tr th:only-of-type {\n",
       "        vertical-align: middle;\n",
       "    }\n",
       "\n",
       "    .dataframe tbody tr th {\n",
       "        vertical-align: top;\n",
       "    }\n",
       "\n",
       "    .dataframe thead th {\n",
       "        text-align: right;\n",
       "    }\n",
       "</style>\n",
       "<table border=\"1\" class=\"dataframe\">\n",
       "  <thead>\n",
       "    <tr style=\"text-align: right;\">\n",
       "      <th></th>\n",
       "      <th>MMV</th>\n",
       "      <th>Make</th>\n",
       "      <th>Model</th>\n",
       "      <th>Variant</th>\n",
       "      <th>Type</th>\n",
       "      <th>Fuel Type</th>\n",
       "      <th>Age</th>\n",
       "      <th>Transmission</th>\n",
       "      <th>Color</th>\n",
       "      <th>Kms</th>\n",
       "      <th>No of Owner</th>\n",
       "      <th>Heath score</th>\n",
       "      <th>price score</th>\n",
       "      <th>on road price</th>\n",
       "      <th>Current Price</th>\n",
       "      <th>Dep</th>\n",
       "    </tr>\n",
       "  </thead>\n",
       "  <tbody>\n",
       "    <tr>\n",
       "      <th>2000</th>\n",
       "      <td>ToyotaInnova2.5 V 8 STR</td>\n",
       "      <td>Toyota</td>\n",
       "      <td>Innova</td>\n",
       "      <td>2.5 V 8 STR</td>\n",
       "      <td>MUV</td>\n",
       "      <td>DIESEL</td>\n",
       "      <td>4</td>\n",
       "      <td>Manual</td>\n",
       "      <td>White</td>\n",
       "      <td>94000</td>\n",
       "      <td>2</td>\n",
       "      <td>4.2</td>\n",
       "      <td>4.8</td>\n",
       "      <td>1.322223e+06</td>\n",
       "      <td>1235000.0</td>\n",
       "      <td>6.596694</td>\n",
       "    </tr>\n",
       "    <tr>\n",
       "      <th>3851</th>\n",
       "      <td>HyundaiI20Sportz 1.4 CRDI</td>\n",
       "      <td>Hyundai</td>\n",
       "      <td>I20</td>\n",
       "      <td>Sportz 1.4 CRDI</td>\n",
       "      <td>Hatchback</td>\n",
       "      <td>DIESEL</td>\n",
       "      <td>2</td>\n",
       "      <td>Manual</td>\n",
       "      <td>Red</td>\n",
       "      <td>7000</td>\n",
       "      <td>2</td>\n",
       "      <td>8.4</td>\n",
       "      <td>4.3</td>\n",
       "      <td>8.404881e+05</td>\n",
       "      <td>754038.0</td>\n",
       "      <td>10.285700</td>\n",
       "    </tr>\n",
       "  </tbody>\n",
       "</table>\n",
       "</div>"
      ],
      "text/plain": [
       "                            MMV     Make   Model          Variant       Type  \\\n",
       "2000    ToyotaInnova2.5 V 8 STR   Toyota  Innova      2.5 V 8 STR        MUV   \n",
       "3851  HyundaiI20Sportz 1.4 CRDI  Hyundai     I20  Sportz 1.4 CRDI  Hatchback   \n",
       "\n",
       "     Fuel Type  Age Transmission  Color    Kms  No of Owner  Heath score  \\\n",
       "2000    DIESEL    4       Manual  White  94000            2          4.2   \n",
       "3851    DIESEL    2       Manual    Red   7000            2          8.4   \n",
       "\n",
       "      price score  on road price  Current Price        Dep  \n",
       "2000          4.8   1.322223e+06      1235000.0   6.596694  \n",
       "3851          4.3   8.404881e+05       754038.0  10.285700  "
      ]
     },
     "execution_count": 40,
     "metadata": {},
     "output_type": "execute_result"
    }
   ],
   "source": [
    "indata.loc[(indata['Dep'] < 20) & indata['No of Owner'].isin([2])]"
   ]
  },
  {
   "cell_type": "code",
   "execution_count": 41,
   "metadata": {},
   "outputs": [
    {
     "data": {
      "text/html": [
       "<div>\n",
       "<style scoped>\n",
       "    .dataframe tbody tr th:only-of-type {\n",
       "        vertical-align: middle;\n",
       "    }\n",
       "\n",
       "    .dataframe tbody tr th {\n",
       "        vertical-align: top;\n",
       "    }\n",
       "\n",
       "    .dataframe thead th {\n",
       "        text-align: right;\n",
       "    }\n",
       "</style>\n",
       "<table border=\"1\" class=\"dataframe\">\n",
       "  <thead>\n",
       "    <tr style=\"text-align: right;\">\n",
       "      <th></th>\n",
       "      <th>MMV</th>\n",
       "      <th>Make</th>\n",
       "      <th>Model</th>\n",
       "      <th>Variant</th>\n",
       "      <th>Type</th>\n",
       "      <th>Fuel Type</th>\n",
       "      <th>Age</th>\n",
       "      <th>Transmission</th>\n",
       "      <th>Color</th>\n",
       "      <th>Kms</th>\n",
       "      <th>No of Owner</th>\n",
       "      <th>Heath score</th>\n",
       "      <th>price score</th>\n",
       "      <th>on road price</th>\n",
       "      <th>Current Price</th>\n",
       "      <th>Dep</th>\n",
       "    </tr>\n",
       "  </thead>\n",
       "  <tbody>\n",
       "    <tr>\n",
       "      <th>25</th>\n",
       "      <td>HyundaiI10Magna</td>\n",
       "      <td>Hyundai</td>\n",
       "      <td>I10</td>\n",
       "      <td>Magna</td>\n",
       "      <td>Hatchback</td>\n",
       "      <td>PETROL</td>\n",
       "      <td>8</td>\n",
       "      <td>Manual</td>\n",
       "      <td>White</td>\n",
       "      <td>6500</td>\n",
       "      <td>1</td>\n",
       "      <td>6.8</td>\n",
       "      <td>4.6</td>\n",
       "      <td>462988.362962</td>\n",
       "      <td>384592.0</td>\n",
       "      <td>16.932685</td>\n",
       "    </tr>\n",
       "    <tr>\n",
       "      <th>218</th>\n",
       "      <td>HyundaiI10Magna 1.2 Kappa2</td>\n",
       "      <td>Hyundai</td>\n",
       "      <td>I10</td>\n",
       "      <td>Magna 1.2 Kappa2</td>\n",
       "      <td>Hatchback</td>\n",
       "      <td>PETROL</td>\n",
       "      <td>9</td>\n",
       "      <td>Manual</td>\n",
       "      <td>Red</td>\n",
       "      <td>90000</td>\n",
       "      <td>1</td>\n",
       "      <td>8.3</td>\n",
       "      <td>4.0</td>\n",
       "      <td>510208.569135</td>\n",
       "      <td>450000.0</td>\n",
       "      <td>11.800776</td>\n",
       "    </tr>\n",
       "    <tr>\n",
       "      <th>2331</th>\n",
       "      <td>Maruti SuzukiSwiftLXi</td>\n",
       "      <td>Maruti Suzuki</td>\n",
       "      <td>Swift</td>\n",
       "      <td>LXi</td>\n",
       "      <td>Hatchback</td>\n",
       "      <td>PETROL</td>\n",
       "      <td>9</td>\n",
       "      <td>Automatic</td>\n",
       "      <td>Red</td>\n",
       "      <td>75145</td>\n",
       "      <td>1</td>\n",
       "      <td>6.4</td>\n",
       "      <td>4.2</td>\n",
       "      <td>463669.617616</td>\n",
       "      <td>403200.0</td>\n",
       "      <td>13.041531</td>\n",
       "    </tr>\n",
       "  </tbody>\n",
       "</table>\n",
       "</div>"
      ],
      "text/plain": [
       "                             MMV           Make  Model           Variant  \\\n",
       "25               HyundaiI10Magna        Hyundai    I10             Magna   \n",
       "218   HyundaiI10Magna 1.2 Kappa2        Hyundai    I10  Magna 1.2 Kappa2   \n",
       "2331       Maruti SuzukiSwiftLXi  Maruti Suzuki  Swift               LXi   \n",
       "\n",
       "           Type Fuel Type  Age Transmission  Color    Kms  No of Owner  \\\n",
       "25    Hatchback    PETROL    8       Manual  White   6500            1   \n",
       "218   Hatchback    PETROL    9       Manual    Red  90000            1   \n",
       "2331  Hatchback    PETROL    9    Automatic    Red  75145            1   \n",
       "\n",
       "      Heath score  price score  on road price  Current Price        Dep  \n",
       "25            6.8          4.6  462988.362962       384592.0  16.932685  \n",
       "218           8.3          4.0  510208.569135       450000.0  11.800776  \n",
       "2331          6.4          4.2  463669.617616       403200.0  13.041531  "
      ]
     },
     "execution_count": 41,
     "metadata": {},
     "output_type": "execute_result"
    }
   ],
   "source": [
    "indata.loc[(indata['Dep'] < 20) & indata['Age'].isin([8,9,10,11,12])]"
   ]
  },
  {
   "cell_type": "code",
   "execution_count": 42,
   "metadata": {},
   "outputs": [
    {
     "data": {
      "text/plain": [
       "(3865, 16)"
      ]
     },
     "execution_count": 42,
     "metadata": {},
     "output_type": "execute_result"
    }
   ],
   "source": [
    "indata.shape"
   ]
  },
  {
   "cell_type": "code",
   "execution_count": 11,
   "metadata": {},
   "outputs": [],
   "source": [
    "indata.drop([3724,2235,2324,2000,218,2331,25], inplace=True)"
   ]
  },
  {
   "cell_type": "code",
   "execution_count": 12,
   "metadata": {},
   "outputs": [
    {
     "data": {
      "text/plain": [
       "(3858, 16)"
      ]
     },
     "execution_count": 12,
     "metadata": {},
     "output_type": "execute_result"
    }
   ],
   "source": [
    "indata.shape"
   ]
  },
  {
   "cell_type": "markdown",
   "metadata": {},
   "source": [
    "#### Creating a subset of the input data"
   ]
  },
  {
   "cell_type": "code",
   "execution_count": 13,
   "metadata": {},
   "outputs": [
    {
     "data": {
      "text/html": [
       "<div>\n",
       "<style scoped>\n",
       "    .dataframe tbody tr th:only-of-type {\n",
       "        vertical-align: middle;\n",
       "    }\n",
       "\n",
       "    .dataframe tbody tr th {\n",
       "        vertical-align: top;\n",
       "    }\n",
       "\n",
       "    .dataframe thead th {\n",
       "        text-align: right;\n",
       "    }\n",
       "</style>\n",
       "<table border=\"1\" class=\"dataframe\">\n",
       "  <thead>\n",
       "    <tr style=\"text-align: right;\">\n",
       "      <th></th>\n",
       "      <th>Make</th>\n",
       "      <th>Model</th>\n",
       "      <th>Variant</th>\n",
       "      <th>Transmission</th>\n",
       "      <th>Color</th>\n",
       "      <th>No of Owner</th>\n",
       "      <th>Kms</th>\n",
       "      <th>Type</th>\n",
       "      <th>Fuel Type</th>\n",
       "      <th>on road price</th>\n",
       "      <th>Dep</th>\n",
       "    </tr>\n",
       "  </thead>\n",
       "  <tbody>\n",
       "    <tr>\n",
       "      <th>0</th>\n",
       "      <td>Hyundai</td>\n",
       "      <td>I10</td>\n",
       "      <td>Sportz 1.2</td>\n",
       "      <td>Manual</td>\n",
       "      <td>White</td>\n",
       "      <td>1</td>\n",
       "      <td>12000</td>\n",
       "      <td>Hatchback</td>\n",
       "      <td>PETROL</td>\n",
       "      <td>5.378497e+05</td>\n",
       "      <td>37.091715</td>\n",
       "    </tr>\n",
       "    <tr>\n",
       "      <th>1</th>\n",
       "      <td>Hyundai</td>\n",
       "      <td>I20</td>\n",
       "      <td>Magna (O) 1.2</td>\n",
       "      <td>Manual</td>\n",
       "      <td>Beige</td>\n",
       "      <td>1</td>\n",
       "      <td>68000</td>\n",
       "      <td>Hatchback</td>\n",
       "      <td>PETROL</td>\n",
       "      <td>6.138627e+05</td>\n",
       "      <td>69.178775</td>\n",
       "    </tr>\n",
       "    <tr>\n",
       "      <th>2</th>\n",
       "      <td>Hyundai</td>\n",
       "      <td>I20</td>\n",
       "      <td>Sportz 1.2</td>\n",
       "      <td>Manual</td>\n",
       "      <td>White</td>\n",
       "      <td>1</td>\n",
       "      <td>31143</td>\n",
       "      <td>Hatchback</td>\n",
       "      <td>PETROL</td>\n",
       "      <td>6.783586e+05</td>\n",
       "      <td>48.763381</td>\n",
       "    </tr>\n",
       "    <tr>\n",
       "      <th>3</th>\n",
       "      <td>Hyundai</td>\n",
       "      <td>Neo Fluidic Elantra</td>\n",
       "      <td>1.6SxAtCrdi</td>\n",
       "      <td>Automatic</td>\n",
       "      <td>Silver</td>\n",
       "      <td>1</td>\n",
       "      <td>6000</td>\n",
       "      <td>Sedan</td>\n",
       "      <td>DIESEL</td>\n",
       "      <td>2.228480e+06</td>\n",
       "      <td>26.889645</td>\n",
       "    </tr>\n",
       "    <tr>\n",
       "      <th>4</th>\n",
       "      <td>Hyundai</td>\n",
       "      <td>Santro Xing</td>\n",
       "      <td>Xo</td>\n",
       "      <td>Manual</td>\n",
       "      <td>Golden</td>\n",
       "      <td>2</td>\n",
       "      <td>100000</td>\n",
       "      <td>Hatchback</td>\n",
       "      <td>PETROL</td>\n",
       "      <td>4.537194e+05</td>\n",
       "      <td>80.992656</td>\n",
       "    </tr>\n",
       "  </tbody>\n",
       "</table>\n",
       "</div>"
      ],
      "text/plain": [
       "      Make                Model        Variant Transmission   Color  \\\n",
       "0  Hyundai                  I10     Sportz 1.2       Manual   White   \n",
       "1  Hyundai                  I20  Magna (O) 1.2       Manual   Beige   \n",
       "2  Hyundai                  I20     Sportz 1.2       Manual   White   \n",
       "3  Hyundai  Neo Fluidic Elantra    1.6SxAtCrdi    Automatic  Silver   \n",
       "4  Hyundai          Santro Xing             Xo       Manual  Golden   \n",
       "\n",
       "   No of Owner     Kms       Type Fuel Type  on road price        Dep  \n",
       "0            1   12000  Hatchback    PETROL   5.378497e+05  37.091715  \n",
       "1            1   68000  Hatchback    PETROL   6.138627e+05  69.178775  \n",
       "2            1   31143  Hatchback    PETROL   6.783586e+05  48.763381  \n",
       "3            1    6000      Sedan    DIESEL   2.228480e+06  26.889645  \n",
       "4            2  100000  Hatchback    PETROL   4.537194e+05  80.992656  "
      ]
     },
     "execution_count": 13,
     "metadata": {},
     "output_type": "execute_result"
    }
   ],
   "source": [
    "df_sub = indata[['Make', 'Model', 'Variant','Transmission', 'Color', 'No of Owner', 'Kms', 'Type', 'Fuel Type', 'on road price','Dep']]\n",
    "df_sub.head()"
   ]
  },
  {
   "cell_type": "code",
   "execution_count": 46,
   "metadata": {},
   "outputs": [
    {
     "data": {
      "text/html": [
       "<div>\n",
       "<style scoped>\n",
       "    .dataframe tbody tr th:only-of-type {\n",
       "        vertical-align: middle;\n",
       "    }\n",
       "\n",
       "    .dataframe tbody tr th {\n",
       "        vertical-align: top;\n",
       "    }\n",
       "\n",
       "    .dataframe thead th {\n",
       "        text-align: right;\n",
       "    }\n",
       "</style>\n",
       "<table border=\"1\" class=\"dataframe\">\n",
       "  <thead>\n",
       "    <tr style=\"text-align: right;\">\n",
       "      <th></th>\n",
       "      <th>MMV</th>\n",
       "      <th>Make</th>\n",
       "      <th>Model</th>\n",
       "      <th>Variant</th>\n",
       "      <th>Type</th>\n",
       "      <th>Fuel Type</th>\n",
       "      <th>Age</th>\n",
       "      <th>Transmission</th>\n",
       "      <th>Color</th>\n",
       "      <th>Kms</th>\n",
       "      <th>No of Owner</th>\n",
       "      <th>Heath score</th>\n",
       "      <th>price score</th>\n",
       "      <th>on road price</th>\n",
       "      <th>Current Price</th>\n",
       "      <th>Dep</th>\n",
       "    </tr>\n",
       "  </thead>\n",
       "  <tbody>\n",
       "    <tr>\n",
       "      <th>0</th>\n",
       "      <td>HyundaiI10Sportz 1.2</td>\n",
       "      <td>Hyundai</td>\n",
       "      <td>I10</td>\n",
       "      <td>Sportz 1.2</td>\n",
       "      <td>Hatchback</td>\n",
       "      <td>PETROL</td>\n",
       "      <td>3</td>\n",
       "      <td>Manual</td>\n",
       "      <td>White</td>\n",
       "      <td>12000</td>\n",
       "      <td>1</td>\n",
       "      <td>8.5</td>\n",
       "      <td>8.8</td>\n",
       "      <td>5.378497e+05</td>\n",
       "      <td>338352.0</td>\n",
       "      <td>37.091715</td>\n",
       "    </tr>\n",
       "    <tr>\n",
       "      <th>1</th>\n",
       "      <td>HyundaiI20Magna (O) 1.2</td>\n",
       "      <td>Hyundai</td>\n",
       "      <td>I20</td>\n",
       "      <td>Magna (O) 1.2</td>\n",
       "      <td>Hatchback</td>\n",
       "      <td>PETROL</td>\n",
       "      <td>9</td>\n",
       "      <td>Manual</td>\n",
       "      <td>Beige</td>\n",
       "      <td>68000</td>\n",
       "      <td>1</td>\n",
       "      <td>5.0</td>\n",
       "      <td>7.3</td>\n",
       "      <td>6.138627e+05</td>\n",
       "      <td>189200.0</td>\n",
       "      <td>69.178775</td>\n",
       "    </tr>\n",
       "    <tr>\n",
       "      <th>2</th>\n",
       "      <td>HyundaiI20Sportz 1.2</td>\n",
       "      <td>Hyundai</td>\n",
       "      <td>I20</td>\n",
       "      <td>Sportz 1.2</td>\n",
       "      <td>Hatchback</td>\n",
       "      <td>PETROL</td>\n",
       "      <td>8</td>\n",
       "      <td>Manual</td>\n",
       "      <td>White</td>\n",
       "      <td>31143</td>\n",
       "      <td>1</td>\n",
       "      <td>6.2</td>\n",
       "      <td>4.6</td>\n",
       "      <td>6.783586e+05</td>\n",
       "      <td>347568.0</td>\n",
       "      <td>48.763381</td>\n",
       "    </tr>\n",
       "    <tr>\n",
       "      <th>3</th>\n",
       "      <td>HyundaiNeo Fluidic Elantra1.6SxAtCrdi</td>\n",
       "      <td>Hyundai</td>\n",
       "      <td>Neo Fluidic Elantra</td>\n",
       "      <td>1.6SxAtCrdi</td>\n",
       "      <td>Sedan</td>\n",
       "      <td>DIESEL</td>\n",
       "      <td>2</td>\n",
       "      <td>Automatic</td>\n",
       "      <td>Silver</td>\n",
       "      <td>6000</td>\n",
       "      <td>1</td>\n",
       "      <td>8.5</td>\n",
       "      <td>7.9</td>\n",
       "      <td>2.228480e+06</td>\n",
       "      <td>1629250.0</td>\n",
       "      <td>26.889645</td>\n",
       "    </tr>\n",
       "    <tr>\n",
       "      <th>4</th>\n",
       "      <td>HyundaiSantro XingXo</td>\n",
       "      <td>Hyundai</td>\n",
       "      <td>Santro Xing</td>\n",
       "      <td>Xo</td>\n",
       "      <td>Hatchback</td>\n",
       "      <td>PETROL</td>\n",
       "      <td>11</td>\n",
       "      <td>Manual</td>\n",
       "      <td>Golden</td>\n",
       "      <td>100000</td>\n",
       "      <td>2</td>\n",
       "      <td>4.3</td>\n",
       "      <td>9.9</td>\n",
       "      <td>4.537194e+05</td>\n",
       "      <td>86240.0</td>\n",
       "      <td>80.992656</td>\n",
       "    </tr>\n",
       "  </tbody>\n",
       "</table>\n",
       "</div>"
      ],
      "text/plain": [
       "                                     MMV     Make                Model  \\\n",
       "0                   HyundaiI10Sportz 1.2  Hyundai                  I10   \n",
       "1                HyundaiI20Magna (O) 1.2  Hyundai                  I20   \n",
       "2                   HyundaiI20Sportz 1.2  Hyundai                  I20   \n",
       "3  HyundaiNeo Fluidic Elantra1.6SxAtCrdi  Hyundai  Neo Fluidic Elantra   \n",
       "4                   HyundaiSantro XingXo  Hyundai          Santro Xing   \n",
       "\n",
       "         Variant       Type Fuel Type  Age Transmission   Color     Kms  \\\n",
       "0     Sportz 1.2  Hatchback    PETROL    3       Manual   White   12000   \n",
       "1  Magna (O) 1.2  Hatchback    PETROL    9       Manual   Beige   68000   \n",
       "2     Sportz 1.2  Hatchback    PETROL    8       Manual   White   31143   \n",
       "3    1.6SxAtCrdi      Sedan    DIESEL    2    Automatic  Silver    6000   \n",
       "4             Xo  Hatchback    PETROL   11       Manual  Golden  100000   \n",
       "\n",
       "   No of Owner  Heath score  price score  on road price  Current Price  \\\n",
       "0            1          8.5          8.8   5.378497e+05       338352.0   \n",
       "1            1          5.0          7.3   6.138627e+05       189200.0   \n",
       "2            1          6.2          4.6   6.783586e+05       347568.0   \n",
       "3            1          8.5          7.9   2.228480e+06      1629250.0   \n",
       "4            2          4.3          9.9   4.537194e+05        86240.0   \n",
       "\n",
       "         Dep  \n",
       "0  37.091715  \n",
       "1  69.178775  \n",
       "2  48.763381  \n",
       "3  26.889645  \n",
       "4  80.992656  "
      ]
     },
     "execution_count": 46,
     "metadata": {},
     "output_type": "execute_result"
    }
   ],
   "source": [
    "indata.head()"
   ]
  },
  {
   "cell_type": "markdown",
   "metadata": {},
   "source": [
    "#### Creating a subset 'train' from 'indata' dataframe. Dropping the columns which do not provide much information. "
   ]
  },
  {
   "cell_type": "code",
   "execution_count": 14,
   "metadata": {},
   "outputs": [
    {
     "data": {
      "text/html": [
       "<div>\n",
       "<style scoped>\n",
       "    .dataframe tbody tr th:only-of-type {\n",
       "        vertical-align: middle;\n",
       "    }\n",
       "\n",
       "    .dataframe tbody tr th {\n",
       "        vertical-align: top;\n",
       "    }\n",
       "\n",
       "    .dataframe thead th {\n",
       "        text-align: right;\n",
       "    }\n",
       "</style>\n",
       "<table border=\"1\" class=\"dataframe\">\n",
       "  <thead>\n",
       "    <tr style=\"text-align: right;\">\n",
       "      <th></th>\n",
       "      <th>Make</th>\n",
       "      <th>Type</th>\n",
       "      <th>Fuel Type</th>\n",
       "      <th>Age</th>\n",
       "      <th>Transmission</th>\n",
       "      <th>Color</th>\n",
       "      <th>Kms</th>\n",
       "      <th>No of Owner</th>\n",
       "      <th>Heath score</th>\n",
       "      <th>price score</th>\n",
       "      <th>on road price</th>\n",
       "      <th>Current Price</th>\n",
       "      <th>Dep</th>\n",
       "    </tr>\n",
       "  </thead>\n",
       "  <tbody>\n",
       "    <tr>\n",
       "      <th>0</th>\n",
       "      <td>Hyundai</td>\n",
       "      <td>Hatchback</td>\n",
       "      <td>PETROL</td>\n",
       "      <td>3</td>\n",
       "      <td>Manual</td>\n",
       "      <td>White</td>\n",
       "      <td>12000</td>\n",
       "      <td>1</td>\n",
       "      <td>8.5</td>\n",
       "      <td>8.8</td>\n",
       "      <td>537849.665</td>\n",
       "      <td>338352.0</td>\n",
       "      <td>37.092</td>\n",
       "    </tr>\n",
       "    <tr>\n",
       "      <th>1</th>\n",
       "      <td>Hyundai</td>\n",
       "      <td>Hatchback</td>\n",
       "      <td>PETROL</td>\n",
       "      <td>9</td>\n",
       "      <td>Manual</td>\n",
       "      <td>Beige</td>\n",
       "      <td>68000</td>\n",
       "      <td>1</td>\n",
       "      <td>5.0</td>\n",
       "      <td>7.3</td>\n",
       "      <td>613862.680</td>\n",
       "      <td>189200.0</td>\n",
       "      <td>69.179</td>\n",
       "    </tr>\n",
       "    <tr>\n",
       "      <th>2</th>\n",
       "      <td>Hyundai</td>\n",
       "      <td>Hatchback</td>\n",
       "      <td>PETROL</td>\n",
       "      <td>8</td>\n",
       "      <td>Manual</td>\n",
       "      <td>White</td>\n",
       "      <td>31143</td>\n",
       "      <td>1</td>\n",
       "      <td>6.2</td>\n",
       "      <td>4.6</td>\n",
       "      <td>678358.572</td>\n",
       "      <td>347568.0</td>\n",
       "      <td>48.763</td>\n",
       "    </tr>\n",
       "    <tr>\n",
       "      <th>3</th>\n",
       "      <td>Hyundai</td>\n",
       "      <td>Sedan</td>\n",
       "      <td>DIESEL</td>\n",
       "      <td>2</td>\n",
       "      <td>Automatic</td>\n",
       "      <td>Silver</td>\n",
       "      <td>6000</td>\n",
       "      <td>1</td>\n",
       "      <td>8.5</td>\n",
       "      <td>7.9</td>\n",
       "      <td>2228480.499</td>\n",
       "      <td>1629250.0</td>\n",
       "      <td>26.890</td>\n",
       "    </tr>\n",
       "    <tr>\n",
       "      <th>4</th>\n",
       "      <td>Hyundai</td>\n",
       "      <td>Hatchback</td>\n",
       "      <td>PETROL</td>\n",
       "      <td>11</td>\n",
       "      <td>Manual</td>\n",
       "      <td>Golden</td>\n",
       "      <td>100000</td>\n",
       "      <td>2</td>\n",
       "      <td>4.3</td>\n",
       "      <td>9.9</td>\n",
       "      <td>453719.368</td>\n",
       "      <td>86240.0</td>\n",
       "      <td>80.993</td>\n",
       "    </tr>\n",
       "  </tbody>\n",
       "</table>\n",
       "</div>"
      ],
      "text/plain": [
       "      Make       Type Fuel Type  Age Transmission   Color     Kms  \\\n",
       "0  Hyundai  Hatchback    PETROL    3       Manual   White   12000   \n",
       "1  Hyundai  Hatchback    PETROL    9       Manual   Beige   68000   \n",
       "2  Hyundai  Hatchback    PETROL    8       Manual   White   31143   \n",
       "3  Hyundai      Sedan    DIESEL    2    Automatic  Silver    6000   \n",
       "4  Hyundai  Hatchback    PETROL   11       Manual  Golden  100000   \n",
       "\n",
       "   No of Owner  Heath score  price score  on road price  Current Price     Dep  \n",
       "0            1          8.5          8.8     537849.665       338352.0  37.092  \n",
       "1            1          5.0          7.3     613862.680       189200.0  69.179  \n",
       "2            1          6.2          4.6     678358.572       347568.0  48.763  \n",
       "3            1          8.5          7.9    2228480.499      1629250.0  26.890  \n",
       "4            2          4.3          9.9     453719.368        86240.0  80.993  "
      ]
     },
     "execution_count": 14,
     "metadata": {},
     "output_type": "execute_result"
    }
   ],
   "source": [
    "train = indata.drop(columns=['MMV','Variant','Model'])\n",
    "train.head().round(3)"
   ]
  },
  {
   "cell_type": "markdown",
   "metadata": {},
   "source": [
    "#### Encoding the string categorical features for better exploitation of information."
   ]
  },
  {
   "cell_type": "code",
   "execution_count": 15,
   "metadata": {},
   "outputs": [],
   "source": [
    "train['Make'] = train['Make'].apply(str)\n",
    "train['Type'] = train['Type'].apply(str)\n",
    "train['Fuel Type'] = train['Fuel Type'].apply(str)\n",
    "train['Transmission'] = train['Transmission'].apply(str)\n",
    "train['Color'] = train['Color'].apply(str)\n",
    "\n",
    "cols = ('Make', 'Type', 'Fuel Type', 'Transmission', 'Color')\n",
    "# process columns, apply LabelEncoder to categorical features\n",
    "for c in cols:\n",
    "    lbl = LabelEncoder() \n",
    "    lbl.fit(list(train[c].values)) \n",
    "    train[c] = lbl.transform(list(train[c].values))"
   ]
  },
  {
   "cell_type": "code",
   "execution_count": 49,
   "metadata": {},
   "outputs": [
    {
     "data": {
      "text/html": [
       "<div>\n",
       "<style scoped>\n",
       "    .dataframe tbody tr th:only-of-type {\n",
       "        vertical-align: middle;\n",
       "    }\n",
       "\n",
       "    .dataframe tbody tr th {\n",
       "        vertical-align: top;\n",
       "    }\n",
       "\n",
       "    .dataframe thead th {\n",
       "        text-align: right;\n",
       "    }\n",
       "</style>\n",
       "<table border=\"1\" class=\"dataframe\">\n",
       "  <thead>\n",
       "    <tr style=\"text-align: right;\">\n",
       "      <th></th>\n",
       "      <th>Make</th>\n",
       "      <th>Type</th>\n",
       "      <th>Fuel Type</th>\n",
       "      <th>Age</th>\n",
       "      <th>Transmission</th>\n",
       "      <th>Color</th>\n",
       "      <th>Kms</th>\n",
       "      <th>No of Owner</th>\n",
       "      <th>Heath score</th>\n",
       "      <th>price score</th>\n",
       "      <th>on road price</th>\n",
       "      <th>Current Price</th>\n",
       "      <th>Dep</th>\n",
       "    </tr>\n",
       "  </thead>\n",
       "  <tbody>\n",
       "    <tr>\n",
       "      <th>0</th>\n",
       "      <td>1</td>\n",
       "      <td>1</td>\n",
       "      <td>3</td>\n",
       "      <td>3</td>\n",
       "      <td>2</td>\n",
       "      <td>31</td>\n",
       "      <td>12000</td>\n",
       "      <td>1</td>\n",
       "      <td>8.5</td>\n",
       "      <td>8.8</td>\n",
       "      <td>537849.665</td>\n",
       "      <td>338352.0</td>\n",
       "      <td>37.092</td>\n",
       "    </tr>\n",
       "    <tr>\n",
       "      <th>1</th>\n",
       "      <td>1</td>\n",
       "      <td>1</td>\n",
       "      <td>3</td>\n",
       "      <td>9</td>\n",
       "      <td>2</td>\n",
       "      <td>0</td>\n",
       "      <td>68000</td>\n",
       "      <td>1</td>\n",
       "      <td>5.0</td>\n",
       "      <td>7.3</td>\n",
       "      <td>613862.680</td>\n",
       "      <td>189200.0</td>\n",
       "      <td>69.179</td>\n",
       "    </tr>\n",
       "    <tr>\n",
       "      <th>2</th>\n",
       "      <td>1</td>\n",
       "      <td>1</td>\n",
       "      <td>3</td>\n",
       "      <td>8</td>\n",
       "      <td>2</td>\n",
       "      <td>31</td>\n",
       "      <td>31143</td>\n",
       "      <td>1</td>\n",
       "      <td>6.2</td>\n",
       "      <td>4.6</td>\n",
       "      <td>678358.572</td>\n",
       "      <td>347568.0</td>\n",
       "      <td>48.763</td>\n",
       "    </tr>\n",
       "    <tr>\n",
       "      <th>3</th>\n",
       "      <td>1</td>\n",
       "      <td>4</td>\n",
       "      <td>1</td>\n",
       "      <td>2</td>\n",
       "      <td>1</td>\n",
       "      <td>24</td>\n",
       "      <td>6000</td>\n",
       "      <td>1</td>\n",
       "      <td>8.5</td>\n",
       "      <td>7.9</td>\n",
       "      <td>2228480.499</td>\n",
       "      <td>1629250.0</td>\n",
       "      <td>26.890</td>\n",
       "    </tr>\n",
       "    <tr>\n",
       "      <th>4</th>\n",
       "      <td>1</td>\n",
       "      <td>1</td>\n",
       "      <td>3</td>\n",
       "      <td>11</td>\n",
       "      <td>2</td>\n",
       "      <td>10</td>\n",
       "      <td>100000</td>\n",
       "      <td>2</td>\n",
       "      <td>4.3</td>\n",
       "      <td>9.9</td>\n",
       "      <td>453719.368</td>\n",
       "      <td>86240.0</td>\n",
       "      <td>80.993</td>\n",
       "    </tr>\n",
       "  </tbody>\n",
       "</table>\n",
       "</div>"
      ],
      "text/plain": [
       "   Make  Type  Fuel Type  Age  Transmission  Color     Kms  No of Owner  \\\n",
       "0     1     1          3    3             2     31   12000            1   \n",
       "1     1     1          3    9             2      0   68000            1   \n",
       "2     1     1          3    8             2     31   31143            1   \n",
       "3     1     4          1    2             1     24    6000            1   \n",
       "4     1     1          3   11             2     10  100000            2   \n",
       "\n",
       "   Heath score  price score  on road price  Current Price     Dep  \n",
       "0          8.5          8.8     537849.665       338352.0  37.092  \n",
       "1          5.0          7.3     613862.680       189200.0  69.179  \n",
       "2          6.2          4.6     678358.572       347568.0  48.763  \n",
       "3          8.5          7.9    2228480.499      1629250.0  26.890  \n",
       "4          4.3          9.9     453719.368        86240.0  80.993  "
      ]
     },
     "execution_count": 49,
     "metadata": {},
     "output_type": "execute_result"
    }
   ],
   "source": [
    "train.head().round(3)  "
   ]
  },
  {
   "cell_type": "markdown",
   "metadata": {},
   "source": [
    "#### Dropping the target varaible "
   ]
  },
  {
   "cell_type": "code",
   "execution_count": 16,
   "metadata": {},
   "outputs": [],
   "source": [
    "dep = train['Dep']\n",
    "train.drop(columns='Dep',inplace=True)"
   ]
  },
  {
   "cell_type": "markdown",
   "metadata": {},
   "source": [
    "#### Scaling the data"
   ]
  },
  {
   "cell_type": "code",
   "execution_count": 99,
   "metadata": {},
   "outputs": [],
   "source": [
    "#ale_data = train[['on road price', 'Current Price', 'Heath score', 'price score' , 'Kms', 'Color']]"
   ]
  },
  {
   "cell_type": "code",
   "execution_count": 17,
   "metadata": {},
   "outputs": [
    {
     "data": {
      "text/plain": [
       "MinMaxScaler(copy=True, feature_range=(0, 1))"
      ]
     },
     "execution_count": 17,
     "metadata": {},
     "output_type": "execute_result"
    }
   ],
   "source": [
    "scaler = MinMaxScaler()\n",
    "scaler.fit(train)"
   ]
  },
  {
   "cell_type": "code",
   "execution_count": 18,
   "metadata": {},
   "outputs": [],
   "source": [
    "train = pd.DataFrame(data=scaler.transform(train),columns = train.columns,index=train.index)"
   ]
  },
  {
   "cell_type": "code",
   "execution_count": 53,
   "metadata": {},
   "outputs": [
    {
     "data": {
      "text/html": [
       "<div>\n",
       "<style scoped>\n",
       "    .dataframe tbody tr th:only-of-type {\n",
       "        vertical-align: middle;\n",
       "    }\n",
       "\n",
       "    .dataframe tbody tr th {\n",
       "        vertical-align: top;\n",
       "    }\n",
       "\n",
       "    .dataframe thead th {\n",
       "        text-align: right;\n",
       "    }\n",
       "</style>\n",
       "<table border=\"1\" class=\"dataframe\">\n",
       "  <thead>\n",
       "    <tr style=\"text-align: right;\">\n",
       "      <th></th>\n",
       "      <th>Make</th>\n",
       "      <th>Type</th>\n",
       "      <th>Fuel Type</th>\n",
       "      <th>Age</th>\n",
       "      <th>Transmission</th>\n",
       "      <th>Color</th>\n",
       "      <th>Kms</th>\n",
       "      <th>No of Owner</th>\n",
       "      <th>Heath score</th>\n",
       "      <th>price score</th>\n",
       "      <th>on road price</th>\n",
       "      <th>Current Price</th>\n",
       "    </tr>\n",
       "  </thead>\n",
       "  <tbody>\n",
       "    <tr>\n",
       "      <th>0</th>\n",
       "      <td>0.333333</td>\n",
       "      <td>0.2</td>\n",
       "      <td>0.6</td>\n",
       "      <td>0.181818</td>\n",
       "      <td>1.0</td>\n",
       "      <td>0.738095</td>\n",
       "      <td>0.014866</td>\n",
       "      <td>0.0</td>\n",
       "      <td>0.787879</td>\n",
       "      <td>0.835821</td>\n",
       "      <td>0.081871</td>\n",
       "      <td>0.113976</td>\n",
       "    </tr>\n",
       "    <tr>\n",
       "      <th>1</th>\n",
       "      <td>0.333333</td>\n",
       "      <td>0.2</td>\n",
       "      <td>0.6</td>\n",
       "      <td>0.727273</td>\n",
       "      <td>1.0</td>\n",
       "      <td>0.000000</td>\n",
       "      <td>0.089619</td>\n",
       "      <td>0.0</td>\n",
       "      <td>0.257576</td>\n",
       "      <td>0.611940</td>\n",
       "      <td>0.102575</td>\n",
       "      <td>0.054626</td>\n",
       "    </tr>\n",
       "    <tr>\n",
       "      <th>2</th>\n",
       "      <td>0.333333</td>\n",
       "      <td>0.2</td>\n",
       "      <td>0.6</td>\n",
       "      <td>0.636364</td>\n",
       "      <td>1.0</td>\n",
       "      <td>0.738095</td>\n",
       "      <td>0.040420</td>\n",
       "      <td>0.0</td>\n",
       "      <td>0.439394</td>\n",
       "      <td>0.208955</td>\n",
       "      <td>0.120143</td>\n",
       "      <td>0.117644</td>\n",
       "    </tr>\n",
       "    <tr>\n",
       "      <th>3</th>\n",
       "      <td>0.333333</td>\n",
       "      <td>0.8</td>\n",
       "      <td>0.2</td>\n",
       "      <td>0.090909</td>\n",
       "      <td>0.5</td>\n",
       "      <td>0.571429</td>\n",
       "      <td>0.006857</td>\n",
       "      <td>0.0</td>\n",
       "      <td>0.787879</td>\n",
       "      <td>0.701493</td>\n",
       "      <td>0.542366</td>\n",
       "      <td>0.627648</td>\n",
       "    </tr>\n",
       "    <tr>\n",
       "      <th>4</th>\n",
       "      <td>0.333333</td>\n",
       "      <td>0.2</td>\n",
       "      <td>0.6</td>\n",
       "      <td>0.909091</td>\n",
       "      <td>1.0</td>\n",
       "      <td>0.238095</td>\n",
       "      <td>0.132335</td>\n",
       "      <td>0.2</td>\n",
       "      <td>0.151515</td>\n",
       "      <td>1.000000</td>\n",
       "      <td>0.058955</td>\n",
       "      <td>0.013657</td>\n",
       "    </tr>\n",
       "  </tbody>\n",
       "</table>\n",
       "</div>"
      ],
      "text/plain": [
       "       Make  Type  Fuel Type       Age  Transmission     Color       Kms  \\\n",
       "0  0.333333   0.2        0.6  0.181818           1.0  0.738095  0.014866   \n",
       "1  0.333333   0.2        0.6  0.727273           1.0  0.000000  0.089619   \n",
       "2  0.333333   0.2        0.6  0.636364           1.0  0.738095  0.040420   \n",
       "3  0.333333   0.8        0.2  0.090909           0.5  0.571429  0.006857   \n",
       "4  0.333333   0.2        0.6  0.909091           1.0  0.238095  0.132335   \n",
       "\n",
       "   No of Owner  Heath score  price score  on road price  Current Price  \n",
       "0          0.0     0.787879     0.835821       0.081871       0.113976  \n",
       "1          0.0     0.257576     0.611940       0.102575       0.054626  \n",
       "2          0.0     0.439394     0.208955       0.120143       0.117644  \n",
       "3          0.0     0.787879     0.701493       0.542366       0.627648  \n",
       "4          0.2     0.151515     1.000000       0.058955       0.013657  "
      ]
     },
     "execution_count": 53,
     "metadata": {},
     "output_type": "execute_result"
    }
   ],
   "source": [
    "train.head()"
   ]
  },
  {
   "cell_type": "code",
   "execution_count": 19,
   "metadata": {},
   "outputs": [],
   "source": [
    "train = pd.get_dummies(train,prefix=['Make', 'Type', 'Fuel Type','Transmission'],\n",
    "                       columns=['Make', 'Type', 'Fuel Type','Transmission'])"
   ]
  },
  {
   "cell_type": "code",
   "execution_count": 55,
   "metadata": {},
   "outputs": [
    {
     "data": {
      "text/plain": [
       "Index(['Age', 'Color', 'Kms', 'No of Owner', 'Heath score', 'price score',\n",
       "       'on road price', 'Current Price', 'Make_0.0', 'Make_0.3333333333333333',\n",
       "       'Make_0.6666666666666666', 'Make_1.0', 'Type_0.0', 'Type_0.2',\n",
       "       'Type_0.4', 'Type_0.6000000000000001', 'Type_0.8', 'Type_1.0',\n",
       "       'Fuel Type_0.0', 'Fuel Type_0.2', 'Fuel Type_0.4',\n",
       "       'Fuel Type_0.6000000000000001', 'Fuel Type_0.8', 'Fuel Type_1.0',\n",
       "       'Transmission_0.0', 'Transmission_0.5', 'Transmission_1.0'],\n",
       "      dtype='object')"
      ]
     },
     "execution_count": 55,
     "metadata": {},
     "output_type": "execute_result"
    }
   ],
   "source": [
    "train.columns"
   ]
  },
  {
   "cell_type": "code",
   "execution_count": 56,
   "metadata": {},
   "outputs": [
    {
     "data": {
      "text/html": [
       "<div>\n",
       "<style scoped>\n",
       "    .dataframe tbody tr th:only-of-type {\n",
       "        vertical-align: middle;\n",
       "    }\n",
       "\n",
       "    .dataframe tbody tr th {\n",
       "        vertical-align: top;\n",
       "    }\n",
       "\n",
       "    .dataframe thead th {\n",
       "        text-align: right;\n",
       "    }\n",
       "</style>\n",
       "<table border=\"1\" class=\"dataframe\">\n",
       "  <thead>\n",
       "    <tr style=\"text-align: right;\">\n",
       "      <th></th>\n",
       "      <th>Age</th>\n",
       "      <th>Color</th>\n",
       "      <th>Kms</th>\n",
       "      <th>No of Owner</th>\n",
       "      <th>Heath score</th>\n",
       "      <th>price score</th>\n",
       "      <th>on road price</th>\n",
       "      <th>Current Price</th>\n",
       "      <th>Make_0.0</th>\n",
       "      <th>Make_0.3333333333333333</th>\n",
       "      <th>...</th>\n",
       "      <th>Type_1.0</th>\n",
       "      <th>Fuel Type_0.0</th>\n",
       "      <th>Fuel Type_0.2</th>\n",
       "      <th>Fuel Type_0.4</th>\n",
       "      <th>Fuel Type_0.6000000000000001</th>\n",
       "      <th>Fuel Type_0.8</th>\n",
       "      <th>Fuel Type_1.0</th>\n",
       "      <th>Transmission_0.0</th>\n",
       "      <th>Transmission_0.5</th>\n",
       "      <th>Transmission_1.0</th>\n",
       "    </tr>\n",
       "  </thead>\n",
       "  <tbody>\n",
       "    <tr>\n",
       "      <th>0</th>\n",
       "      <td>0.181818</td>\n",
       "      <td>0.738095</td>\n",
       "      <td>0.014866</td>\n",
       "      <td>0.0</td>\n",
       "      <td>0.787879</td>\n",
       "      <td>0.835821</td>\n",
       "      <td>0.081871</td>\n",
       "      <td>0.113976</td>\n",
       "      <td>0</td>\n",
       "      <td>1</td>\n",
       "      <td>...</td>\n",
       "      <td>0</td>\n",
       "      <td>0</td>\n",
       "      <td>0</td>\n",
       "      <td>0</td>\n",
       "      <td>1</td>\n",
       "      <td>0</td>\n",
       "      <td>0</td>\n",
       "      <td>0</td>\n",
       "      <td>0</td>\n",
       "      <td>1</td>\n",
       "    </tr>\n",
       "    <tr>\n",
       "      <th>1</th>\n",
       "      <td>0.727273</td>\n",
       "      <td>0.000000</td>\n",
       "      <td>0.089619</td>\n",
       "      <td>0.0</td>\n",
       "      <td>0.257576</td>\n",
       "      <td>0.611940</td>\n",
       "      <td>0.102575</td>\n",
       "      <td>0.054626</td>\n",
       "      <td>0</td>\n",
       "      <td>1</td>\n",
       "      <td>...</td>\n",
       "      <td>0</td>\n",
       "      <td>0</td>\n",
       "      <td>0</td>\n",
       "      <td>0</td>\n",
       "      <td>1</td>\n",
       "      <td>0</td>\n",
       "      <td>0</td>\n",
       "      <td>0</td>\n",
       "      <td>0</td>\n",
       "      <td>1</td>\n",
       "    </tr>\n",
       "    <tr>\n",
       "      <th>2</th>\n",
       "      <td>0.636364</td>\n",
       "      <td>0.738095</td>\n",
       "      <td>0.040420</td>\n",
       "      <td>0.0</td>\n",
       "      <td>0.439394</td>\n",
       "      <td>0.208955</td>\n",
       "      <td>0.120143</td>\n",
       "      <td>0.117644</td>\n",
       "      <td>0</td>\n",
       "      <td>1</td>\n",
       "      <td>...</td>\n",
       "      <td>0</td>\n",
       "      <td>0</td>\n",
       "      <td>0</td>\n",
       "      <td>0</td>\n",
       "      <td>1</td>\n",
       "      <td>0</td>\n",
       "      <td>0</td>\n",
       "      <td>0</td>\n",
       "      <td>0</td>\n",
       "      <td>1</td>\n",
       "    </tr>\n",
       "    <tr>\n",
       "      <th>3</th>\n",
       "      <td>0.090909</td>\n",
       "      <td>0.571429</td>\n",
       "      <td>0.006857</td>\n",
       "      <td>0.0</td>\n",
       "      <td>0.787879</td>\n",
       "      <td>0.701493</td>\n",
       "      <td>0.542366</td>\n",
       "      <td>0.627648</td>\n",
       "      <td>0</td>\n",
       "      <td>1</td>\n",
       "      <td>...</td>\n",
       "      <td>0</td>\n",
       "      <td>0</td>\n",
       "      <td>1</td>\n",
       "      <td>0</td>\n",
       "      <td>0</td>\n",
       "      <td>0</td>\n",
       "      <td>0</td>\n",
       "      <td>0</td>\n",
       "      <td>1</td>\n",
       "      <td>0</td>\n",
       "    </tr>\n",
       "    <tr>\n",
       "      <th>4</th>\n",
       "      <td>0.909091</td>\n",
       "      <td>0.238095</td>\n",
       "      <td>0.132335</td>\n",
       "      <td>0.2</td>\n",
       "      <td>0.151515</td>\n",
       "      <td>1.000000</td>\n",
       "      <td>0.058955</td>\n",
       "      <td>0.013657</td>\n",
       "      <td>0</td>\n",
       "      <td>1</td>\n",
       "      <td>...</td>\n",
       "      <td>0</td>\n",
       "      <td>0</td>\n",
       "      <td>0</td>\n",
       "      <td>0</td>\n",
       "      <td>1</td>\n",
       "      <td>0</td>\n",
       "      <td>0</td>\n",
       "      <td>0</td>\n",
       "      <td>0</td>\n",
       "      <td>1</td>\n",
       "    </tr>\n",
       "  </tbody>\n",
       "</table>\n",
       "<p>5 rows × 27 columns</p>\n",
       "</div>"
      ],
      "text/plain": [
       "        Age     Color       Kms  No of Owner  Heath score  price score  \\\n",
       "0  0.181818  0.738095  0.014866          0.0     0.787879     0.835821   \n",
       "1  0.727273  0.000000  0.089619          0.0     0.257576     0.611940   \n",
       "2  0.636364  0.738095  0.040420          0.0     0.439394     0.208955   \n",
       "3  0.090909  0.571429  0.006857          0.0     0.787879     0.701493   \n",
       "4  0.909091  0.238095  0.132335          0.2     0.151515     1.000000   \n",
       "\n",
       "   on road price  Current Price  Make_0.0  Make_0.3333333333333333  \\\n",
       "0       0.081871       0.113976         0                        1   \n",
       "1       0.102575       0.054626         0                        1   \n",
       "2       0.120143       0.117644         0                        1   \n",
       "3       0.542366       0.627648         0                        1   \n",
       "4       0.058955       0.013657         0                        1   \n",
       "\n",
       "         ...         Type_1.0  Fuel Type_0.0  Fuel Type_0.2  Fuel Type_0.4  \\\n",
       "0        ...                0              0              0              0   \n",
       "1        ...                0              0              0              0   \n",
       "2        ...                0              0              0              0   \n",
       "3        ...                0              0              1              0   \n",
       "4        ...                0              0              0              0   \n",
       "\n",
       "   Fuel Type_0.6000000000000001  Fuel Type_0.8  Fuel Type_1.0  \\\n",
       "0                             1              0              0   \n",
       "1                             1              0              0   \n",
       "2                             1              0              0   \n",
       "3                             0              0              0   \n",
       "4                             1              0              0   \n",
       "\n",
       "   Transmission_0.0  Transmission_0.5  Transmission_1.0  \n",
       "0                 0                 0                 1  \n",
       "1                 0                 0                 1  \n",
       "2                 0                 0                 1  \n",
       "3                 0                 1                 0  \n",
       "4                 0                 0                 1  \n",
       "\n",
       "[5 rows x 27 columns]"
      ]
     },
     "execution_count": 56,
     "metadata": {},
     "output_type": "execute_result"
    }
   ],
   "source": [
    "train.head()"
   ]
  },
  {
   "cell_type": "code",
   "execution_count": 20,
   "metadata": {},
   "outputs": [],
   "source": [
    "X_train, X_test, y_train, y_test = train_test_split(train, dep , test_size=0.3, random_state=101)"
   ]
  },
  {
   "cell_type": "code",
   "execution_count": 21,
   "metadata": {},
   "outputs": [
    {
     "data": {
      "text/plain": [
       "(2700, 27)"
      ]
     },
     "execution_count": 21,
     "metadata": {},
     "output_type": "execute_result"
    }
   ],
   "source": [
    "X_train.shape"
   ]
  },
  {
   "cell_type": "markdown",
   "metadata": {},
   "source": [
    "## Models"
   ]
  },
  {
   "cell_type": "code",
   "execution_count": 22,
   "metadata": {},
   "outputs": [],
   "source": [
    "def rmsle(y, y_pred):\n",
    "    return np.sqrt(mean_squared_error(y, y_pred))"
   ]
  },
  {
   "cell_type": "markdown",
   "metadata": {},
   "source": [
    "#### Linear Regression"
   ]
  },
  {
   "cell_type": "code",
   "execution_count": 60,
   "metadata": {},
   "outputs": [],
   "source": [
    "linear_reg = LinearRegression(normalize=True)"
   ]
  },
  {
   "cell_type": "code",
   "execution_count": 61,
   "metadata": {},
   "outputs": [
    {
     "name": "stdout",
     "output_type": "stream",
     "text": [
      "5.738331095202249\n",
      "4.307518254783075\n",
      "R squared: 0.8898\n"
     ]
    }
   ],
   "source": [
    "linear_reg.fit(X_train, y_train)\n",
    "linear_reg_train_pred = linear_reg.predict(X_train)\n",
    "print(rmsle(y_train, linear_reg_train_pred))\n",
    "print(mean_absolute_error(y_train, linear_reg_train_pred))\n",
    "print('R squared: {}'.format(round(linear_reg.score(X_train, y_train),4)))"
   ]
  },
  {
   "cell_type": "code",
   "execution_count": 62,
   "metadata": {},
   "outputs": [
    {
     "name": "stdout",
     "output_type": "stream",
     "text": [
      "5.377599743171401\n",
      "4.151521814382986\n",
      "R squared: 0.8987\n"
     ]
    }
   ],
   "source": [
    "linear_reg.fit(X_test, y_test)\n",
    "linear_reg_test_pred = linear_reg.predict(X_test)\n",
    "print(rmsle(y_test, linear_reg_test_pred))\n",
    "print(mean_absolute_error(y_test, linear_reg_test_pred))\n",
    "print('R squared: {}'.format(round(linear_reg.score(X_test, y_test),4)))"
   ]
  },
  {
   "cell_type": "markdown",
   "metadata": {},
   "source": [
    "### Decision Tree"
   ]
  },
  {
   "cell_type": "code",
   "execution_count": 72,
   "metadata": {},
   "outputs": [],
   "source": [
    "dtree = DecisionTreeRegressor(max_depth=8,random_state=51)"
   ]
  },
  {
   "cell_type": "code",
   "execution_count": 73,
   "metadata": {},
   "outputs": [
    {
     "name": "stdout",
     "output_type": "stream",
     "text": [
      "4.856761077285594\n",
      "3.427655308548803\n",
      "R squared: 0.921\n"
     ]
    }
   ],
   "source": [
    "dtree.fit(X_train, y_train)\n",
    "dtree_train_pred = dtree.predict(X_train)\n",
    "print(rmsle(y_train, dtree_train_pred))\n",
    "print(mean_absolute_error(y_train, dtree_train_pred))\n",
    "print('R squared: {}'.format(round(dtree.score(X_train, y_train),4)))"
   ]
  },
  {
   "cell_type": "code",
   "execution_count": 74,
   "metadata": {},
   "outputs": [
    {
     "name": "stdout",
     "output_type": "stream",
     "text": [
      "4.374502578952558\n",
      "2.9684240072604635\n",
      "R squared: 0.933\n"
     ]
    }
   ],
   "source": [
    "dtree.fit(X_test, y_test)\n",
    "dtree_test_pred = dtree.predict(X_test)\n",
    "print(rmsle(y_test, dtree_test_pred))\n",
    "print(mean_absolute_error(y_test, dtree_test_pred))\n",
    "print('R squared: {}'.format(round(dtree.score(X_test, y_test),4)))"
   ]
  },
  {
   "cell_type": "code",
   "execution_count": 75,
   "metadata": {},
   "outputs": [
    {
     "data": {
      "text/plain": [
       "Text(0,0.5,'Feature Importance Score')"
      ]
     },
     "execution_count": 75,
     "metadata": {},
     "output_type": "execute_result"
    },
    {
     "data": {
      "image/png": "[encoded data removed]",
      "text/plain": [
       "<matplotlib.figure.Figure at 0x2b1d113b1d0>"
      ]
     },
     "metadata": {},
     "output_type": "display_data"
    }
   ],
   "source": [
    "feat_imp = pd.Series(dtree.feature_importances_, X_train.columns).sort_values(ascending=False)\n",
    "feat_imp = feat_imp[feat_imp > 0.0]\n",
    "plt.figure(figsize=(16,6))\n",
    "feat_imp.plot(kind='bar', title='Feature Importances')\n",
    "plt.ylabel('Feature Importance Score')"
   ]
  },
  {
   "cell_type": "markdown",
   "metadata": {},
   "source": [
    "#### RandomForest Regressor"
   ]
  },
  {
   "cell_type": "code",
   "execution_count": 353,
   "metadata": {},
   "outputs": [],
   "source": [
    "random_forest = RandomForestRegressor(n_estimators=300, criterion='mse', max_depth=5, min_samples_split=2, \n",
    "                                      min_samples_leaf=1, min_weight_fraction_leaf=0.01, max_features='sqrt',random_state=51)"
   ]
  },
  {
   "cell_type": "code",
   "execution_count": 354,
   "metadata": {},
   "outputs": [
    {
     "name": "stdout",
     "output_type": "stream",
     "text": [
      "7.7841738949007775\n",
      "5.995332567195037\n",
      "R squared: 0.7972\n"
     ]
    }
   ],
   "source": [
    "random_forest.fit(X_train, y_train)\n",
    "rforest_train_pred = random_forest.predict(X_train)\n",
    "print(rmsle(y_train, rforest_train_pred))\n",
    "print(mean_absolute_error(y_train, rforest_train_pred))\n",
    "print('R squared: {}'.format(round(random_forest.score(X_train, y_train),4)))"
   ]
  },
  {
   "cell_type": "code",
   "execution_count": 355,
   "metadata": {},
   "outputs": [
    {
     "name": "stdout",
     "output_type": "stream",
     "text": [
      "7.794499999492362\n",
      "6.031116349224584\n",
      "R squared: 0.7873\n"
     ]
    }
   ],
   "source": [
    "random_forest.fit(X_test, y_test)\n",
    "rforest_test_pred = random_forest.predict(X_test)\n",
    "print(rmsle(y_test, rforest_test_pred))\n",
    "print(mean_absolute_error(y_test, rforest_test_pred))\n",
    "print('R squared: {}'.format(round(random_forest.score(X_test, y_test),4)))"
   ]
  },
  {
   "cell_type": "code",
   "execution_count": 356,
   "metadata": {},
   "outputs": [
    {
     "data": {
      "text/plain": [
       "Text(0,0.5,'Feature Importance Score')"
      ]
     },
     "execution_count": 356,
     "metadata": {},
     "output_type": "execute_result"
    },
    {
     "data": {
      "image/png": "[encoded data removed]",
      "text/plain": [
       "<matplotlib.figure.Figure at 0x2b1e55126a0>"
      ]
     },
     "metadata": {},
     "output_type": "display_data"
    }
   ],
   "source": [
    "feat_imp = pd.Series(random_forest.feature_importances_, X_train.columns).sort_values(ascending=False)\n",
    "feat_imp = feat_imp[feat_imp > 0.0]\n",
    "plt.figure(figsize=(16,6))\n",
    "feat_imp.plot(kind='bar', title='Feature Importances')\n",
    "plt.ylabel('Feature Importance Score')"
   ]
  },
  {
   "cell_type": "markdown",
   "metadata": {},
   "source": [
    "#### AdaBoost"
   ]
  },
  {
   "cell_type": "code",
   "execution_count": 23,
   "metadata": {},
   "outputs": [],
   "source": [
    "ada_boost = AdaBoostRegressor(RandomForestRegressor(n_estimators=300, criterion='mse', max_depth=5, min_samples_split=2, \n",
    "                             min_samples_leaf=1, min_weight_fraction_leaf=0.05, max_features='sqrt',random_state=51),\n",
    "                              n_estimators=300, loss='linear' , random_state=51, learning_rate= 0.8)"
   ]
  },
  {
   "cell_type": "code",
   "execution_count": 24,
   "metadata": {},
   "outputs": [
    {
     "name": "stdout",
     "output_type": "stream",
     "text": [
      "7.935057070749226\n",
      "6.212385334200436\n",
      "R squared: 0.7892\n"
     ]
    }
   ],
   "source": [
    "ada_boost.fit(X_train, y_train)\n",
    "adaboost_train_pred = ada_boost.predict(X_train)\n",
    "print(rmsle(y_train, adaboost_train_pred))\n",
    "print(mean_absolute_error(y_train, adaboost_train_pred))\n",
    "print('R squared: {}'.format(round(ada_boost.score(X_train, y_train),4)))"
   ]
  },
  {
   "cell_type": "code",
   "execution_count": 25,
   "metadata": {},
   "outputs": [
    {
     "name": "stdout",
     "output_type": "stream",
     "text": [
      "8.119097004124098\n",
      "6.396082387890298\n",
      "R squared: 0.7692\n"
     ]
    }
   ],
   "source": [
    "ada_boost.fit(X_test, y_test)\n",
    "adaboost_test_pred = ada_boost.predict(X_test)\n",
    "print(rmsle(y_test, adaboost_test_pred))\n",
    "print(mean_absolute_error(y_test, adaboost_test_pred))\n",
    "print('R squared: {}'.format(round(ada_boost.score(X_test, y_test),4)))"
   ]
  },
  {
   "cell_type": "code",
   "execution_count": 452,
   "metadata": {},
   "outputs": [
    {
     "data": {
      "text/plain": [
       "Text(0,0.5,'Feature Importance Score')"
      ]
     },
     "execution_count": 452,
     "metadata": {},
     "output_type": "execute_result"
    },
    {
     "data": {
      "image/png": "[encoded data removed]",
      "text/plain": [
       "<matplotlib.figure.Figure at 0x2b1e7d8afd0>"
      ]
     },
     "metadata": {},
     "output_type": "display_data"
    }
   ],
   "source": [
    "feat_imp = pd.Series(ada_boost.feature_importances_, X_train.columns).sort_values(ascending=False)\n",
    "feat_imp = feat_imp[feat_imp > 0.0]\n",
    "plt.figure(figsize=(16,6))\n",
    "feat_imp.plot(kind='bar', title='Feature Importances')\n",
    "plt.ylabel('Feature Importance Score')"
   ]
  },
  {
   "cell_type": "code",
   "execution_count": 33,
   "metadata": {},
   "outputs": [
    {
     "name": "stdout",
     "output_type": "stream",
     "text": [
      "0.7678912750737253\n",
      "0.7691804369998598\n"
     ]
    }
   ],
   "source": [
    "print(ada_boost.score(X_train,y_train))\n",
    "print(ada_boost.score(X_test,y_test))"
   ]
  },
  {
   "cell_type": "code",
   "execution_count": 36,
   "metadata": {},
   "outputs": [],
   "source": [
    "kf = KFold(n_splits=2,random_state=101,shuffle=True) "
   ]
  },
  {
   "cell_type": "code",
   "execution_count": 37,
   "metadata": {},
   "outputs": [
    {
     "data": {
      "text/plain": [
       "2"
      ]
     },
     "execution_count": 37,
     "metadata": {},
     "output_type": "execute_result"
    }
   ],
   "source": [
    "kf.get_n_splits(X_train)"
   ]
  },
  {
   "cell_type": "code",
   "execution_count": 50,
   "metadata": {},
   "outputs": [
    {
     "name": "stdout",
     "output_type": "stream",
     "text": [
      "TRAIN: [   1    3    8 ... 2696 2698 2699] TEST: [   0    2    4 ... 2692 2695 2697]\n"
     ]
    },
    {
     "ename": "KeyError",
     "evalue": "'[   1    3    8 ... 2696 2698 2699] not in index'",
     "output_type": "error",
     "traceback": [
      "\u001b[1;31m---------------------------------------------------------------------------\u001b[0m",
      "\u001b[1;31mKeyError\u001b[0m                                  Traceback (most recent call last)",
      "\u001b[1;32m<ipython-input-50-6ec3e765e3cb>\u001b[0m in \u001b[0;36m<module>\u001b[1;34m()\u001b[0m\n\u001b[0;32m      1\u001b[0m \u001b[1;32mfor\u001b[0m \u001b[0mtrain_index\u001b[0m\u001b[1;33m,\u001b[0m \u001b[0mtest_index\u001b[0m \u001b[1;32min\u001b[0m \u001b[0mkf\u001b[0m\u001b[1;33m.\u001b[0m\u001b[0msplit\u001b[0m\u001b[1;33m(\u001b[0m\u001b[0mX_train\u001b[0m\u001b[1;33m)\u001b[0m\u001b[1;33m:\u001b[0m\u001b[1;33m\u001b[0m\u001b[0m\n\u001b[0;32m      2\u001b[0m     \u001b[0mprint\u001b[0m\u001b[1;33m(\u001b[0m\u001b[1;34m'TRAIN:'\u001b[0m\u001b[1;33m,\u001b[0m \u001b[0mtrain_index\u001b[0m\u001b[1;33m,\u001b[0m \u001b[1;34m'TEST:'\u001b[0m\u001b[1;33m,\u001b[0m \u001b[0mtest_index\u001b[0m\u001b[1;33m)\u001b[0m\u001b[1;33m\u001b[0m\u001b[0m\n\u001b[1;32m----> 3\u001b[1;33m     \u001b[0mX_train\u001b[0m\u001b[1;33m,\u001b[0m \u001b[0mX_test\u001b[0m \u001b[1;33m=\u001b[0m \u001b[0mX_train\u001b[0m\u001b[1;33m[\u001b[0m\u001b[0mtrain_index\u001b[0m\u001b[1;33m]\u001b[0m\u001b[1;33m,\u001b[0m \u001b[0mX_test\u001b[0m\u001b[1;33m[\u001b[0m\u001b[0mtest_index\u001b[0m\u001b[1;33m]\u001b[0m\u001b[1;33m\u001b[0m\u001b[0m\n\u001b[0m\u001b[0;32m      4\u001b[0m     \u001b[0my_train\u001b[0m\u001b[1;33m,\u001b[0m \u001b[0my_test\u001b[0m \u001b[1;33m=\u001b[0m \u001b[0my_train\u001b[0m\u001b[1;33m[\u001b[0m\u001b[0mtrain_index\u001b[0m\u001b[1;33m]\u001b[0m\u001b[1;33m,\u001b[0m \u001b[0my_test\u001b[0m\u001b[1;33m[\u001b[0m\u001b[0mtest_index\u001b[0m\u001b[1;33m]\u001b[0m\u001b[1;33m\u001b[0m\u001b[0m\n",
      "\u001b[1;32mC:\\ProgramData\\Anaconda3\\lib\\site-packages\\pandas\\core\\frame.py\u001b[0m in \u001b[0;36m__getitem__\u001b[1;34m(self, key)\u001b[0m\n\u001b[0;32m   2131\u001b[0m         \u001b[1;32mif\u001b[0m \u001b[0misinstance\u001b[0m\u001b[1;33m(\u001b[0m\u001b[0mkey\u001b[0m\u001b[1;33m,\u001b[0m \u001b[1;33m(\u001b[0m\u001b[0mSeries\u001b[0m\u001b[1;33m,\u001b[0m \u001b[0mnp\u001b[0m\u001b[1;33m.\u001b[0m\u001b[0mndarray\u001b[0m\u001b[1;33m,\u001b[0m \u001b[0mIndex\u001b[0m\u001b[1;33m,\u001b[0m \u001b[0mlist\u001b[0m\u001b[1;33m)\u001b[0m\u001b[1;33m)\u001b[0m\u001b[1;33m:\u001b[0m\u001b[1;33m\u001b[0m\u001b[0m\n\u001b[0;32m   2132\u001b[0m             \u001b[1;31m# either boolean or fancy integer index\u001b[0m\u001b[1;33m\u001b[0m\u001b[1;33m\u001b[0m\u001b[0m\n\u001b[1;32m-> 2133\u001b[1;33m             \u001b[1;32mreturn\u001b[0m \u001b[0mself\u001b[0m\u001b[1;33m.\u001b[0m\u001b[0m_getitem_array\u001b[0m\u001b[1;33m(\u001b[0m\u001b[0mkey\u001b[0m\u001b[1;33m)\u001b[0m\u001b[1;33m\u001b[0m\u001b[0m\n\u001b[0m\u001b[0;32m   2134\u001b[0m         \u001b[1;32melif\u001b[0m \u001b[0misinstance\u001b[0m\u001b[1;33m(\u001b[0m\u001b[0mkey\u001b[0m\u001b[1;33m,\u001b[0m \u001b[0mDataFrame\u001b[0m\u001b[1;33m)\u001b[0m\u001b[1;33m:\u001b[0m\u001b[1;33m\u001b[0m\u001b[0m\n\u001b[0;32m   2135\u001b[0m             \u001b[1;32mreturn\u001b[0m \u001b[0mself\u001b[0m\u001b[1;33m.\u001b[0m\u001b[0m_getitem_frame\u001b[0m\u001b[1;33m(\u001b[0m\u001b[0mkey\u001b[0m\u001b[1;33m)\u001b[0m\u001b[1;33m\u001b[0m\u001b[0m\n",
      "\u001b[1;32mC:\\ProgramData\\Anaconda3\\lib\\site-packages\\pandas\\core\\frame.py\u001b[0m in \u001b[0;36m_getitem_array\u001b[1;34m(self, key)\u001b[0m\n\u001b[0;32m   2175\u001b[0m             \u001b[1;32mreturn\u001b[0m \u001b[0mself\u001b[0m\u001b[1;33m.\u001b[0m\u001b[0m_take\u001b[0m\u001b[1;33m(\u001b[0m\u001b[0mindexer\u001b[0m\u001b[1;33m,\u001b[0m \u001b[0maxis\u001b[0m\u001b[1;33m=\u001b[0m\u001b[1;36m0\u001b[0m\u001b[1;33m,\u001b[0m \u001b[0mconvert\u001b[0m\u001b[1;33m=\u001b[0m\u001b[1;32mFalse\u001b[0m\u001b[1;33m)\u001b[0m\u001b[1;33m\u001b[0m\u001b[0m\n\u001b[0;32m   2176\u001b[0m         \u001b[1;32melse\u001b[0m\u001b[1;33m:\u001b[0m\u001b[1;33m\u001b[0m\u001b[0m\n\u001b[1;32m-> 2177\u001b[1;33m             \u001b[0mindexer\u001b[0m \u001b[1;33m=\u001b[0m \u001b[0mself\u001b[0m\u001b[1;33m.\u001b[0m\u001b[0mloc\u001b[0m\u001b[1;33m.\u001b[0m\u001b[0m_convert_to_indexer\u001b[0m\u001b[1;33m(\u001b[0m\u001b[0mkey\u001b[0m\u001b[1;33m,\u001b[0m \u001b[0maxis\u001b[0m\u001b[1;33m=\u001b[0m\u001b[1;36m1\u001b[0m\u001b[1;33m)\u001b[0m\u001b[1;33m\u001b[0m\u001b[0m\n\u001b[0m\u001b[0;32m   2178\u001b[0m             \u001b[1;32mreturn\u001b[0m \u001b[0mself\u001b[0m\u001b[1;33m.\u001b[0m\u001b[0m_take\u001b[0m\u001b[1;33m(\u001b[0m\u001b[0mindexer\u001b[0m\u001b[1;33m,\u001b[0m \u001b[0maxis\u001b[0m\u001b[1;33m=\u001b[0m\u001b[1;36m1\u001b[0m\u001b[1;33m,\u001b[0m \u001b[0mconvert\u001b[0m\u001b[1;33m=\u001b[0m\u001b[1;32mTrue\u001b[0m\u001b[1;33m)\u001b[0m\u001b[1;33m\u001b[0m\u001b[0m\n\u001b[0;32m   2179\u001b[0m \u001b[1;33m\u001b[0m\u001b[0m\n",
      "\u001b[1;32mC:\\ProgramData\\Anaconda3\\lib\\site-packages\\pandas\\core\\indexing.py\u001b[0m in \u001b[0;36m_convert_to_indexer\u001b[1;34m(self, obj, axis, is_setter)\u001b[0m\n\u001b[0;32m   1267\u001b[0m                 \u001b[1;32mif\u001b[0m \u001b[0mmask\u001b[0m\u001b[1;33m.\u001b[0m\u001b[0many\u001b[0m\u001b[1;33m(\u001b[0m\u001b[1;33m)\u001b[0m\u001b[1;33m:\u001b[0m\u001b[1;33m\u001b[0m\u001b[0m\n\u001b[0;32m   1268\u001b[0m                     raise KeyError('{mask} not in index'\n\u001b[1;32m-> 1269\u001b[1;33m                                    .format(mask=objarr[mask]))\n\u001b[0m\u001b[0;32m   1270\u001b[0m \u001b[1;33m\u001b[0m\u001b[0m\n\u001b[0;32m   1271\u001b[0m                 \u001b[1;32mreturn\u001b[0m \u001b[0m_values_from_object\u001b[0m\u001b[1;33m(\u001b[0m\u001b[0mindexer\u001b[0m\u001b[1;33m)\u001b[0m\u001b[1;33m\u001b[0m\u001b[0m\n",
      "\u001b[1;31mKeyError\u001b[0m: '[   1    3    8 ... 2696 2698 2699] not in index'"
     ]
    }
   ],
   "source": [
    "for train_index, test_index in kf.split(X_train):\n",
    "    print('TRAIN:', train_index, 'TEST:', test_index)\n",
    "    X_train, X_test = X_train[train_index], X_test[test_index]\n",
    "    y_train, y_test = y_train[train_index], y_test[test_index]"
   ]
  },
  {
   "cell_type": "code",
   "execution_count": 49,
   "metadata": {},
   "outputs": [
    {
     "name": "stdout",
     "output_type": "stream",
     "text": [
      "Cross-validated scores: [0.7955124  0.80213018 0.79357511 0.78553644 0.77544204 0.76100946]\n"
     ]
    }
   ],
   "source": [
    "# Perform 6-fold cross validation\n",
    "scores = cross_val_score(ada_boost, X_train, y_train, cv=6)\n",
    "print ('Cross-validated scores:', scores)"
   ]
  },
  {
   "cell_type": "code",
   "execution_count": null,
   "metadata": {},
   "outputs": [],
   "source": []
  },
  {
   "cell_type": "code",
   "execution_count": null,
   "metadata": {},
   "outputs": [],
   "source": []
  },
  {
   "cell_type": "markdown",
   "metadata": {},
   "source": [
    "#### Gradient Boosting"
   ]
  },
  {
   "cell_type": "code",
   "execution_count": 413,
   "metadata": {},
   "outputs": [],
   "source": [
    "GBoost = GradientBoostingRegressor(n_estimators=1000, learning_rate=0.25,\n",
    "                                   max_depth=6, max_features='sqrt',\n",
    "                                   min_samples_leaf=1, min_samples_split=2, \n",
    "                                   loss='huber', random_state =51)"
   ]
  },
  {
   "cell_type": "code",
   "execution_count": 414,
   "metadata": {},
   "outputs": [
    {
     "name": "stdout",
     "output_type": "stream",
     "text": [
      "0.1412363155934272\n",
      "0.02761545127842129\n",
      "R squared: 0.9999\n"
     ]
    }
   ],
   "source": [
    "GBoost.fit(X_train, y_train)\n",
    "GBoost_train_pred = GBoost.predict(X_train)\n",
    "print(rmsle(y_train, GBoost_train_pred))\n",
    "print(mean_absolute_error(y_train, GBoost_train_pred))\n",
    "print('R squared: {}'.format(round(GBoost.score(X_train, y_train),4)))"
   ]
  },
  {
   "cell_type": "code",
   "execution_count": 415,
   "metadata": {},
   "outputs": [
    {
     "name": "stdout",
     "output_type": "stream",
     "text": [
      "0.04125710445204458\n",
      "0.006150637374333677\n",
      "R squared: 1.0\n"
     ]
    }
   ],
   "source": [
    "GBoost.fit(X_test, y_test)\n",
    "GBoost_test_pred = GBoost.predict(X_test)\n",
    "print(rmsle(y_test, GBoost_test_pred))\n",
    "print(mean_absolute_error(y_test, GBoost_test_pred))\n",
    "print('R squared: {}'.format(round(GBoost.score(X_test, y_test),4)))"
   ]
  },
  {
   "cell_type": "code",
   "execution_count": 416,
   "metadata": {},
   "outputs": [
    {
     "data": {
      "text/plain": [
       "Text(0,0.5,'Feature Importance Score')"
      ]
     },
     "execution_count": 416,
     "metadata": {},
     "output_type": "execute_result"
    },
    {
     "data": {
      "image/png": "[encoded data removed]",
      "text/plain": [
       "<matplotlib.figure.Figure at 0x2b1e7cb0e80>"
      ]
     },
     "metadata": {},
     "output_type": "display_data"
    }
   ],
   "source": [
    "feat_imp = pd.Series(GBoost.feature_importances_, X_train.columns).sort_values(ascending=False)\n",
    "feat_imp = feat_imp[feat_imp > 0.0]\n",
    "plt.figure(figsize=(16,6))\n",
    "feat_imp.plot(kind='bar', title='Feature Importances')\n",
    "plt.ylabel('Feature Importance Score')"
   ]
  },
  {
   "cell_type": "markdown",
   "metadata": {},
   "source": [
    "#### XgBoost"
   ]
  },
  {
   "cell_type": "code",
   "execution_count": 109,
   "metadata": {},
   "outputs": [],
   "source": [
    "model_xgb = xgb.XGBRegressor(learning_rate=0.01, max_depth=6,n_estimators=1000,random_state =51, nthread = -1)"
   ]
  },
  {
   "cell_type": "code",
   "execution_count": 110,
   "metadata": {},
   "outputs": [
    {
     "name": "stdout",
     "output_type": "stream",
     "text": [
      "0.9071438250187562\n",
      "0.698012904001249\n",
      "R squared: 0.9972\n"
     ]
    }
   ],
   "source": [
    "model_xgb.fit(X_train, y_train)\n",
    "xgb_train_pred = model_xgb.predict(X_train)\n",
    "print(rmsle(y_train, xgb_train_pred))\n",
    "print(mean_absolute_error(y_train, xgb_train_pred))\n",
    "print('R squared: {}'.format(round(model_xgb.score(X_train, y_train),4)))"
   ]
  },
  {
   "cell_type": "code",
   "execution_count": 111,
   "metadata": {},
   "outputs": [
    {
     "name": "stdout",
     "output_type": "stream",
     "text": [
      "0.7235539304266011\n",
      "0.550928693559171\n",
      "R squared: 0.9982\n"
     ]
    }
   ],
   "source": [
    "model_xgb.fit(X_test, y_test)\n",
    "xgb_test_pred = model_xgb.predict(X_test)\n",
    "print(rmsle(y_test, xgb_test_pred))\n",
    "print(mean_absolute_error(y_test, xgb_test_pred))\n",
    "print('R squared: {}'.format(round(model_xgb.score(X_test, y_test),4)))"
   ]
  },
  {
   "cell_type": "code",
   "execution_count": 127,
   "metadata": {},
   "outputs": [
    {
     "data": {
      "text/plain": [
       "Text(0,0.5,'Feature Importance Score')"
      ]
     },
     "execution_count": 127,
     "metadata": {},
     "output_type": "execute_result"
    },
    {
     "data": {
      "image/png": "[encoded data removed]",
      "text/plain": [
       "<matplotlib.figure.Figure at 0x2b1d8dc2eb8>"
      ]
     },
     "metadata": {},
     "output_type": "display_data"
    }
   ],
   "source": [
    "feat_imp = pd.Series(model_xgb.feature_importances_, X_train.columns).sort_values(ascending=False)\n",
    "feat_imp = feat_imp[feat_imp > 0.0]\n",
    "plt.figure(figsize=(16,6))\n",
    "feat_imp.plot(kind='bar', title='Feature Importances')\n",
    "plt.ylabel('Feature Importance Score')"
   ]
  },
  {
   "cell_type": "markdown",
   "metadata": {},
   "source": [
    "#### LightGBM"
   ]
  },
  {
   "cell_type": "code",
   "execution_count": 112,
   "metadata": {},
   "outputs": [],
   "source": [
    "model_lgb = lgb.LGBMRegressor(objective='regression',num_leaves=5,\n",
    "                              learning_rate=0.1, n_estimators=1000,\n",
    "                              max_bin = 55, bagging_fraction = 0.8,\n",
    "                              bagging_freq = 5, feature_fraction = 0.2319,\n",
    "                              feature_fraction_seed=9, bagging_seed=9,\n",
    "                              min_data_in_leaf =6, min_sum_hessian_in_leaf = 11)"
   ]
  },
  {
   "cell_type": "code",
   "execution_count": 113,
   "metadata": {},
   "outputs": [
    {
     "name": "stdout",
     "output_type": "stream",
     "text": [
      "2.47954891393149\n",
      "1.8599390967305425\n",
      "R squared: 0.9794\n"
     ]
    }
   ],
   "source": [
    "model_lgb.fit(X_train, y_train)\n",
    "lgb_train_pred = model_lgb.predict(X_train)\n",
    "print(rmsle(y_train, lgb_train_pred))\n",
    "print(mean_absolute_error(y_train, lgb_train_pred))\n",
    "print('R squared: {}'.format(round(model_lgb.score(X_train, y_train),4)))"
   ]
  },
  {
   "cell_type": "code",
   "execution_count": 114,
   "metadata": {},
   "outputs": [
    {
     "name": "stdout",
     "output_type": "stream",
     "text": [
      "1.9411621727088384\n",
      "1.4823170952975455\n",
      "R squared: 0.9868\n"
     ]
    }
   ],
   "source": [
    "model_lgb.fit(X_test, y_test)\n",
    "lgb_test_pred = model_lgb.predict(X_test)\n",
    "print(rmsle(y_test, lgb_test_pred))\n",
    "print(mean_absolute_error(y_test, lgb_test_pred))\n",
    "print('R squared: {}'.format(round(model_lgb.score(X_test, y_test),4)))"
   ]
  },
  {
   "cell_type": "code",
   "execution_count": 128,
   "metadata": {},
   "outputs": [
    {
     "data": {
      "text/plain": [
       "Text(0,0.5,'Feature Importance Score')"
      ]
     },
     "execution_count": 128,
     "metadata": {},
     "output_type": "execute_result"
    },
    {
     "data": {
      "image/png": "[encoded data removed]",
      "text/plain": [
       "<matplotlib.figure.Figure at 0x2b1d8ec6e48>"
      ]
     },
     "metadata": {},
     "output_type": "display_data"
    }
   ],
   "source": [
    "feat_imp = pd.Series(model_lgb.feature_importances_, X_train.columns).sort_values(ascending=False)\n",
    "feat_imp = feat_imp[feat_imp > 0.0]\n",
    "plt.figure(figsize=(16,6))\n",
    "feat_imp.plot(kind='bar', title='Feature Importances')\n",
    "plt.ylabel('Feature Importance Score')"
   ]
  },
  {
   "cell_type": "markdown",
   "metadata": {},
   "source": [
    "#### Stacked Regressor"
   ]
  },
  {
   "cell_type": "code",
   "execution_count": 115,
   "metadata": {},
   "outputs": [],
   "source": [
    "st_regr = StackingRegressor(regressors=[model_lgb, GBoost, ada_boost], meta_regressor=model_xgb)"
   ]
  },
  {
   "cell_type": "code",
   "execution_count": 116,
   "metadata": {},
   "outputs": [
    {
     "name": "stdout",
     "output_type": "stream",
     "text": [
      "0.36862693919489714\n",
      "0.23895412061435106\n",
      "R squared: 0.9995\n"
     ]
    }
   ],
   "source": [
    "st_regr.fit(X_train, y_train)\n",
    "st_regr_train_pred = st_regr.predict(X_train)\n",
    "print(rmsle(y_train, st_regr_train_pred))\n",
    "print(mean_absolute_error(y_train, st_regr_train_pred))\n",
    "print('R squared: {}'.format(round(st_regr.score(X_train, y_train),4)))"
   ]
  },
  {
   "cell_type": "code",
   "execution_count": 117,
   "metadata": {},
   "outputs": [
    {
     "name": "stdout",
     "output_type": "stream",
     "text": [
      "0.2545779644877649\n",
      "0.14495886342309397\n",
      "R squared: 0.9998\n"
     ]
    }
   ],
   "source": [
    "st_regr.fit(X_test, y_test)\n",
    "st_regr_test_pred = st_regr.predict(X_test)\n",
    "print(rmsle(y_test, st_regr_test_pred))\n",
    "print(mean_absolute_error(y_test, st_regr_test_pred))\n",
    "print('R squared: {}'.format(round(st_regr.score(X_test, y_test),4)))"
   ]
  },
  {
   "cell_type": "markdown",
   "metadata": {},
   "source": [
    "### As we see above, the best model with least errors is the stacked regressor model. But that can be overfitting also."
   ]
  },
  {
   "cell_type": "markdown",
   "metadata": {},
   "source": [
    "### Feature Importance"
   ]
  },
  {
   "cell_type": "markdown",
   "metadata": {},
   "source": [
    "#### Checking for Adaboost"
   ]
  },
  {
   "cell_type": "code",
   "execution_count": 253,
   "metadata": {},
   "outputs": [
    {
     "data": {
      "text/plain": [
       "Text(0,0.5,'Feature Importance Score')"
      ]
     },
     "execution_count": 253,
     "metadata": {},
     "output_type": "execute_result"
    },
    {
     "data": {
      "image/png": "[encoded data removed]",
      "text/plain": [
       "<matplotlib.figure.Figure at 0x2b1dea084a8>"
      ]
     },
     "metadata": {},
     "output_type": "display_data"
    }
   ],
   "source": [
    "feat_imp = pd.Series(ada_boost.feature_importances_, X_train.columns).sort_values(ascending=False)\n",
    "feat_imp = feat_imp[feat_imp > 0.0]\n",
    "plt.figure(figsize=(16,6))\n",
    "feat_imp.plot(kind='bar', title='Feature Importances')\n",
    "plt.ylabel('Feature Importance Score')"
   ]
  },
  {
   "cell_type": "code",
   "execution_count": 259,
   "metadata": {},
   "outputs": [
    {
     "data": {
      "text/plain": [
       "Age              0.317612\n",
       "Current Price    0.250769\n",
       "on road price    0.195997\n",
       "price score      0.094096\n",
       "Kms              0.030722\n",
       "Type_0.8         0.024796\n",
       "Heath score      0.024517\n",
       "Type_0.4         0.020983\n",
       "dtype: float64"
      ]
     },
     "execution_count": 259,
     "metadata": {},
     "output_type": "execute_result"
    }
   ],
   "source": [
    "imp_features = feat_imp.nlargest(8)\n",
    "imp_features"
   ]
  },
  {
   "cell_type": "code",
   "execution_count": 260,
   "metadata": {},
   "outputs": [],
   "source": [
    "X_train_feat = X_train[['Age','Current Price','on road price','Kms','Type_0.8','Heath score','Type_0.4']]"
   ]
  },
  {
   "cell_type": "code",
   "execution_count": 261,
   "metadata": {},
   "outputs": [
    {
     "name": "stdout",
     "output_type": "stream",
     "text": [
      "2.8541852830429795\n",
      "2.423325065687854\n",
      "R squared: 0.9727\n"
     ]
    }
   ],
   "source": [
    "ada_boost.fit(X_train_feat, y_train)\n",
    "adaboost_train_pred = ada_boost.predict(X_train_feat)\n",
    "print(rmsle(y_train, adaboost_train_pred))\n",
    "print(mean_absolute_error(y_train, adaboost_train_pred))\n",
    "print('R squared: {}'.format(round(ada_boost.score(X_train_feat, y_train),4)))"
   ]
  },
  {
   "cell_type": "code",
   "execution_count": 262,
   "metadata": {},
   "outputs": [],
   "source": [
    "X_test_feat = X_test[['Age','Current Price','on road price','Kms','Type_0.8','Heath score','Type_0.4']]"
   ]
  },
  {
   "cell_type": "code",
   "execution_count": 264,
   "metadata": {},
   "outputs": [
    {
     "name": "stdout",
     "output_type": "stream",
     "text": [
      "3.067908940736822\n",
      "2.617121354189796\n",
      "R squared: 0.967\n"
     ]
    }
   ],
   "source": [
    "ada_boost.fit(X_test_feat, y_test)\n",
    "adaboost_test_pred = ada_boost.predict(X_test_feat)\n",
    "print(rmsle(y_test, adaboost_test_pred))\n",
    "print(mean_absolute_error(y_test, adaboost_test_pred))\n",
    "print('R squared: {}'.format(round(ada_boost.score(X_test_feat, y_test),4)))"
   ]
  },
  {
   "cell_type": "markdown",
   "metadata": {},
   "source": [
    "### Plotting actual v/s predictions"
   ]
  },
  {
   "cell_type": "code",
   "execution_count": 29,
   "metadata": {},
   "outputs": [
    {
     "data": {
      "text/plain": [
       "Text(0,0.5,'Predictions')"
      ]
     },
     "execution_count": 29,
     "metadata": {},
     "output_type": "execute_result"
    },
    {
     "data": {
      "image/png": "[encoded data removed]",
      "text/plain": [
       "<matplotlib.figure.Figure at 0x2b6654fad68>"
      ]
     },
     "metadata": {},
     "output_type": "display_data"
    }
   ],
   "source": [
    "plt.scatter(y_test, adaboost_test_pred)\n",
    "plt.xlabel('True Values')\n",
    "plt.ylabel('Predictions')"
   ]
  },
  {
   "cell_type": "markdown",
   "metadata": {},
   "source": [
    "### Saving the model"
   ]
  },
  {
   "cell_type": "code",
   "execution_count": 130,
   "metadata": {},
   "outputs": [
    {
     "data": {
      "text/plain": [
       "['../Datasets/trained_car_regreesor_model.pkl']"
      ]
     },
     "execution_count": 130,
     "metadata": {},
     "output_type": "execute_result"
    }
   ],
   "source": [
    "# Save the trained model to a file so we can use it in other programs\n",
    "joblib.dump(st_regr, '../Datasets/trained_car_regreesor_model.pkl')"
   ]
  },
  {
   "cell_type": "markdown",
   "metadata": {},
   "source": [
    "#### Combining the final results"
   ]
  },
  {
   "cell_type": "code",
   "execution_count": 453,
   "metadata": {},
   "outputs": [],
   "source": [
    "x = pd.DataFrame(data=adaboost_train_pred,index=y_train.index)\n",
    "y = pd.DataFrame(data=adaboost_test_pred,index=y_test.index)\n",
    "z = pd.concat([x,y])"
   ]
  },
  {
   "cell_type": "code",
   "execution_count": 439,
   "metadata": {},
   "outputs": [
    {
     "data": {
      "text/html": [
       "<div>\n",
       "<style scoped>\n",
       "    .dataframe tbody tr th:only-of-type {\n",
       "        vertical-align: middle;\n",
       "    }\n",
       "\n",
       "    .dataframe tbody tr th {\n",
       "        vertical-align: top;\n",
       "    }\n",
       "\n",
       "    .dataframe thead th {\n",
       "        text-align: right;\n",
       "    }\n",
       "</style>\n",
       "<table border=\"1\" class=\"dataframe\">\n",
       "  <thead>\n",
       "    <tr style=\"text-align: right;\">\n",
       "      <th></th>\n",
       "      <th>0</th>\n",
       "    </tr>\n",
       "  </thead>\n",
       "  <tbody>\n",
       "    <tr>\n",
       "      <th>0</th>\n",
       "      <td>37.103385</td>\n",
       "    </tr>\n",
       "    <tr>\n",
       "      <th>1</th>\n",
       "      <td>64.108963</td>\n",
       "    </tr>\n",
       "    <tr>\n",
       "      <th>2</th>\n",
       "      <td>48.289456</td>\n",
       "    </tr>\n",
       "    <tr>\n",
       "      <th>3</th>\n",
       "      <td>34.944346</td>\n",
       "    </tr>\n",
       "    <tr>\n",
       "      <th>4</th>\n",
       "      <td>69.037202</td>\n",
       "    </tr>\n",
       "  </tbody>\n",
       "</table>\n",
       "</div>"
      ],
      "text/plain": [
       "           0\n",
       "0  37.103385\n",
       "1  64.108963\n",
       "2  48.289456\n",
       "3  34.944346\n",
       "4  69.037202"
      ]
     },
     "execution_count": 439,
     "metadata": {},
     "output_type": "execute_result"
    }
   ],
   "source": [
    "z.sort_index(ascending=True).head()"
   ]
  },
  {
   "cell_type": "code",
   "execution_count": 350,
   "metadata": {},
   "outputs": [
    {
     "data": {
      "text/html": [
       "<div>\n",
       "<style scoped>\n",
       "    .dataframe tbody tr th:only-of-type {\n",
       "        vertical-align: middle;\n",
       "    }\n",
       "\n",
       "    .dataframe tbody tr th {\n",
       "        vertical-align: top;\n",
       "    }\n",
       "\n",
       "    .dataframe thead th {\n",
       "        text-align: right;\n",
       "    }\n",
       "</style>\n",
       "<table border=\"1\" class=\"dataframe\">\n",
       "  <thead>\n",
       "    <tr style=\"text-align: right;\">\n",
       "      <th></th>\n",
       "      <th>Make</th>\n",
       "      <th>Model</th>\n",
       "      <th>Age</th>\n",
       "      <th>Variant</th>\n",
       "      <th>Transmission</th>\n",
       "      <th>Color</th>\n",
       "      <th>No of Owner</th>\n",
       "      <th>Kms</th>\n",
       "      <th>Type</th>\n",
       "      <th>Fuel Type</th>\n",
       "      <th>on road price</th>\n",
       "      <th>Dep</th>\n",
       "      <th>Predicted_dep</th>\n",
       "    </tr>\n",
       "  </thead>\n",
       "  <tbody>\n",
       "    <tr>\n",
       "      <th>0</th>\n",
       "      <td>Hyundai</td>\n",
       "      <td>I10</td>\n",
       "      <td>3</td>\n",
       "      <td>Sportz 1.2</td>\n",
       "      <td>Manual</td>\n",
       "      <td>White</td>\n",
       "      <td>1</td>\n",
       "      <td>12000</td>\n",
       "      <td>Hatchback</td>\n",
       "      <td>PETROL</td>\n",
       "      <td>5.378497e+05</td>\n",
       "      <td>37.091715</td>\n",
       "      <td>37.672435</td>\n",
       "    </tr>\n",
       "    <tr>\n",
       "      <th>1</th>\n",
       "      <td>Hyundai</td>\n",
       "      <td>I20</td>\n",
       "      <td>9</td>\n",
       "      <td>Magna (O) 1.2</td>\n",
       "      <td>Manual</td>\n",
       "      <td>Beige</td>\n",
       "      <td>1</td>\n",
       "      <td>68000</td>\n",
       "      <td>Hatchback</td>\n",
       "      <td>PETROL</td>\n",
       "      <td>6.138627e+05</td>\n",
       "      <td>69.178775</td>\n",
       "      <td>62.419439</td>\n",
       "    </tr>\n",
       "    <tr>\n",
       "      <th>2</th>\n",
       "      <td>Hyundai</td>\n",
       "      <td>I20</td>\n",
       "      <td>8</td>\n",
       "      <td>Sportz 1.2</td>\n",
       "      <td>Manual</td>\n",
       "      <td>White</td>\n",
       "      <td>1</td>\n",
       "      <td>31143</td>\n",
       "      <td>Hatchback</td>\n",
       "      <td>PETROL</td>\n",
       "      <td>6.783586e+05</td>\n",
       "      <td>48.763381</td>\n",
       "      <td>48.860337</td>\n",
       "    </tr>\n",
       "    <tr>\n",
       "      <th>3</th>\n",
       "      <td>Hyundai</td>\n",
       "      <td>Neo Fluidic Elantra</td>\n",
       "      <td>2</td>\n",
       "      <td>1.6SxAtCrdi</td>\n",
       "      <td>Automatic</td>\n",
       "      <td>Silver</td>\n",
       "      <td>1</td>\n",
       "      <td>6000</td>\n",
       "      <td>Sedan</td>\n",
       "      <td>DIESEL</td>\n",
       "      <td>2.228480e+06</td>\n",
       "      <td>26.889645</td>\n",
       "      <td>37.239544</td>\n",
       "    </tr>\n",
       "    <tr>\n",
       "      <th>4</th>\n",
       "      <td>Hyundai</td>\n",
       "      <td>Santro Xing</td>\n",
       "      <td>11</td>\n",
       "      <td>Xo</td>\n",
       "      <td>Manual</td>\n",
       "      <td>Golden</td>\n",
       "      <td>2</td>\n",
       "      <td>100000</td>\n",
       "      <td>Hatchback</td>\n",
       "      <td>PETROL</td>\n",
       "      <td>4.537194e+05</td>\n",
       "      <td>80.992656</td>\n",
       "      <td>69.071230</td>\n",
       "    </tr>\n",
       "  </tbody>\n",
       "</table>\n",
       "</div>"
      ],
      "text/plain": [
       "      Make                Model  Age        Variant Transmission   Color  \\\n",
       "0  Hyundai                  I10    3     Sportz 1.2       Manual   White   \n",
       "1  Hyundai                  I20    9  Magna (O) 1.2       Manual   Beige   \n",
       "2  Hyundai                  I20    8     Sportz 1.2       Manual   White   \n",
       "3  Hyundai  Neo Fluidic Elantra    2    1.6SxAtCrdi    Automatic  Silver   \n",
       "4  Hyundai          Santro Xing   11             Xo       Manual  Golden   \n",
       "\n",
       "   No of Owner     Kms       Type Fuel Type  on road price        Dep  \\\n",
       "0            1   12000  Hatchback    PETROL   5.378497e+05  37.091715   \n",
       "1            1   68000  Hatchback    PETROL   6.138627e+05  69.178775   \n",
       "2            1   31143  Hatchback    PETROL   6.783586e+05  48.763381   \n",
       "3            1    6000      Sedan    DIESEL   2.228480e+06  26.889645   \n",
       "4            2  100000  Hatchback    PETROL   4.537194e+05  80.992656   \n",
       "\n",
       "   Predicted_dep  \n",
       "0      37.672435  \n",
       "1      62.419439  \n",
       "2      48.860337  \n",
       "3      37.239544  \n",
       "4      69.071230  "
      ]
     },
     "execution_count": 350,
     "metadata": {},
     "output_type": "execute_result"
    }
   ],
   "source": [
    "df_sub.head()"
   ]
  },
  {
   "cell_type": "code",
   "execution_count": 454,
   "metadata": {},
   "outputs": [],
   "source": [
    "df_sub['Predicted_dep'] = pd.DataFrame(z)"
   ]
  },
  {
   "cell_type": "code",
   "execution_count": 169,
   "metadata": {},
   "outputs": [
    {
     "data": {
      "text/html": [
       "<div>\n",
       "<style scoped>\n",
       "    .dataframe tbody tr th:only-of-type {\n",
       "        vertical-align: middle;\n",
       "    }\n",
       "\n",
       "    .dataframe tbody tr th {\n",
       "        vertical-align: top;\n",
       "    }\n",
       "\n",
       "    .dataframe thead th {\n",
       "        text-align: right;\n",
       "    }\n",
       "</style>\n",
       "<table border=\"1\" class=\"dataframe\">\n",
       "  <thead>\n",
       "    <tr style=\"text-align: right;\">\n",
       "      <th></th>\n",
       "      <th>Make</th>\n",
       "      <th>Model</th>\n",
       "      <th>Age</th>\n",
       "      <th>Variant</th>\n",
       "      <th>Transmission</th>\n",
       "      <th>Color</th>\n",
       "      <th>No of Owner</th>\n",
       "      <th>Kms</th>\n",
       "      <th>Type</th>\n",
       "      <th>Fuel Type</th>\n",
       "      <th>on road price</th>\n",
       "      <th>Dep</th>\n",
       "      <th>Predicted_dep</th>\n",
       "    </tr>\n",
       "  </thead>\n",
       "  <tbody>\n",
       "    <tr>\n",
       "      <th>0</th>\n",
       "      <td>Hyundai</td>\n",
       "      <td>I10</td>\n",
       "      <td>3</td>\n",
       "      <td>Sportz 1.2</td>\n",
       "      <td>Manual</td>\n",
       "      <td>White</td>\n",
       "      <td>1</td>\n",
       "      <td>12000</td>\n",
       "      <td>Hatchback</td>\n",
       "      <td>PETROL</td>\n",
       "      <td>537849.665</td>\n",
       "      <td>37.092</td>\n",
       "      <td>32.444</td>\n",
       "    </tr>\n",
       "    <tr>\n",
       "      <th>1</th>\n",
       "      <td>Hyundai</td>\n",
       "      <td>I20</td>\n",
       "      <td>9</td>\n",
       "      <td>Magna (O) 1.2</td>\n",
       "      <td>Manual</td>\n",
       "      <td>Beige</td>\n",
       "      <td>1</td>\n",
       "      <td>68000</td>\n",
       "      <td>Hatchback</td>\n",
       "      <td>PETROL</td>\n",
       "      <td>613862.680</td>\n",
       "      <td>69.179</td>\n",
       "      <td>69.053</td>\n",
       "    </tr>\n",
       "    <tr>\n",
       "      <th>2</th>\n",
       "      <td>Hyundai</td>\n",
       "      <td>I20</td>\n",
       "      <td>8</td>\n",
       "      <td>Sportz 1.2</td>\n",
       "      <td>Manual</td>\n",
       "      <td>White</td>\n",
       "      <td>1</td>\n",
       "      <td>31143</td>\n",
       "      <td>Hatchback</td>\n",
       "      <td>PETROL</td>\n",
       "      <td>678358.572</td>\n",
       "      <td>48.763</td>\n",
       "      <td>49.204</td>\n",
       "    </tr>\n",
       "    <tr>\n",
       "      <th>3</th>\n",
       "      <td>Hyundai</td>\n",
       "      <td>Neo Fluidic Elantra</td>\n",
       "      <td>2</td>\n",
       "      <td>1.6SxAtCrdi</td>\n",
       "      <td>Automatic</td>\n",
       "      <td>Silver</td>\n",
       "      <td>1</td>\n",
       "      <td>6000</td>\n",
       "      <td>Sedan</td>\n",
       "      <td>DIESEL</td>\n",
       "      <td>2228480.499</td>\n",
       "      <td>26.890</td>\n",
       "      <td>26.179</td>\n",
       "    </tr>\n",
       "    <tr>\n",
       "      <th>4</th>\n",
       "      <td>Hyundai</td>\n",
       "      <td>Santro Xing</td>\n",
       "      <td>11</td>\n",
       "      <td>Xo</td>\n",
       "      <td>Manual</td>\n",
       "      <td>Golden</td>\n",
       "      <td>2</td>\n",
       "      <td>100000</td>\n",
       "      <td>Hatchback</td>\n",
       "      <td>PETROL</td>\n",
       "      <td>453719.368</td>\n",
       "      <td>80.993</td>\n",
       "      <td>74.071</td>\n",
       "    </tr>\n",
       "    <tr>\n",
       "      <th>5</th>\n",
       "      <td>Hyundai</td>\n",
       "      <td>Grand I10</td>\n",
       "      <td>3</td>\n",
       "      <td>Asta 1.2 Kappa VTVT</td>\n",
       "      <td>Manual</td>\n",
       "      <td>Red</td>\n",
       "      <td>1</td>\n",
       "      <td>45000</td>\n",
       "      <td>Hatchback</td>\n",
       "      <td>PETROL</td>\n",
       "      <td>752105.000</td>\n",
       "      <td>51.638</td>\n",
       "      <td>45.040</td>\n",
       "    </tr>\n",
       "    <tr>\n",
       "      <th>6</th>\n",
       "      <td>Hyundai</td>\n",
       "      <td>Accent</td>\n",
       "      <td>11</td>\n",
       "      <td>GLS</td>\n",
       "      <td>Manual</td>\n",
       "      <td>Silver</td>\n",
       "      <td>1</td>\n",
       "      <td>78484</td>\n",
       "      <td>Sedan</td>\n",
       "      <td>PETROL</td>\n",
       "      <td>691110.636</td>\n",
       "      <td>85.357</td>\n",
       "      <td>80.473</td>\n",
       "    </tr>\n",
       "    <tr>\n",
       "      <th>7</th>\n",
       "      <td>Hyundai</td>\n",
       "      <td>I10</td>\n",
       "      <td>10</td>\n",
       "      <td>Magna</td>\n",
       "      <td>Manual</td>\n",
       "      <td>Red</td>\n",
       "      <td>2</td>\n",
       "      <td>55000</td>\n",
       "      <td>Hatchback</td>\n",
       "      <td>PETROL + CNG</td>\n",
       "      <td>462988.363</td>\n",
       "      <td>64.837</td>\n",
       "      <td>66.719</td>\n",
       "    </tr>\n",
       "    <tr>\n",
       "      <th>8</th>\n",
       "      <td>Hyundai</td>\n",
       "      <td>I10</td>\n",
       "      <td>11</td>\n",
       "      <td>Era</td>\n",
       "      <td>Manual</td>\n",
       "      <td>Grey</td>\n",
       "      <td>2</td>\n",
       "      <td>68000</td>\n",
       "      <td>Hatchback</td>\n",
       "      <td>PETROL</td>\n",
       "      <td>446864.390</td>\n",
       "      <td>69.476</td>\n",
       "      <td>71.617</td>\n",
       "    </tr>\n",
       "    <tr>\n",
       "      <th>9</th>\n",
       "      <td>Hyundai</td>\n",
       "      <td>Creta</td>\n",
       "      <td>3</td>\n",
       "      <td>1.6Sx+AtDiesel</td>\n",
       "      <td>Automatic</td>\n",
       "      <td>White</td>\n",
       "      <td>1</td>\n",
       "      <td>4500</td>\n",
       "      <td>SUV</td>\n",
       "      <td>DIESEL</td>\n",
       "      <td>1741999.316</td>\n",
       "      <td>29.104</td>\n",
       "      <td>31.231</td>\n",
       "    </tr>\n",
       "  </tbody>\n",
       "</table>\n",
       "</div>"
      ],
      "text/plain": [
       "      Make                Model  Age              Variant Transmission  \\\n",
       "0  Hyundai                  I10    3           Sportz 1.2       Manual   \n",
       "1  Hyundai                  I20    9        Magna (O) 1.2       Manual   \n",
       "2  Hyundai                  I20    8           Sportz 1.2       Manual   \n",
       "3  Hyundai  Neo Fluidic Elantra    2          1.6SxAtCrdi    Automatic   \n",
       "4  Hyundai          Santro Xing   11                   Xo       Manual   \n",
       "5  Hyundai            Grand I10    3  Asta 1.2 Kappa VTVT       Manual   \n",
       "6  Hyundai               Accent   11                  GLS       Manual   \n",
       "7  Hyundai                  I10   10                Magna       Manual   \n",
       "8  Hyundai                  I10   11                  Era       Manual   \n",
       "9  Hyundai                Creta    3       1.6Sx+AtDiesel    Automatic   \n",
       "\n",
       "    Color  No of Owner     Kms       Type     Fuel Type  on road price  \\\n",
       "0   White            1   12000  Hatchback        PETROL     537849.665   \n",
       "1   Beige            1   68000  Hatchback        PETROL     613862.680   \n",
       "2   White            1   31143  Hatchback        PETROL     678358.572   \n",
       "3  Silver            1    6000      Sedan        DIESEL    2228480.499   \n",
       "4  Golden            2  100000  Hatchback        PETROL     453719.368   \n",
       "5     Red            1   45000  Hatchback        PETROL     752105.000   \n",
       "6  Silver            1   78484      Sedan        PETROL     691110.636   \n",
       "7     Red            2   55000  Hatchback  PETROL + CNG     462988.363   \n",
       "8    Grey            2   68000  Hatchback        PETROL     446864.390   \n",
       "9   White            1    4500        SUV        DIESEL    1741999.316   \n",
       "\n",
       "      Dep  Predicted_dep  \n",
       "0  37.092         32.444  \n",
       "1  69.179         69.053  \n",
       "2  48.763         49.204  \n",
       "3  26.890         26.179  \n",
       "4  80.993         74.071  \n",
       "5  51.638         45.040  \n",
       "6  85.357         80.473  \n",
       "7  64.837         66.719  \n",
       "8  69.476         71.617  \n",
       "9  29.104         31.231  "
      ]
     },
     "execution_count": 169,
     "metadata": {},
     "output_type": "execute_result"
    }
   ],
   "source": [
    "df_sub.head(10).round(3)"
   ]
  },
  {
   "cell_type": "code",
   "execution_count": 455,
   "metadata": {},
   "outputs": [
    {
     "data": {
      "text/html": [
       "<div>\n",
       "<style scoped>\n",
       "    .dataframe tbody tr th:only-of-type {\n",
       "        vertical-align: middle;\n",
       "    }\n",
       "\n",
       "    .dataframe tbody tr th {\n",
       "        vertical-align: top;\n",
       "    }\n",
       "\n",
       "    .dataframe thead th {\n",
       "        text-align: right;\n",
       "    }\n",
       "</style>\n",
       "<table border=\"1\" class=\"dataframe\">\n",
       "  <thead>\n",
       "    <tr style=\"text-align: right;\">\n",
       "      <th></th>\n",
       "      <th>Make</th>\n",
       "      <th>Model</th>\n",
       "      <th>Age</th>\n",
       "      <th>Variant</th>\n",
       "      <th>Transmission</th>\n",
       "      <th>Color</th>\n",
       "      <th>No of Owner</th>\n",
       "      <th>Kms</th>\n",
       "      <th>Type</th>\n",
       "      <th>Fuel Type</th>\n",
       "      <th>on road price</th>\n",
       "      <th>Dep</th>\n",
       "      <th>Predicted_dep</th>\n",
       "    </tr>\n",
       "  </thead>\n",
       "  <tbody>\n",
       "    <tr>\n",
       "      <th>440</th>\n",
       "      <td>Hyundai</td>\n",
       "      <td>I10</td>\n",
       "      <td>4</td>\n",
       "      <td>Magna 1.1 iRDE2</td>\n",
       "      <td>Manual</td>\n",
       "      <td>White</td>\n",
       "      <td>1</td>\n",
       "      <td>13000</td>\n",
       "      <td>Hatchback</td>\n",
       "      <td>PETROL</td>\n",
       "      <td>541569.725852</td>\n",
       "      <td>30.528007</td>\n",
       "      <td>37.261990</td>\n",
       "    </tr>\n",
       "    <tr>\n",
       "      <th>497</th>\n",
       "      <td>Hyundai</td>\n",
       "      <td>I10</td>\n",
       "      <td>4</td>\n",
       "      <td>Magna 1.1 iRDE2</td>\n",
       "      <td>Manual</td>\n",
       "      <td>Maroon</td>\n",
       "      <td>1</td>\n",
       "      <td>6300</td>\n",
       "      <td>Hatchback</td>\n",
       "      <td>PETROL</td>\n",
       "      <td>541569.725852</td>\n",
       "      <td>40.409978</td>\n",
       "      <td>36.430996</td>\n",
       "    </tr>\n",
       "    <tr>\n",
       "      <th>1099</th>\n",
       "      <td>Hyundai</td>\n",
       "      <td>I10</td>\n",
       "      <td>4</td>\n",
       "      <td>Magna 1.1 iRDE2</td>\n",
       "      <td>Manual</td>\n",
       "      <td>Silver</td>\n",
       "      <td>1</td>\n",
       "      <td>26000</td>\n",
       "      <td>Hatchback</td>\n",
       "      <td>PETROL</td>\n",
       "      <td>541569.725852</td>\n",
       "      <td>36.673343</td>\n",
       "      <td>37.194064</td>\n",
       "    </tr>\n",
       "    <tr>\n",
       "      <th>3838</th>\n",
       "      <td>Hyundai</td>\n",
       "      <td>I10</td>\n",
       "      <td>4</td>\n",
       "      <td>Magna 1.1 iRDE2</td>\n",
       "      <td>Manual</td>\n",
       "      <td>White</td>\n",
       "      <td>1</td>\n",
       "      <td>29000</td>\n",
       "      <td>Hatchback</td>\n",
       "      <td>PETROL</td>\n",
       "      <td>541569.725852</td>\n",
       "      <td>42.780391</td>\n",
       "      <td>42.258896</td>\n",
       "    </tr>\n",
       "  </tbody>\n",
       "</table>\n",
       "</div>"
      ],
      "text/plain": [
       "         Make Model  Age          Variant Transmission   Color  No of Owner  \\\n",
       "440   Hyundai   I10    4  Magna 1.1 iRDE2       Manual   White            1   \n",
       "497   Hyundai   I10    4  Magna 1.1 iRDE2       Manual  Maroon            1   \n",
       "1099  Hyundai   I10    4  Magna 1.1 iRDE2       Manual  Silver            1   \n",
       "3838  Hyundai   I10    4  Magna 1.1 iRDE2       Manual   White            1   \n",
       "\n",
       "        Kms       Type Fuel Type  on road price        Dep  Predicted_dep  \n",
       "440   13000  Hatchback    PETROL  541569.725852  30.528007      37.261990  \n",
       "497    6300  Hatchback    PETROL  541569.725852  40.409978      36.430996  \n",
       "1099  26000  Hatchback    PETROL  541569.725852  36.673343      37.194064  \n",
       "3838  29000  Hatchback    PETROL  541569.725852  42.780391      42.258896  "
      ]
     },
     "execution_count": 455,
     "metadata": {},
     "output_type": "execute_result"
    }
   ],
   "source": [
    "df_sub.loc[(df_sub['Model'] == 'I10') & (df_sub['Variant'] == 'Magna 1.1 iRDE2') & (df_sub['Age'] == 4)]"
   ]
  },
  {
   "cell_type": "code",
   "execution_count": 123,
   "metadata": {},
   "outputs": [
    {
     "data": {
      "text/html": [
       "<div>\n",
       "<style scoped>\n",
       "    .dataframe tbody tr th:only-of-type {\n",
       "        vertical-align: middle;\n",
       "    }\n",
       "\n",
       "    .dataframe tbody tr th {\n",
       "        vertical-align: top;\n",
       "    }\n",
       "\n",
       "    .dataframe thead th {\n",
       "        text-align: right;\n",
       "    }\n",
       "</style>\n",
       "<table border=\"1\" class=\"dataframe\">\n",
       "  <thead>\n",
       "    <tr style=\"text-align: right;\">\n",
       "      <th></th>\n",
       "      <th>No of Owner</th>\n",
       "      <th>Kms</th>\n",
       "      <th>on road price</th>\n",
       "      <th>Dep</th>\n",
       "      <th>Predicted_dep</th>\n",
       "    </tr>\n",
       "  </thead>\n",
       "  <tbody>\n",
       "    <tr>\n",
       "      <th>count</th>\n",
       "      <td>3858.000000</td>\n",
       "      <td>3858.000000</td>\n",
       "      <td>3.858000e+03</td>\n",
       "      <td>3858.000000</td>\n",
       "      <td>3858.000000</td>\n",
       "    </tr>\n",
       "    <tr>\n",
       "      <th>mean</th>\n",
       "      <td>1.225505</td>\n",
       "      <td>56014.082167</td>\n",
       "      <td>9.355707e+05</td>\n",
       "      <td>54.393758</td>\n",
       "      <td>54.390957</td>\n",
       "    </tr>\n",
       "    <tr>\n",
       "      <th>std</th>\n",
       "      <td>0.547417</td>\n",
       "      <td>38682.482324</td>\n",
       "      <td>5.591599e+05</td>\n",
       "      <td>17.174109</td>\n",
       "      <td>17.161194</td>\n",
       "    </tr>\n",
       "    <tr>\n",
       "      <th>min</th>\n",
       "      <td>1.000000</td>\n",
       "      <td>863.000000</td>\n",
       "      <td>2.372747e+05</td>\n",
       "      <td>2.071667</td>\n",
       "      <td>2.271385</td>\n",
       "    </tr>\n",
       "    <tr>\n",
       "      <th>25%</th>\n",
       "      <td>1.000000</td>\n",
       "      <td>38000.000000</td>\n",
       "      <td>5.415697e+05</td>\n",
       "      <td>42.224652</td>\n",
       "      <td>42.382694</td>\n",
       "    </tr>\n",
       "    <tr>\n",
       "      <th>50%</th>\n",
       "      <td>1.000000</td>\n",
       "      <td>53000.000000</td>\n",
       "      <td>7.819281e+05</td>\n",
       "      <td>55.274488</td>\n",
       "      <td>55.280361</td>\n",
       "    </tr>\n",
       "    <tr>\n",
       "      <th>75%</th>\n",
       "      <td>1.000000</td>\n",
       "      <td>68414.500000</td>\n",
       "      <td>1.120298e+06</td>\n",
       "      <td>67.264135</td>\n",
       "      <td>67.260857</td>\n",
       "    </tr>\n",
       "    <tr>\n",
       "      <th>max</th>\n",
       "      <td>6.000000</td>\n",
       "      <td>750000.000000</td>\n",
       "      <td>3.908606e+06</td>\n",
       "      <td>92.453905</td>\n",
       "      <td>92.073151</td>\n",
       "    </tr>\n",
       "  </tbody>\n",
       "</table>\n",
       "</div>"
      ],
      "text/plain": [
       "       No of Owner            Kms  on road price          Dep  Predicted_dep\n",
       "count  3858.000000    3858.000000   3.858000e+03  3858.000000    3858.000000\n",
       "mean      1.225505   56014.082167   9.355707e+05    54.393758      54.390957\n",
       "std       0.547417   38682.482324   5.591599e+05    17.174109      17.161194\n",
       "min       1.000000     863.000000   2.372747e+05     2.071667       2.271385\n",
       "25%       1.000000   38000.000000   5.415697e+05    42.224652      42.382694\n",
       "50%       1.000000   53000.000000   7.819281e+05    55.274488      55.280361\n",
       "75%       1.000000   68414.500000   1.120298e+06    67.264135      67.260857\n",
       "max       6.000000  750000.000000   3.908606e+06    92.453905      92.073151"
      ]
     },
     "execution_count": 123,
     "metadata": {},
     "output_type": "execute_result"
    }
   ],
   "source": [
    "df_sub.describe()"
   ]
  },
  {
   "cell_type": "code",
   "execution_count": 132,
   "metadata": {},
   "outputs": [],
   "source": [
    "df_sub.to_excel('../Datasets/Final_submission.xlsx',index=False)"
   ]
  },
  {
   "cell_type": "code",
   "execution_count": null,
   "metadata": {},
   "outputs": [],
   "source": []
  },
  {
   "cell_type": "code",
   "execution_count": null,
   "metadata": {},
   "outputs": [],
   "source": []
  }
 ],
 "metadata": {
  "kernelspec": {
   "display_name": "Python 3",
   "language": "python",
   "name": "python3"
  },
  "language_info": {
   "codemirror_mode": {
    "name": "ipython",
    "version": 3
   },
   "file_extension": ".py",
   "mimetype": "text/x-python",
   "name": "python",
   "nbconvert_exporter": "python",
   "pygments_lexer": "ipython3",
   "version": "3.6.5"
  }
 },
 "nbformat": 4,
 "nbformat_minor": 2
}
